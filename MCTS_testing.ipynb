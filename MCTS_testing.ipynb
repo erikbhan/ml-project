{
 "cells": [
  {
   "cell_type": "markdown",
   "metadata": {},
   "source": [
    "# Testing the different models produced in this project"
   ]
  },
  {
   "cell_type": "code",
   "execution_count": 3,
   "metadata": {},
   "outputs": [],
   "source": [
    "from joblib import Parallel, delayed\n",
    "import gym\n",
    "from src.MCTS import Monte_Carlo_Tree_Search\n",
    "from gym_go.gogame import random_action\n",
    "from copy import deepcopy"
   ]
  },
  {
   "cell_type": "code",
   "execution_count": 2,
   "metadata": {},
   "outputs": [
    {
     "name": "stdout",
     "output_type": "stream",
     "text": [
      "cuda:0\n"
     ]
    }
   ],
   "source": [
    "BOARD_SIZE = 5\n",
    "from warnings import filterwarnings\n",
    "filterwarnings(\"ignore\")"
   ]
  },
  {
   "cell_type": "markdown",
   "metadata": {},
   "source": [
    "### Testing win rates for MCTS vs Random"
   ]
  },
  {
   "cell_type": "code",
   "execution_count": 3,
   "metadata": {},
   "outputs": [],
   "source": [
    "def mcts_black_random_white(mcts : Monte_Carlo_Tree_Search, go_env: gym.Env):\n",
    "    go_env.reset()\n",
    "    done = go_env.done\n",
    "    turn_nr = 0\n",
    "    while not done:\n",
    "        node = mcts.get_move_from_env(go_env)\n",
    "        _, _, done, _ = go_env.step(node.action)\n",
    "        turn_nr += 1\n",
    "\n",
    "        if done:\n",
    "            continue\n",
    "\n",
    "        action = random_action(go_env.state())\n",
    "        _, _, done, _ = go_env.step(action)\n",
    "\n",
    "        if turn_nr > 300:\n",
    "            break\n",
    "    \n",
    "    return go_env\n",
    "\n",
    "def random_black_mcts_white(mcts : Monte_Carlo_Tree_Search, go_env: gym.Env):\n",
    "    go_env.reset()\n",
    "    done = go_env.done\n",
    "    turn_nr = 0\n",
    "    while not done:\n",
    "        action = random_action(go_env.state())\n",
    "        _, _, done, _ = go_env.step(action)\n",
    "\n",
    "        if done:\n",
    "            continue\n",
    "\n",
    "        node = mcts.get_move_from_env(go_env)\n",
    "        _, _, done, _ = go_env.step(node.action)\n",
    "        turn_nr += 1\n",
    "        \n",
    "        if turn_nr > 300:\n",
    "            break\n",
    "    \n",
    "    return go_env"
   ]
  },
  {
   "cell_type": "code",
   "execution_count": 4,
   "metadata": {},
   "outputs": [
    {
     "name": "stdout",
     "output_type": "stream",
     "text": [
      "Win rate as black: 0.0 %\n",
      "Win rate as white: 90.0 %\n"
     ]
    }
   ],
   "source": [
    "\n",
    "def play_black_game():\n",
    "    mcts_test = Monte_Carlo_Tree_Search(BOARD_SIZE, None)\n",
    "    env = mcts_black_random_white(mcts_test, deepcopy(mcts_test.env))\n",
    "    if env.reward() > 0:\n",
    "        return 1\n",
    "    return 0\n",
    "\n",
    "def play_white_game():\n",
    "    mcts_test = Monte_Carlo_Tree_Search(BOARD_SIZE, None)\n",
    "    env = random_black_mcts_white(mcts_test, deepcopy(mcts_test.env))\n",
    "    if env.reward() < 0:\n",
    "        return 1\n",
    "    return 0\n",
    "\n",
    "games = 100\n",
    "\n",
    "mcts_black_wins = Parallel(n_jobs=4)(delayed(play_black_game)() for _ in range(games))\n",
    "print(\"Win rate as black:\", ((sum(mcts_black_wins) / games) * 100), \"%\")\n",
    "mcts_white_wins = Parallel(n_jobs=4)(delayed(play_white_game)() for _ in range(games))\n",
    "print(\"Win rate as white:\", ((sum(mcts_white_wins) / games) * 100), \"%\")"
   ]
  }
 ],
 "metadata": {
  "kernelspec": {
   "display_name": "Python 3.10.7 ('ml-venv': venv)",
   "language": "python",
   "name": "python3"
  },
  "language_info": {
   "codemirror_mode": {
    "name": "ipython",
    "version": 3
   },
   "file_extension": ".py",
   "mimetype": "text/x-python",
   "name": "python",
   "nbconvert_exporter": "python",
   "pygments_lexer": "ipython3",
   "version": "3.10.7"
  },
  "orig_nbformat": 4,
  "vscode": {
   "interpreter": {
    "hash": "1c48e9d02fd8b77616e4eb406249914dfd12f6a6048a8be47690e9d71e734832"
   }
  }
 },
 "nbformat": 4,
 "nbformat_minor": 2
}
