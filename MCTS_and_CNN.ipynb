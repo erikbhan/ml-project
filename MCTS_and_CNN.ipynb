{
 "cells": [
  {
   "cell_type": "code",
   "execution_count": 67,
   "metadata": {},
   "outputs": [],
   "source": [
    "from copy import deepcopy\n",
    "from math import sqrt, log\n",
    "import gym, random\n",
    "import numpy as np"
   ]
  },
  {
   "cell_type": "code",
   "execution_count": 72,
   "metadata": {},
   "outputs": [],
   "source": [
    "BOARD_SIZE, KOMI, UCB_CONSTANT = 5, 0, 2"
   ]
  },
  {
   "cell_type": "code",
   "execution_count": 78,
   "metadata": {},
   "outputs": [
    {
     "name": "stdout",
     "output_type": "stream",
     "text": [
      "25.0\n"
     ]
    }
   ],
   "source": [
    "test_env = gym.make('gym_go:go-v0', size=BOARD_SIZE, komi=KOMI, reward_method='heuristic')\n",
    "test_env.reset()\n",
    "test_env.step(2)\n",
    "# test_env.render(\"terminal\")\n",
    "# print(np.argwhere(test_env.valid_moves()).flatten())\n",
    "print(test_env.reward())"
   ]
  },
  {
   "cell_type": "markdown",
   "metadata": {},
   "source": [
    "1. **Selection**: Start from root R and select successive child nodes until a leaf node L is reached. The root is the current game state and a leaf is any node that has a potential child from which no simulation (playout) has yet been initiated.\n",
    "2. **Expansion**: Unless L ends the game decisively (e.g. win/loss/draw) for either player, create one (or more) child nodes and choose node C from one of them. Child nodes are any valid moves from the game position defined by L.\n",
    "3. **Simulation**: Complete one random playout from node C. This step is sometimes also called playout or rollout. A playout may be as simple as choosing uniform random moves until the game is decided (for example in chess, the game is won, lost, or drawn).\n",
    "4. **Backpropagation**: Use the result of the playout to update information in the nodes on the path from C to R."
   ]
  },
  {
   "cell_type": "code",
   "execution_count": 79,
   "metadata": {},
   "outputs": [],
   "source": [
    "class Node():\n",
    "\n",
    "    def __init__(self, env, parent = None):\n",
    "        self.env = env\n",
    "        self.parent = parent\n",
    "        self.children = {}\n",
    "        self.trials = 0\n",
    "        self.value = 0\n",
    "\n",
    "    def is_leaf_node(self):\n",
    "        if self.env.done: return True\n",
    "        return len(self.children) == 0\n",
    "\n",
    "    def get_max_ucb_child(self, total_trials):\n",
    "        best_child = self.children[0]\n",
    "        best_child_ucb = best_child.ucb(total_trials)\n",
    "        for child in self.children:\n",
    "            child_ucb = child.ucb(total_trials)\n",
    "            if child_ucb > best_child_ucb:\n",
    "                best_child = child\n",
    "                best_child_ucb = child.ucb\n",
    "        return best_child\n",
    "\n",
    "    def ucb(self, total_trials):\n",
    "        return self.value + (UCB_CONSTANT * sqrt(log(total_trials) / self.trials))\n",
    "\n",
    "    def __backpropagate(self, value):\n",
    "        if self.parent == None: return\n",
    "        self.value += value\n",
    "        self.trials += 1\n",
    "        self.__backpropagate(self.parent, value)\n",
    "\n",
    "    def rollout(self):\n",
    "        if self.env.done: return self.env.reward()\n",
    "        rollout_env = deepcopy(self.env)\n",
    "        while not rollout_env.done:\n",
    "            rollout_env.step(rollout_env.uniform_random_action())\n",
    "        self.__backpropagate(self, rollout_env.reward())\n",
    "        return rollout_env.reward()\n",
    "        "
   ]
  },
  {
   "cell_type": "code",
   "execution_count": 86,
   "metadata": {},
   "outputs": [],
   "source": [
    "class MCTS():\n",
    "\n",
    "    def __init__(self, size = BOARD_SIZE, komi = KOMI):\n",
    "        env = gym.make('gym_go:go-v0', size=size, komi=komi, reward_method='heuristic')\n",
    "        env.reset()\n",
    "        self.root = Node(env)\n",
    "        self.iterations = 0\n",
    "\n",
    "    def run(self):\n",
    "        current_node = self.root\n",
    "        while True:\n",
    "            \n",
    "            if current_node.is_leaf_node() and current_node != self.root:\n",
    "                current_node = current_node.get_max_ucb_child()\n",
    "            elif current_node.trials == 0:\n",
    "                current_node.rollout()\n",
    "            else:\n",
    "                for action in np.argwhere(current_node.env.valid_moves()).flatten():\n",
    "                    child_env = deepcopy(current_node.env)\n",
    "                    child_env.step(action)\n",
    "                    current_node.children.add(Node(child_env, current_node))\n",
    "                current_node = random.choice(current_node.children)\n",
    "                current_node.rollout()\n",
    "\n",
    "    \n"
   ]
  },
  {
   "cell_type": "code",
   "execution_count": 87,
   "metadata": {},
   "outputs": [
    {
     "name": "stderr",
     "output_type": "stream",
     "text": [
      "c:\\Users\\erik\\miniconda3\\envs\\ml-project\\lib\\site-packages\\gym\\utils\\passive_env_checker.py:20: UserWarning: \u001b[33mWARN: It seems a Box observation space is an image but the `dtype` is not `np.uint8`, actual type: float32. If the Box observation space is not an image, we recommend flattening the observation to have only a 1D vector.\u001b[0m\n",
      "  logger.warn(\n",
      "c:\\Users\\erik\\miniconda3\\envs\\ml-project\\lib\\site-packages\\gym\\utils\\passive_env_checker.py:25: UserWarning: \u001b[33mWARN: It seems a Box observation space is an image but the upper and lower bounds are not in [0, 255]. Generally, CNN policies assume observations are within that range, so you may encounter an issue if the observation values are not.\u001b[0m\n",
      "  logger.warn(\n",
      "c:\\Users\\erik\\miniconda3\\envs\\ml-project\\lib\\site-packages\\gym\\utils\\passive_env_checker.py:174: UserWarning: \u001b[33mWARN: Future gym versions will require that `Env.reset` can be passed a `seed` instead of using `Env.seed` for resetting the environment random number generator.\u001b[0m\n",
      "  logger.warn(\n",
      "c:\\Users\\erik\\miniconda3\\envs\\ml-project\\lib\\site-packages\\gym\\utils\\passive_env_checker.py:187: UserWarning: \u001b[33mWARN: Future gym versions will require that `Env.reset` can be passed `options` to allow the environment initialisation to be passed additional information.\u001b[0m\n",
      "  logger.warn(\n",
      "c:\\Users\\erik\\miniconda3\\envs\\ml-project\\lib\\site-packages\\gym\\utils\\passive_env_checker.py:195: UserWarning: \u001b[33mWARN: The result returned by `env.reset()` was not a tuple of the form `(obs, info)`, where `obs` is a observation and `info` is a dictionary containing additional information. Actual type: `<class 'numpy.ndarray'>`\u001b[0m\n",
      "  logger.warn(\n",
      "c:\\Users\\erik\\miniconda3\\envs\\ml-project\\lib\\site-packages\\gym\\utils\\passive_env_checker.py:226: UserWarning: \u001b[33mWARN: Expects `done` signal to be a boolean, actual type: <class 'int'>\u001b[0m\n",
      "  logger.warn(\n",
      "c:\\Users\\erik\\miniconda3\\envs\\ml-project\\lib\\site-packages\\gym\\utils\\passive_env_checker.py:141: UserWarning: \u001b[33mWARN: The obs returned by the `step()` method was expecting numpy array dtype to be float32, actual type: float64\u001b[0m\n",
      "  logger.warn(\n",
      "c:\\Users\\erik\\miniconda3\\envs\\ml-project\\lib\\site-packages\\gym\\utils\\passive_env_checker.py:165: UserWarning: \u001b[33mWARN: The obs returned by the `step()` method is not within the observation space.\u001b[0m\n",
      "  logger.warn(f\"{pre} is not within the observation space.\")\n"
     ]
    },
    {
     "name": "stdout",
     "output_type": "stream",
     "text": [
      "Iteration  0\n",
      "Iteration  1\n",
      "Iteration  2\n",
      "Iteration  3\n",
      "Iteration  4\n",
      "Iteration  5\n",
      "Iteration  6\n",
      "Iteration  7\n",
      "Iteration  8\n",
      "Iteration  9\n",
      "Iteration 10\n",
      "Iteration 11\n",
      "Iteration 12\n",
      "Iteration 13\n",
      "Iteration 14\n",
      "Iteration 15\n",
      "Iteration 16\n",
      "Iteration 17\n",
      "Iteration 18\n",
      "Iteration 19\n",
      "Iteration 20\n",
      "Iteration 21\n",
      "Iteration 22\n",
      "Iteration 23\n",
      "Iteration 24\n",
      "Iteration 25\n",
      "Iteration 26\n",
      "Iteration 27\n",
      "Iteration 28\n",
      "Iteration 29\n",
      "Iteration 30\n",
      "Iteration 31\n",
      "Iteration 32\n",
      "Iteration 33\n",
      "Iteration 34\n",
      "Iteration 35\n",
      "Iteration 36\n",
      "Iteration 37\n",
      "Iteration 38\n",
      "Iteration 39\n",
      "Iteration 40\n",
      "Iteration 41\n",
      "Iteration 42\n",
      "Iteration 43\n",
      "Iteration 44\n",
      "Iteration 45\n",
      "Iteration 46\n",
      "Iteration 47\n",
      "Iteration 48\n",
      "Iteration 49\n",
      "Iteration 50\n",
      "Iteration 51\n",
      "Iteration 52\n",
      "Iteration 53\n",
      "Iteration 54\n",
      "Iteration 55\n",
      "Iteration 56\n",
      "Iteration 57\n",
      "Iteration 58\n",
      "Iteration 59\n",
      "Iteration 60\n",
      "Iteration 61\n",
      "Iteration 62\n",
      "Iteration 63\n",
      "Iteration 64\n",
      "Iteration 65\n",
      "Iteration 66\n",
      "Iteration 67\n",
      "Iteration 68\n",
      "Iteration 69\n",
      "Iteration 70\n",
      "Iteration 71\n",
      "Iteration 72\n",
      "Iteration 73\n",
      "Iteration 74\n",
      "Iteration 75\n",
      "Iteration 76\n",
      "Iteration 77\n",
      "Iteration 78\n",
      "Iteration 79\n",
      "Iteration 80\n",
      "Iteration 81\n",
      "Iteration 82\n",
      "Iteration 83\n",
      "Iteration 84\n",
      "Iteration 85\n",
      "Iteration 86\n",
      "Iteration 87\n",
      "Iteration 88\n",
      "Iteration 89\n",
      "Iteration 90\n",
      "Iteration 91\n",
      "Iteration 92\n",
      "Iteration 93\n",
      "Iteration 94\n",
      "Iteration 95\n",
      "Iteration 96\n",
      "Iteration 97\n",
      "Iteration 98\n",
      "Iteration 99\n",
      "\t0 1 2 3 4 \n",
      "0\t╔═╤═╤═╤═╗\n",
      "1\t╟─┼─┼─┼─╢\n",
      "2\t╟─┼─┼─┼─╢\n",
      "3\t╟─┼─┼─┼─╢\n",
      "4\t╚═╧═╧═╧═╝\n",
      "\tTurn: BLACK, Game State (ONGOING|PASSED|END): ONGOING\n",
      "\tBlack Area: 0, White Area: 0\n",
      "\n"
     ]
    },
    {
     "name": "stderr",
     "output_type": "stream",
     "text": [
      "c:\\Users\\erik\\miniconda3\\envs\\ml-project\\lib\\site-packages\\gym\\utils\\passive_env_checker.py:272: UserWarning: \u001b[33mWARN: No render modes was declared in the environment (env.metadata['render_modes'] is None or not defined), you may have trouble when calling `.render()`.\u001b[0m\n",
      "  logger.warn(\n"
     ]
    }
   ],
   "source": [
    "mcts = MCTS()\n",
    "mcts.run()"
   ]
  }
 ],
 "metadata": {
  "kernelspec": {
   "display_name": "Python 3.9.13 ('ml-project')",
   "language": "python",
   "name": "python3"
  },
  "language_info": {
   "codemirror_mode": {
    "name": "ipython",
    "version": 3
   },
   "file_extension": ".py",
   "mimetype": "text/x-python",
   "name": "python",
   "nbconvert_exporter": "python",
   "pygments_lexer": "ipython3",
   "version": "3.9.13"
  },
  "orig_nbformat": 4,
  "vscode": {
   "interpreter": {
    "hash": "554e4e9be84610b8cfdc647d12e0c13356c189fbf7b6128724357bba0c0ac4f1"
   }
  }
 },
 "nbformat": 4,
 "nbformat_minor": 2
}
