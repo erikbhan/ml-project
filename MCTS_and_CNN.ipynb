{
 "cells": [
  {
   "cell_type": "code",
   "execution_count": 73,
   "metadata": {},
   "outputs": [],
   "source": [
    "from copy import deepcopy\n",
    "from math import sqrt, log\n",
    "import gym, random\n",
    "import numpy as np"
   ]
  },
  {
   "cell_type": "code",
   "execution_count": 74,
   "metadata": {},
   "outputs": [],
   "source": [
    "BOARD_SIZE, KOMI, UCB_CONSTANT = 5, 0, 2"
   ]
  },
  {
   "cell_type": "code",
   "execution_count": 75,
   "metadata": {},
   "outputs": [
    {
     "name": "stdout",
     "output_type": "stream",
     "text": [
      "25.0\n"
     ]
    }
   ],
   "source": [
    "test_env = gym.make('gym_go:go-v0', size=BOARD_SIZE, komi=KOMI, reward_method='heuristic')\n",
    "test_env.reset()\n",
    "test_env.step(2)\n",
    "# test_env.render(\"terminal\")\n",
    "# print(np.argwhere(test_env.valid_moves()).flatten())\n",
    "print(test_env.reward())"
   ]
  },
  {
   "cell_type": "markdown",
   "metadata": {},
   "source": [
    "1. **Selection**: Start from root R and select successive child nodes until a leaf node L is reached. The root is the current game state and a leaf is any node that has a potential child from which no simulation (playout) has yet been initiated.\n",
    "2. **Expansion**: Unless L ends the game decisively (e.g. win/loss/draw) for either player, create one (or more) child nodes and choose node C from one of them. Child nodes are any valid moves from the game position defined by L.\n",
    "3. **Simulation**: Complete one random playout from node C. This step is sometimes also called playout or rollout. A playout may be as simple as choosing uniform random moves until the game is decided (for example in chess, the game is won, lost, or drawn).\n",
    "4. **Backpropagation**: Use the result of the playout to update information in the nodes on the path from C to R."
   ]
  },
  {
   "cell_type": "code",
   "execution_count": 76,
   "metadata": {},
   "outputs": [],
   "source": [
    "from math import inf\n",
    "\n",
    "\n",
    "class Node():\n",
    "\n",
    "    def __init__(self, env, parent = None):\n",
    "        self.env = env\n",
    "        self.parent = parent\n",
    "        self.children = []\n",
    "        self.trials = 0\n",
    "        self.value = 0\n",
    "\n",
    "    def is_leaf_node(self):\n",
    "        if self.env.done: return True\n",
    "        return len(self.children) == 0\n",
    "\n",
    "    def get_max_ucb_child(self, total_trials):\n",
    "        best_child = self.children[0]\n",
    "        if best_child.trials == 0:\n",
    "                return best_child\n",
    "        best_child_ucb = best_child.ucb(total_trials)\n",
    "        for child in self.children:\n",
    "            if child.trials == 0:\n",
    "                return child\n",
    "            child_ucb = child.ucb(total_trials)\n",
    "            if child_ucb > best_child_ucb:\n",
    "                best_child = child\n",
    "                best_child_ucb = child_ucb\n",
    "        return best_child\n",
    "\n",
    "    def ucb(self, total_trials):\n",
    "        return self.value + (UCB_CONSTANT * sqrt(log(total_trials) / self.trials))\n",
    "\n",
    "    def __backpropagate(self, value):\n",
    "        if self.parent == None: return\n",
    "        self.value += value\n",
    "        self.trials += 1\n",
    "        self.parent.__backpropagate(value)\n",
    "\n",
    "    def rollout(self):\n",
    "        if self.env.done: return self.env.reward()\n",
    "        rollout_env = deepcopy(self.env)\n",
    "        while not rollout_env.done:\n",
    "            rollout_env.step(rollout_env.uniform_random_action())\n",
    "        self.__backpropagate(rollout_env.reward())\n",
    "        return rollout_env.reward()\n",
    "        "
   ]
  },
  {
   "cell_type": "code",
   "execution_count": 77,
   "metadata": {},
   "outputs": [],
   "source": [
    "class MCTS():\n",
    "\n",
    "    def __init__(self, size = BOARD_SIZE, komi = KOMI):\n",
    "        env = gym.make('gym_go:go-v0', size=size, komi=komi, reward_method='heuristic')\n",
    "        env.reset()\n",
    "        self.root = Node(env)\n",
    "        self.iterations = 0\n",
    "\n",
    "    def run(self):\n",
    "        current_node = self.root\n",
    "        self.root.trials = 1\n",
    "        while not current_node.env.done:\n",
    "            if not current_node.is_leaf_node():\n",
    "                current_node = current_node.get_max_ucb_child(self.iterations)\n",
    "            elif current_node.trials == 0:\n",
    "                current_node.rollout()\n",
    "                current_node = self.root\n",
    "                self.iterations += 1\n",
    "            else:\n",
    "                for action in np.argwhere(current_node.env.valid_moves()).flatten():\n",
    "                    child_env = deepcopy(current_node.env)\n",
    "                    child_env.step(action)\n",
    "                    current_node.children.append(Node(child_env, current_node))\n",
    "                current_node = random.choice(current_node.children)\n",
    "                current_node.rollout()\n",
    "                current_node = self.root\n",
    "                self.iterations += 1"
   ]
  },
  {
   "cell_type": "code",
   "execution_count": 78,
   "metadata": {},
   "outputs": [],
   "source": [
    "mcts = MCTS()\n",
    "mcts.run()"
   ]
  }
 ],
 "metadata": {
  "kernelspec": {
   "display_name": "Python 3.10.7 ('ml-venv': venv)",
   "language": "python",
   "name": "python3"
  },
  "language_info": {
   "codemirror_mode": {
    "name": "ipython",
    "version": 3
   },
   "file_extension": ".py",
   "mimetype": "text/x-python",
   "name": "python",
   "nbconvert_exporter": "python",
   "pygments_lexer": "ipython3",
   "version": "3.10.7"
  },
  "orig_nbformat": 4,
  "vscode": {
   "interpreter": {
    "hash": "1c48e9d02fd8b77616e4eb406249914dfd12f6a6048a8be47690e9d71e734832"
   }
  }
 },
 "nbformat": 4,
 "nbformat_minor": 2
}
