{
 "cells": [
  {
   "cell_type": "code",
   "execution_count": 5,
   "metadata": {},
   "outputs": [],
   "source": [
    "import torch, gym, time\n",
    "import numpy as np\n",
    "import matplotlib.pyplot as plt\n",
    "from joblib import Parallel, delayed\n",
    "\n",
    "from src.CNN import CNN"
   ]
  },
  {
   "cell_type": "code",
   "execution_count": 6,
   "metadata": {},
   "outputs": [],
   "source": [
    "device = torch.device(\"cuda:0\" if torch.cuda.is_available() else \"cpu\")"
   ]
  },
  {
   "cell_type": "code",
   "execution_count": 7,
   "metadata": {},
   "outputs": [],
   "source": [
    "def play_game(black_player=None, white_player=None, max_moves=300):\n",
    "    go_env = gym.make('gym_go:go-v0', size=5, komi=0, reward_method='heuristic')\n",
    "    go_env.reset()\n",
    "\n",
    "    if black_player and white_player:\n",
    "        go_env.step(go_env.uniform_random_action())\n",
    "        go_env.step(go_env.uniform_random_action())\n",
    "\n",
    "    for _ in range(max_moves):\n",
    "        # Player 1's turn\n",
    "        if go_env.done: break\n",
    "        if black_player: \n",
    "            moves = black_player.forward(go_env.state()).detach().cpu().numpy() * go_env.valid_moves()\n",
    "            go_env.step(moves.argmax())\n",
    "        else: go_env.step(go_env.uniform_random_action())\n",
    "\n",
    "        # Player 2's turn\n",
    "        if go_env.done: break\n",
    "        if white_player: \n",
    "            moves = white_player.forward(go_env.state()).detach().cpu().numpy() * go_env.valid_moves()\n",
    "            go_env.step(moves.argmax())\n",
    "        else: go_env.step(go_env.uniform_random_action())\n",
    "    return go_env.reward()"
   ]
  },
  {
   "cell_type": "code",
   "execution_count": 8,
   "metadata": {},
   "outputs": [],
   "source": [
    "def get_win_percent(black_player=None, white_player=None, n_games=1000, max_moves=300):\n",
    "    black, white, draws = 0, 0, 0\n",
    "    # results = Parallel(n_jobs=6)(delayed(play_game)(black_player, white_player, max_moves) for _ in range(n_games))\n",
    "    for _ in range(n_games):\n",
    "        res = play_game(black_player, white_player, max_moves)\n",
    "        if res > 0: black += 1\n",
    "        elif res < 0: white += 1\n",
    "        else: draws += 1\n",
    "    return (black/n_games)*100, (white/n_games)*100, (draws/n_games)*100"
   ]
  },
  {
   "cell_type": "code",
   "execution_count": 9,
   "metadata": {},
   "outputs": [],
   "source": [
    "models = []\n",
    "for i in range(3, 5):\n",
    "    model = CNN()\n",
    "    model.to(device)\n",
    "    model.load_state_dict(torch.load(f\"src/models/1000-games/{i}-times.pth\"))\n",
    "    models.append(model)"
   ]
  },
  {
   "cell_type": "code",
   "execution_count": 21,
   "metadata": {},
   "outputs": [
    {
     "name": "stdout",
     "output_type": "stream",
     "text": [
      "Model 0:\n",
      "  0: b=39.10%, w=59.70%, d=1.20%, took 33.70 seconds\n",
      "  1: b=39.50%, w=58.30%, d=2.20%, took 45.28 seconds\n",
      "  2: b=36.40%, w=62.10%, d=1.50%, took 36.92 seconds\n",
      "  3: b=39.70%, w=58.90%, d=1.40%, took 29.38 seconds\n",
      "  4: b=39.20%, w=59.00%, d=1.80%, took 30.93 seconds\n",
      "Model 1:\n",
      "  0: b=40.20%, w=58.20%, d=1.60%, took 30.08 seconds\n",
      "  1: b=40.70%, w=58.30%, d=1.00%, took 31.88 seconds\n",
      "  2: b=38.70%, w=60.20%, d=1.10%, took 33.43 seconds\n",
      "  3: b=38.60%, w=60.70%, d=0.70%, took 30.33 seconds\n",
      "  4: b=38.60%, w=59.90%, d=1.50%, took 31.57 seconds\n",
      "Model 2:\n",
      "  0: b=41.10%, w=57.20%, d=1.70%, took 32.67 seconds\n",
      "  1: b=42.60%, w=55.90%, d=1.50%, took 32.73 seconds\n",
      "  2: b=39.60%, w=58.80%, d=1.60%, took 31.60 seconds\n",
      "  3: b=41.30%, w=57.20%, d=1.50%, took 31.09 seconds\n",
      "  4: b=40.40%, w=57.70%, d=1.90%, took 32.66 seconds\n",
      "Model 3:\n",
      "  0: b=41.80%, w=57.00%, d=1.20%, took 30.90 seconds\n",
      "  1: b=39.10%, w=58.80%, d=2.10%, took 35.45 seconds\n",
      "  2: b=38.60%, w=59.70%, d=1.70%, took 31.77 seconds\n"
     ]
    }
   ],
   "source": [
    "results = np.zeros((5, 5), dtype=tuple)\n",
    "\n",
    "for black_index, black_player in enumerate(models):\n",
    "    print(f\"Model {black_index}:\")\n",
    "    for white_index, white_player in enumerate(models):\n",
    "        start = time.time()\n",
    "        (black, white, draw) = get_win_percent(black_player, white_player, 167)\n",
    "        stop = time.time()\n",
    "        results[black_index][white_index] = black, white, draw\n",
    "        print(f\"  {white_index}: b={black:2.2f}%, w={white:2.2f}%, d={draw:2.2f}%, took {stop-start:4.2f} seconds\")"
   ]
  },
  {
   "cell_type": "code",
   "execution_count": 1,
   "metadata": {},
   "outputs": [
    {
     "ename": "NameError",
     "evalue": "name 'results' is not defined",
     "output_type": "error",
     "traceback": [
      "\u001b[1;31m---------------------------------------------------------------------------\u001b[0m",
      "\u001b[1;31mNameError\u001b[0m                                 Traceback (most recent call last)",
      "\u001b[1;32m~\\AppData\\Local\\Temp\\ipykernel_13004\\1894391688.py\u001b[0m in \u001b[0;36m<module>\u001b[1;34m\u001b[0m\n\u001b[1;32m----> 1\u001b[1;33m \u001b[0mprint\u001b[0m\u001b[1;33m(\u001b[0m\u001b[0mresults\u001b[0m\u001b[1;33m[\u001b[0m\u001b[1;36m0\u001b[0m\u001b[1;33m]\u001b[0m\u001b[1;33m[\u001b[0m\u001b[1;36m3\u001b[0m\u001b[1;33m]\u001b[0m\u001b[1;33m)\u001b[0m\u001b[1;33m\u001b[0m\u001b[1;33m\u001b[0m\u001b[0m\n\u001b[0m",
      "\u001b[1;31mNameError\u001b[0m: name 'results' is not defined"
     ]
    }
   ],
   "source": [
    "print(results[0][3])"
   ]
  }
 ],
 "metadata": {
  "kernelspec": {
   "display_name": "Python 3.7.15 ('ml2')",
   "language": "python",
   "name": "python3"
  },
  "language_info": {
   "codemirror_mode": {
    "name": "ipython",
    "version": 3
   },
   "file_extension": ".py",
   "mimetype": "text/x-python",
   "name": "python",
   "nbconvert_exporter": "python",
   "pygments_lexer": "ipython3",
   "version": "3.7.15"
  },
  "orig_nbformat": 4,
  "vscode": {
   "interpreter": {
    "hash": "bcb4a11841b46872ee11df9ca1f43eeee065535876db12c9a82fb397caea1117"
   }
  }
 },
 "nbformat": 4,
 "nbformat_minor": 2
}
