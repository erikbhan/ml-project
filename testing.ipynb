{
 "cells": [
  {
   "cell_type": "code",
   "execution_count": 2,
   "metadata": {},
   "outputs": [],
   "source": [
    "import torch, gym, time\n",
    "import numpy as np\n",
    "import matplotlib.pyplot as plt\n",
    "from joblib import Parallel, delayed\n",
    "\n",
    "from src.CNN import CNN"
   ]
  },
  {
   "cell_type": "code",
   "execution_count": 3,
   "metadata": {},
   "outputs": [],
   "source": [
    "device = torch.device(\"cuda:0\" if torch.cuda.is_available() else \"cpu\")"
   ]
  },
  {
   "cell_type": "code",
   "execution_count": 4,
   "metadata": {},
   "outputs": [],
   "source": [
    "def play_game(black_player=None, white_player=None, max_moves=300):\n",
    "    go_env = gym.make('gym_go:go-v0', size=5, komi=0, reward_method='heuristic')\n",
    "    go_env.reset()\n",
    "\n",
    "    if black_player and white_player:\n",
    "        go_env.step(go_env.uniform_random_action())\n",
    "        go_env.step(go_env.uniform_random_action())\n",
    "\n",
    "    for _ in range(max_moves):\n",
    "        # Player 1's turn\n",
    "        if go_env.done: break\n",
    "        if black_player: \n",
    "            moves = black_player.forward(go_env.state()).detach().cpu().numpy() * go_env.valid_moves()\n",
    "            go_env.step(moves.argmax())\n",
    "        else: go_env.step(go_env.uniform_random_action())\n",
    "\n",
    "        # Player 2's turn\n",
    "        if go_env.done: break\n",
    "        if white_player: \n",
    "            moves = white_player.forward(go_env.state()).detach().cpu().numpy() * go_env.valid_moves()\n",
    "            go_env.step(moves.argmax())\n",
    "        else: go_env.step(go_env.uniform_random_action())\n",
    "    return go_env.reward()"
   ]
  },
  {
   "cell_type": "code",
   "execution_count": 5,
   "metadata": {},
   "outputs": [],
   "source": [
    "def get_win_percent(black_player=None, white_player=None, n_games=1000, max_moves=300):\n",
    "    black, white, draws = 0, 0, 0\n",
    "    # results = Parallel(n_jobs=6)(delayed(play_game)(black_player, white_player, max_moves) for _ in range(n_games))\n",
    "    for _ in range(n_games):\n",
    "        res = play_game(black_player, white_player, max_moves)\n",
    "        if res > 0: black += 1\n",
    "        elif res < 0: white += 1\n",
    "        else: draws += 1\n",
    "    return (black/n_games)*100, (white/n_games)*100, (draws/n_games)*100"
   ]
  },
  {
   "cell_type": "code",
   "execution_count": 6,
   "metadata": {},
   "outputs": [],
   "source": [
    "models = []\n",
    "for i in range(5):\n",
    "    model = CNN()\n",
    "    model.to(device)\n",
    "    model.load_state_dict(torch.load(f\"src/models/1000-games/{i}-times.pth\"))\n",
    "    models.append(model)"
   ]
  },
  {
   "cell_type": "code",
   "execution_count": 7,
   "metadata": {},
   "outputs": [
    {
     "name": "stdout",
     "output_type": "stream",
     "text": [
      "Model 0:\n"
     ]
    },
    {
     "name": "stderr",
     "output_type": "stream",
     "text": [
      "c:\\Users\\erik\\miniconda3\\envs\\ml2\\lib\\site-packages\\gym\\utils\\passive_env_checker.py:21: UserWarning: \u001b[33mWARN: It seems a Box observation space is an image but the `dtype` is not `np.uint8`, actual type: float32. If the Box observation space is not an image, we recommend flattening the observation to have only a 1D vector.\u001b[0m\n",
      "  f\"It seems a Box observation space is an image but the `dtype` is not `np.uint8`, actual type: {observation_space.dtype}. \"\n",
      "c:\\Users\\erik\\miniconda3\\envs\\ml2\\lib\\site-packages\\gym\\utils\\passive_env_checker.py:26: UserWarning: \u001b[33mWARN: It seems a Box observation space is an image but the upper and lower bounds are not in [0, 255]. Generally, CNN policies assume observations are within that range, so you may encounter an issue if the observation values are not.\u001b[0m\n",
      "  \"It seems a Box observation space is an image but the upper and lower bounds are not in [0, 255]. \"\n",
      "c:\\Users\\erik\\miniconda3\\envs\\ml2\\lib\\site-packages\\gym\\core.py:318: DeprecationWarning: \u001b[33mWARN: Initializing wrapper in old step API which returns one bool instead of two. It is recommended to set `new_step_api=True` to use new step API. This will be the default behaviour in future.\u001b[0m\n",
      "  \"Initializing wrapper in old step API which returns one bool instead of two. It is recommended to set `new_step_api=True` to use new step API. This will be the default behaviour in future.\"\n",
      "c:\\Users\\erik\\miniconda3\\envs\\ml2\\lib\\site-packages\\gym\\wrappers\\step_api_compatibility.py:40: DeprecationWarning: \u001b[33mWARN: Initializing environment in old step API which returns one bool instead of two. It is recommended to set `new_step_api=True` to use new step API. This will be the default behaviour in future.\u001b[0m\n",
      "  \"Initializing environment in old step API which returns one bool instead of two. It is recommended to set `new_step_api=True` to use new step API. This will be the default behaviour in future.\"\n",
      "c:\\Users\\erik\\miniconda3\\envs\\ml2\\lib\\site-packages\\gym\\utils\\passive_env_checker.py:175: UserWarning: \u001b[33mWARN: Future gym versions will require that `Env.reset` can be passed a `seed` instead of using `Env.seed` for resetting the environment random number generator.\u001b[0m\n",
      "  \"Future gym versions will require that `Env.reset` can be passed a `seed` instead of using `Env.seed` for resetting the environment random number generator.\"\n",
      "c:\\Users\\erik\\miniconda3\\envs\\ml2\\lib\\site-packages\\gym\\utils\\passive_env_checker.py:191: UserWarning: \u001b[33mWARN: Future gym versions will require that `Env.reset` can be passed `return_info` to return information from the environment resetting.\u001b[0m\n",
      "  \"Future gym versions will require that `Env.reset` can be passed `return_info` to return information from the environment resetting.\"\n",
      "c:\\Users\\erik\\miniconda3\\envs\\ml2\\lib\\site-packages\\gym\\utils\\passive_env_checker.py:196: UserWarning: \u001b[33mWARN: Future gym versions will require that `Env.reset` can be passed `options` to allow the environment initialisation to be passed additional information.\u001b[0m\n",
      "  \"Future gym versions will require that `Env.reset` can be passed `options` to allow the environment initialisation to be passed additional information.\"\n",
      "c:\\Users\\erik\\miniconda3\\envs\\ml2\\lib\\site-packages\\gym\\utils\\passive_env_checker.py:142: UserWarning: \u001b[33mWARN: The obs returned by the `reset()` method was expecting numpy array dtype to be float32, actual type: float64\u001b[0m\n",
      "  f\"{pre} was expecting numpy array dtype to be {observation_space.dtype}, actual type: {obs.dtype}\"\n",
      "c:\\Users\\erik\\miniconda3\\envs\\ml2\\lib\\site-packages\\gym\\utils\\passive_env_checker.py:165: UserWarning: \u001b[33mWARN: The obs returned by the `reset()` method is not within the observation space.\u001b[0m\n",
      "  logger.warn(f\"{pre} is not within the observation space.\")\n",
      "c:\\Users\\erik\\miniconda3\\envs\\ml2\\lib\\site-packages\\gym\\utils\\passive_env_checker.py:228: DeprecationWarning: \u001b[33mWARN: Core environment is written in old step API which returns one bool instead of two. It is recommended to rewrite the environment with new step API. \u001b[0m\n",
      "  \"Core environment is written in old step API which returns one bool instead of two. \"\n",
      "c:\\Users\\erik\\miniconda3\\envs\\ml2\\lib\\site-packages\\gym\\utils\\passive_env_checker.py:235: UserWarning: \u001b[33mWARN: Expects `done` signal to be a boolean, actual type: <class 'int'>\u001b[0m\n",
      "  f\"Expects `done` signal to be a boolean, actual type: {type(done)}\"\n",
      "c:\\Users\\erik\\miniconda3\\envs\\ml2\\lib\\site-packages\\gym\\utils\\passive_env_checker.py:142: UserWarning: \u001b[33mWARN: The obs returned by the `step()` method was expecting numpy array dtype to be float32, actual type: float64\u001b[0m\n",
      "  f\"{pre} was expecting numpy array dtype to be {observation_space.dtype}, actual type: {obs.dtype}\"\n",
      "c:\\Users\\erik\\miniconda3\\envs\\ml2\\lib\\site-packages\\gym\\utils\\passive_env_checker.py:165: UserWarning: \u001b[33mWARN: The obs returned by the `step()` method is not within the observation space.\u001b[0m\n",
      "  logger.warn(f\"{pre} is not within the observation space.\")\n",
      "c:\\Users\\erik\\dev\\ml-project\\src\\CNN.py:24: UserWarning: Implicit dimension choice for softmax has been deprecated. Change the call to include dim=X as an argument.\n",
      "  x = F.softmax(self.fc1(x))\n"
     ]
    },
    {
     "name": "stdout",
     "output_type": "stream",
     "text": [
      "  0: b=37.72%, w=61.08%, d=1.20%, took 22.61 seconds\n",
      "  1: b=35.33%, w=62.87%, d=1.80%, took 41.77 seconds\n",
      "  2: b=43.71%, w=53.89%, d=2.40%, took 32.34 seconds\n",
      "  3: b=35.33%, w=61.68%, d=2.99%, took 34.89 seconds\n",
      "  4: b=41.92%, w=56.89%, d=1.20%, took 21.36 seconds\n",
      "Model 1:\n",
      "  0: b=38.92%, w=61.08%, d=0.00%, took 22.72 seconds\n",
      "  1: b=43.11%, w=53.89%, d=2.99%, took 34.47 seconds\n",
      "  2: b=29.34%, w=68.86%, d=1.80%, took 30.03 seconds\n",
      "  3: b=43.71%, w=55.69%, d=0.60%, took 27.97 seconds\n",
      "  4: b=37.72%, w=60.48%, d=1.80%, took 24.53 seconds\n",
      "Model 2:\n",
      "  0: b=40.12%, w=59.28%, d=0.60%, took 23.28 seconds\n",
      "  1: b=41.32%, w=57.49%, d=1.20%, took 23.68 seconds\n",
      "  2: b=40.72%, w=59.28%, d=0.00%, took 22.84 seconds\n",
      "  3: b=44.91%, w=53.89%, d=1.20%, took 29.65 seconds\n",
      "  4: b=40.12%, w=58.08%, d=1.80%, took 30.87 seconds\n",
      "Model 3:\n",
      "  0: b=36.53%, w=61.68%, d=1.80%, took 29.31 seconds\n",
      "  1: b=36.53%, w=61.08%, d=2.40%, took 32.99 seconds\n",
      "  2: b=40.72%, w=58.68%, d=0.60%, took 25.10 seconds\n",
      "  3: b=37.72%, w=62.28%, d=0.00%, took 25.11 seconds\n",
      "  4: b=41.32%, w=55.09%, d=3.59%, took 42.41 seconds\n",
      "Model 4:\n",
      "  0: b=44.91%, w=53.29%, d=1.80%, took 21.85 seconds\n",
      "  1: b=35.33%, w=64.07%, d=0.60%, took 19.65 seconds\n",
      "  2: b=32.93%, w=65.27%, d=1.80%, took 26.33 seconds\n",
      "  3: b=37.72%, w=61.08%, d=1.20%, took 26.67 seconds\n",
      "  4: b=35.93%, w=63.47%, d=0.60%, took 21.00 seconds\n"
     ]
    }
   ],
   "source": [
    "results = Parallel(n_jobs=6)(delayed(get_win_percent)(b, w) for b in models for w in models)"
   ]
  },
  {
   "cell_type": "code",
   "execution_count": 8,
   "metadata": {},
   "outputs": [
    {
     "name": "stdout",
     "output_type": "stream",
     "text": [
      "(35.32934131736527, 61.67664670658682, 2.9940119760479043)\n"
     ]
    }
   ],
   "source": [
    "# Using Numpy to create an array X\n",
    "loss_values = np.arange(0, math.pi*2, 0.05)\n",
    "# Assign variables to the y axis part of the curve\n",
    "y = np.sin(X)\n",
    "z = np.cos(X)\n",
    "# Plotting both the curves simultaneously\n",
    "plt.plot(X, y, color='r', label='sin')\n",
    "plt.plot(X, z, color='g', label='cos')\n",
    "# Naming the x-axis, y-axis and the whole graph\n",
    "plt.xlabel(\"Angle\")\n",
    "plt.ylabel(\"Magnitude\")\n",
    "plt.title(\"Sine and Cosine functions\")\n",
    "# Adding legend, which helps us recognize the curve according to it's color\n",
    "plt.legend()\n",
    "# To load the display window\n",
    "plt.show()"
   ]
  }
 ],
 "metadata": {
  "kernelspec": {
   "display_name": "Python 3.7.15 ('ml2')",
   "language": "python",
   "name": "python3"
  },
  "language_info": {
   "codemirror_mode": {
    "name": "ipython",
    "version": 3
   },
   "file_extension": ".py",
   "mimetype": "text/x-python",
   "name": "python",
   "nbconvert_exporter": "python",
   "pygments_lexer": "ipython3",
   "version": "3.7.15"
  },
  "orig_nbformat": 4,
  "vscode": {
   "interpreter": {
    "hash": "bcb4a11841b46872ee11df9ca1f43eeee065535876db12c9a82fb397caea1117"
   }
  }
 },
 "nbformat": 4,
 "nbformat_minor": 2
}
