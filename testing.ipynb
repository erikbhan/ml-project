{
 "cells": [
  {
   "cell_type": "code",
   "execution_count": 5,
   "metadata": {},
   "outputs": [],
   "source": [
    "import torch, gym, time\n",
    "import numpy as np\n",
    "import matplotlib.pyplot as plt\n",
    "from joblib import Parallel, delayed\n",
    "\n",
    "from src.CNN import CNN"
   ]
  },
  {
   "cell_type": "code",
   "execution_count": 6,
   "metadata": {},
   "outputs": [],
   "source": [
    "device = torch.device(\"cuda:0\" if torch.cuda.is_available() else \"cpu\")"
   ]
  },
  {
   "cell_type": "code",
   "execution_count": 7,
   "metadata": {},
   "outputs": [],
   "source": [
    "def play_game(black_player=None, white_player=None, max_moves=300):\n",
    "    go_env = gym.make('gym_go:go-v0', size=5, komi=0, reward_method='heuristic')\n",
    "    go_env.reset()\n",
    "\n",
    "    if black_player and white_player:\n",
    "        go_env.step(go_env.uniform_random_action())\n",
    "        go_env.step(go_env.uniform_random_action())\n",
    "\n",
    "    for _ in range(max_moves):\n",
    "        # Player 1's turn\n",
    "        if go_env.done: break\n",
    "        if black_player: \n",
    "            moves = black_player.forward(go_env.state()).detach().cpu().numpy() * go_env.valid_moves()\n",
    "            go_env.step(moves.argmax())\n",
    "        else: go_env.step(go_env.uniform_random_action())\n",
    "\n",
    "        # Player 2's turn\n",
    "        if go_env.done: break\n",
    "        if white_player: \n",
    "            moves = white_player.forward(go_env.state()).detach().cpu().numpy() * go_env.valid_moves()\n",
    "            go_env.step(moves.argmax())\n",
    "        else: go_env.step(go_env.uniform_random_action())\n",
    "    return go_env.reward()"
   ]
  },
  {
   "cell_type": "code",
   "execution_count": 8,
   "metadata": {},
   "outputs": [],
   "source": [
    "def get_win_percent(black_player=None, white_player=None, n_games=1000, max_moves=300):\n",
    "    black, white, draws = 0, 0, 0\n",
    "    # results = Parallel(n_jobs=6)(delayed(play_game)(black_player, white_player, max_moves) for _ in range(n_games))\n",
    "    for _ in range(n_games):\n",
    "        res = play_game(black_player, white_player, max_moves)\n",
    "        if res > 0: black += 1\n",
    "        elif res < 0: white += 1\n",
    "        else: draws += 1\n",
    "    return (black/n_games)*100, (white/n_games)*100, (draws/n_games)*100"
   ]
  },
  {
   "cell_type": "code",
   "execution_count": 9,
   "metadata": {},
   "outputs": [],
   "source": [
    "models = []\n",
    "for i in range(3, 5):\n",
    "    model = CNN()\n",
    "    model.to(device)\n",
    "    model.load_state_dict(torch.load(f\"src/models/1000-games/{i}-times.pth\"))\n",
    "    models.append(model)"
   ]
  },
  {
   "cell_type": "code",
   "execution_count": 10,
   "metadata": {},
   "outputs": [
    {
     "name": "stdout",
     "output_type": "stream",
     "text": [
      "Model 0:\n"
     ]
    },
    {
     "name": "stderr",
     "output_type": "stream",
     "text": [
      "c:\\Users\\erik\\miniconda3\\envs\\ml2\\lib\\site-packages\\gym\\utils\\passive_env_checker.py:21: UserWarning: \u001b[33mWARN: It seems a Box observation space is an image but the `dtype` is not `np.uint8`, actual type: float32. If the Box observation space is not an image, we recommend flattening the observation to have only a 1D vector.\u001b[0m\n",
      "  f\"It seems a Box observation space is an image but the `dtype` is not `np.uint8`, actual type: {observation_space.dtype}. \"\n",
      "c:\\Users\\erik\\miniconda3\\envs\\ml2\\lib\\site-packages\\gym\\utils\\passive_env_checker.py:26: UserWarning: \u001b[33mWARN: It seems a Box observation space is an image but the upper and lower bounds are not in [0, 255]. Generally, CNN policies assume observations are within that range, so you may encounter an issue if the observation values are not.\u001b[0m\n",
      "  \"It seems a Box observation space is an image but the upper and lower bounds are not in [0, 255]. \"\n",
      "c:\\Users\\erik\\miniconda3\\envs\\ml2\\lib\\site-packages\\gym\\core.py:318: DeprecationWarning: \u001b[33mWARN: Initializing wrapper in old step API which returns one bool instead of two. It is recommended to set `new_step_api=True` to use new step API. This will be the default behaviour in future.\u001b[0m\n",
      "  \"Initializing wrapper in old step API which returns one bool instead of two. It is recommended to set `new_step_api=True` to use new step API. This will be the default behaviour in future.\"\n",
      "c:\\Users\\erik\\miniconda3\\envs\\ml2\\lib\\site-packages\\gym\\wrappers\\step_api_compatibility.py:40: DeprecationWarning: \u001b[33mWARN: Initializing environment in old step API which returns one bool instead of two. It is recommended to set `new_step_api=True` to use new step API. This will be the default behaviour in future.\u001b[0m\n",
      "  \"Initializing environment in old step API which returns one bool instead of two. It is recommended to set `new_step_api=True` to use new step API. This will be the default behaviour in future.\"\n",
      "c:\\Users\\erik\\miniconda3\\envs\\ml2\\lib\\site-packages\\gym\\utils\\passive_env_checker.py:175: UserWarning: \u001b[33mWARN: Future gym versions will require that `Env.reset` can be passed a `seed` instead of using `Env.seed` for resetting the environment random number generator.\u001b[0m\n",
      "  \"Future gym versions will require that `Env.reset` can be passed a `seed` instead of using `Env.seed` for resetting the environment random number generator.\"\n",
      "c:\\Users\\erik\\miniconda3\\envs\\ml2\\lib\\site-packages\\gym\\utils\\passive_env_checker.py:191: UserWarning: \u001b[33mWARN: Future gym versions will require that `Env.reset` can be passed `return_info` to return information from the environment resetting.\u001b[0m\n",
      "  \"Future gym versions will require that `Env.reset` can be passed `return_info` to return information from the environment resetting.\"\n",
      "c:\\Users\\erik\\miniconda3\\envs\\ml2\\lib\\site-packages\\gym\\utils\\passive_env_checker.py:196: UserWarning: \u001b[33mWARN: Future gym versions will require that `Env.reset` can be passed `options` to allow the environment initialisation to be passed additional information.\u001b[0m\n",
      "  \"Future gym versions will require that `Env.reset` can be passed `options` to allow the environment initialisation to be passed additional information.\"\n",
      "c:\\Users\\erik\\miniconda3\\envs\\ml2\\lib\\site-packages\\gym\\utils\\passive_env_checker.py:142: UserWarning: \u001b[33mWARN: The obs returned by the `reset()` method was expecting numpy array dtype to be float32, actual type: float64\u001b[0m\n",
      "  f\"{pre} was expecting numpy array dtype to be {observation_space.dtype}, actual type: {obs.dtype}\"\n",
      "c:\\Users\\erik\\miniconda3\\envs\\ml2\\lib\\site-packages\\gym\\utils\\passive_env_checker.py:165: UserWarning: \u001b[33mWARN: The obs returned by the `reset()` method is not within the observation space.\u001b[0m\n",
      "  logger.warn(f\"{pre} is not within the observation space.\")\n",
      "c:\\Users\\erik\\miniconda3\\envs\\ml2\\lib\\site-packages\\gym\\utils\\passive_env_checker.py:228: DeprecationWarning: \u001b[33mWARN: Core environment is written in old step API which returns one bool instead of two. It is recommended to rewrite the environment with new step API. \u001b[0m\n",
      "  \"Core environment is written in old step API which returns one bool instead of two. \"\n",
      "c:\\Users\\erik\\miniconda3\\envs\\ml2\\lib\\site-packages\\gym\\utils\\passive_env_checker.py:235: UserWarning: \u001b[33mWARN: Expects `done` signal to be a boolean, actual type: <class 'int'>\u001b[0m\n",
      "  f\"Expects `done` signal to be a boolean, actual type: {type(done)}\"\n",
      "c:\\Users\\erik\\miniconda3\\envs\\ml2\\lib\\site-packages\\gym\\utils\\passive_env_checker.py:142: UserWarning: \u001b[33mWARN: The obs returned by the `step()` method was expecting numpy array dtype to be float32, actual type: float64\u001b[0m\n",
      "  f\"{pre} was expecting numpy array dtype to be {observation_space.dtype}, actual type: {obs.dtype}\"\n",
      "c:\\Users\\erik\\miniconda3\\envs\\ml2\\lib\\site-packages\\gym\\utils\\passive_env_checker.py:165: UserWarning: \u001b[33mWARN: The obs returned by the `step()` method is not within the observation space.\u001b[0m\n",
      "  logger.warn(f\"{pre} is not within the observation space.\")\n",
      "c:\\Users\\erik\\dev\\ml-project\\src\\CNN.py:24: UserWarning: Implicit dimension choice for softmax has been deprecated. Change the call to include dim=X as an argument.\n",
      "  x = F.softmax(self.fc1(x))\n"
     ]
    },
    {
     "name": "stdout",
     "output_type": "stream",
     "text": [
      "  0: b=36.53%, w=62.87%, d=0.60%, took 25.98 seconds\n",
      "  1: b=38.92%, w=59.28%, d=1.80%, took 20.66 seconds\n",
      "  2: b=32.93%, w=65.87%, d=1.20%, took 19.97 seconds\n",
      "  3: b=44.31%, w=54.49%, d=1.20%, took 21.01 seconds\n",
      "  4: b=37.13%, w=62.87%, d=0.00%, took 20.42 seconds\n",
      "Model 1:\n",
      "  0: b=41.92%, w=58.08%, d=0.00%, took 20.19 seconds\n"
     ]
    }
   ],
   "source": [
    "results = np.zeros((5, 5), dtype=tuple)\n",
    "\n",
    "for black_index, black_player in enumerate(models):\n",
    "    print(f\"Model {black_index}:\")\n",
    "    for white_index, white_player in enumerate(models):\n",
    "        start = time.time()\n",
    "        (black, white, draw) = get_win_percent(black_player, white_player, 167)\n",
    "        stop = time.time()\n",
    "        results[black_index][white_index] = black, white, draw\n",
    "        print(f\"  {white_index}: b={black:2.2f}%, w={white:2.2f}%, d={draw:2.2f}%, took {stop-start:4.2f} seconds\")"
   ]
  },
  {
   "cell_type": "code",
   "execution_count": 1,
   "metadata": {},
   "outputs": [
    {
     "ename": "NameError",
     "evalue": "name 'results' is not defined",
     "output_type": "error",
     "traceback": [
      "\u001b[1;31m---------------------------------------------------------------------------\u001b[0m",
      "\u001b[1;31mNameError\u001b[0m                                 Traceback (most recent call last)",
      "\u001b[1;32m~\\AppData\\Local\\Temp\\ipykernel_13004\\1894391688.py\u001b[0m in \u001b[0;36m<module>\u001b[1;34m\u001b[0m\n\u001b[1;32m----> 1\u001b[1;33m \u001b[0mprint\u001b[0m\u001b[1;33m(\u001b[0m\u001b[0mresults\u001b[0m\u001b[1;33m[\u001b[0m\u001b[1;36m0\u001b[0m\u001b[1;33m]\u001b[0m\u001b[1;33m[\u001b[0m\u001b[1;36m3\u001b[0m\u001b[1;33m]\u001b[0m\u001b[1;33m)\u001b[0m\u001b[1;33m\u001b[0m\u001b[1;33m\u001b[0m\u001b[0m\n\u001b[0m",
      "\u001b[1;31mNameError\u001b[0m: name 'results' is not defined"
     ]
    }
   ],
   "source": [
    "print(results[0][3])"
   ]
  }
 ],
 "metadata": {
  "kernelspec": {
   "display_name": "Python 3.7.15 ('ml2')",
   "language": "python",
   "name": "python3"
  },
  "language_info": {
   "codemirror_mode": {
    "name": "ipython",
    "version": 3
   },
   "file_extension": ".py",
   "mimetype": "text/x-python",
   "name": "python",
   "nbconvert_exporter": "python",
   "pygments_lexer": "ipython3",
   "version": "3.7.15"
  },
  "orig_nbformat": 4,
  "vscode": {
   "interpreter": {
    "hash": "bcb4a11841b46872ee11df9ca1f43eeee065535876db12c9a82fb397caea1117"
   }
  }
 },
 "nbformat": 4,
 "nbformat_minor": 2
}
