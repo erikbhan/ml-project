{
 "cells": [
  {
   "cell_type": "code",
   "execution_count": 1,
   "metadata": {},
   "outputs": [],
   "source": [
    "import torch, gym\n",
    "from joblib import Parallel, delayed\n",
    "import pandas as pd\n",
    "\n",
    "from src.CNN import CNN"
   ]
  },
  {
   "cell_type": "code",
   "execution_count": 2,
   "metadata": {},
   "outputs": [],
   "source": [
    "device = torch.device(\"cuda:0\" if torch.cuda.is_available() else \"cpu\")\n",
    "from warnings import filterwarnings\n",
    "filterwarnings(\"ignore\")"
   ]
  },
  {
   "cell_type": "code",
   "execution_count": 3,
   "metadata": {},
   "outputs": [],
   "source": [
    "def play_game(black_player=None, white_player=None, max_moves=300):\n",
    "    go_env = gym.make('gym_go:go-v0', size=5, komi=0, reward_method='heuristic')\n",
    "    go_env.reset()\n",
    "\n",
    "    if black_player and white_player:\n",
    "        go_env.step(go_env.uniform_random_action())\n",
    "        go_env.step(go_env.uniform_random_action())\n",
    "\n",
    "    for _ in range(max_moves):\n",
    "        # Player 1's turn\n",
    "        if go_env.done: break\n",
    "        if black_player: \n",
    "            moves = black_player.forward(go_env.state()).detach().cpu().numpy() * go_env.valid_moves()\n",
    "            go_env.step(moves.argmax())\n",
    "        else: go_env.step(go_env.uniform_random_action())\n",
    "\n",
    "        # Player 2's turn\n",
    "        if go_env.done: break\n",
    "        if white_player: \n",
    "            moves = white_player.forward(go_env.state()).detach().cpu().numpy() * go_env.valid_moves()\n",
    "            go_env.step(moves.argmax())\n",
    "        else: go_env.step(go_env.uniform_random_action())\n",
    "    return go_env.reward()"
   ]
  },
  {
   "cell_type": "code",
   "execution_count": 4,
   "metadata": {},
   "outputs": [],
   "source": [
    "def get_win_percent(black_player=None, white_player=None, n_games=1000, max_moves=300):\n",
    "    black, white, draws = 0, 0, 0\n",
    "    results = Parallel(n_jobs=6)(delayed(play_game)(black_player, white_player, max_moves) for _ in range(n_games))\n",
    "    for i in range(n_games):\n",
    "        res = results[i]\n",
    "        if res > 0: black += 1\n",
    "        elif res < 0: white += 1\n",
    "        else: draws += 1\n",
    "    return (black/n_games)*100, (white/n_games)*100, (draws/n_games)*100"
   ]
  },
  {
   "cell_type": "code",
   "execution_count": 5,
   "metadata": {},
   "outputs": [],
   "source": [
    "models = []\n",
    "for i in range(5):\n",
    "    model = CNN()\n",
    "    model.to(device)\n",
    "    model.load_state_dict(torch.load(f\"src/models/1000-games/{i}-times.pth\"))\n",
    "    models.append(model)"
   ]
  },
  {
   "cell_type": "code",
   "execution_count": 6,
   "metadata": {},
   "outputs": [],
   "source": [
    "results = Parallel(n_jobs=6)(delayed(get_win_percent)(b, w) for b in models for w in models)"
   ]
  },
  {
   "cell_type": "code",
   "execution_count": null,
   "metadata": {},
   "outputs": [],
   "source": [
    "brandom = Parallel(n_jobs=3)(delayed(get_win_percent)(b) for b in models)\n",
    "wrandom = Parallel(n_jobs=3)(delayed(get_win_percent)(None, w) for w in models)"
   ]
  },
  {
   "cell_type": "code",
   "execution_count": 7,
   "metadata": {},
   "outputs": [
    {
     "name": "stdout",
     "output_type": "stream",
     "text": [
      "[(39.1, 58.9, 2.0), (38.800000000000004, 59.199999999999996, 2.0), (39.900000000000006, 58.699999999999996, 1.4000000000000001), (41.0, 56.699999999999996, 2.3), (38.1, 59.4, 2.5), (39.0, 59.4, 1.6), (36.0, 62.8, 1.2), (39.6, 58.199999999999996, 2.1999999999999997), (40.8, 57.099999999999994, 2.1), (37.4, 61.0, 1.6), (40.9, 56.99999999999999, 2.1), (37.7, 60.9, 1.4000000000000001), (41.199999999999996, 56.39999999999999, 2.4), (39.1, 59.099999999999994, 1.7999999999999998), (39.2, 59.199999999999996, 1.6), (37.7, 60.199999999999996, 2.1), (40.9, 56.89999999999999, 2.1999999999999997), (40.699999999999996, 57.4, 1.9), (38.3, 59.4, 2.3), (40.8, 56.89999999999999, 2.3), (40.400000000000006, 57.699999999999996, 1.9), (41.099999999999994, 57.4, 1.5), (44.2, 53.300000000000004, 2.5), (39.5, 57.99999999999999, 2.5), (36.8, 60.9, 2.3)]\n"
     ]
    }
   ],
   "source": [
    "array = []\n",
    "for res in results:\n",
    "    array.append([res[0],res[1],res[2]])\n",
    "\n",
    "df = pd.DataFrame(array)\n",
    "df.to_excel(\"winrates.xlsx\")"
   ]
  },
  {
   "cell_type": "code",
   "execution_count": 1,
   "metadata": {},
   "outputs": [
    {
     "name": "stdout",
     "output_type": "stream",
     "text": [
      "Model 0 playing as black vs:\n",
      "    Model 0: Black winrate: 39.1, White winrate: 58.9, Drawrate: 2.0\n",
      "    Model 1: Black winrate: 38.8, White winrate: 59.2, Drawrate: 2.0\n",
      "    Model 2: Black winrate: 39.9, White winrate: 58.7, Drawrate: 1.4\n",
      "    Model 3: Black winrate: 41.0, White winrate: 56.7, Drawrate: 2.3\n",
      "    Model 4: Black winrate: 38.1, White winrate: 59.4, Drawrate: 2.5\n",
      "Model 1 playing as black vs:\n",
      "    Model 0: Black winrate: 39.0, White winrate: 59.4, Drawrate: 1.6\n",
      "    Model 1: Black winrate: 36.0, White winrate: 62.8, Drawrate: 1.2\n",
      "    Model 2: Black winrate: 39.6, White winrate: 58.2, Drawrate: 2.2\n",
      "    Model 3: Black winrate: 40.8, White winrate: 57.1, Drawrate: 2.1\n",
      "    Model 4: Black winrate: 37.4, White winrate: 61.0, Drawrate: 1.6\n",
      "Model 2 playing as black vs:\n",
      "    Model 0: Black winrate: 40.9, White winrate: 57.0, Drawrate: 2.1\n",
      "    Model 1: Black winrate: 37.7, White winrate: 60.9, Drawrate: 1.4\n",
      "    Model 2: Black winrate: 41.2, White winrate: 56.4, Drawrate: 2.4\n",
      "    Model 3: Black winrate: 39.1, White winrate: 59.1, Drawrate: 1.8\n",
      "    Model 4: Black winrate: 39.2, White winrate: 59.2, Drawrate: 1.6\n",
      "Model 3 playing as black vs:\n",
      "    Model 0: Black winrate: 37.7, White winrate: 60.2, Drawrate: 2.1\n",
      "    Model 1: Black winrate: 40.9, White winrate: 56.9, Drawrate: 2.2\n",
      "    Model 2: Black winrate: 40.7, White winrate: 57.4, Drawrate: 1.9\n",
      "    Model 3: Black winrate: 38.3, White winrate: 59.4, Drawrate: 2.3\n",
      "    Model 4: Black winrate: 40.8, White winrate: 56.9, Drawrate: 2.3\n",
      "Model 4 playing as black vs:\n",
      "    Model 0: Black winrate: 40.4, White winrate: 57.7, Drawrate: 1.9\n",
      "    Model 1: Black winrate: 41.1, White winrate: 57.4, Drawrate: 1.5\n",
      "    Model 2: Black winrate: 44.2, White winrate: 53.3, Drawrate: 2.5\n",
      "    Model 3: Black winrate: 39.5, White winrate: 58.0, Drawrate: 2.5\n",
      "    Model 4: Black winrate: 36.8, White winrate: 60.9, Drawrate: 2.3\n"
     ]
    }
   ],
   "source": [
    "prev_results = [(39.1, 58.9, 2.0), \n",
    "                (38.800000000000004, 59.199999999999996, 2.0), \n",
    "                (39.900000000000006, 58.699999999999996, 1.4000000000000001), \n",
    "                (41.0, 56.699999999999996, 2.3), \n",
    "                (38.1, 59.4, 2.5), \n",
    "                (39.0, 59.4, 1.6), \n",
    "                (36.0, 62.8, 1.2), \n",
    "                (39.6, 58.199999999999996, 2.1999999999999997), \n",
    "                (40.8, 57.099999999999994, 2.1), \n",
    "                (37.4, 61.0, 1.6), \n",
    "                (40.9, 56.99999999999999, 2.1), \n",
    "                (37.7, 60.9, 1.4000000000000001), \n",
    "                (41.199999999999996, 56.39999999999999, 2.4), \n",
    "                (39.1, 59.099999999999994, 1.7999999999999998), \n",
    "                (39.2, 59.199999999999996, 1.6), \n",
    "                (37.7, 60.199999999999996, 2.1), \n",
    "                (40.9, 56.89999999999999, 2.1999999999999997), \n",
    "                (40.699999999999996, 57.4, 1.9), \n",
    "                (38.3, 59.4, 2.3), \n",
    "                (40.8, 56.89999999999999, 2.3), \n",
    "                (40.400000000000006, 57.699999999999996, 1.9), \n",
    "                (41.099999999999994, 57.4, 1.5), \n",
    "                (44.2, 53.300000000000004, 2.5), \n",
    "                (39.5, 57.99999999999999, 2.5), \n",
    "                (36.8, 60.9, 2.3)]\n",
    "\n",
    "for i in range(5):\n",
    "    print(f\"Model {i} playing as black vs:\")\n",
    "    result_slice = prev_results[i*5:(i+1)*5]\n",
    "    for j in range(5):\n",
    "        print(f\"    Model {j}: Black winrate: {round(result_slice[j][0], 2)}, White winrate: {round(result_slice[j][1], 2)}, Drawrate: {round(result_slice[j][2], 2)}\")"
   ]
  }
 ],
 "metadata": {
  "kernelspec": {
   "display_name": "Python 3.10.7 ('ml-venv': venv)",
   "language": "python",
   "name": "python3"
  },
  "language_info": {
   "codemirror_mode": {
    "name": "ipython",
    "version": 3
   },
   "file_extension": ".py",
   "mimetype": "text/x-python",
   "name": "python",
   "nbconvert_exporter": "python",
   "pygments_lexer": "ipython3",
   "version": "3.10.7"
  },
  "orig_nbformat": 4,
  "vscode": {
   "interpreter": {
    "hash": "1c48e9d02fd8b77616e4eb406249914dfd12f6a6048a8be47690e9d71e734832"
   }
  }
 },
 "nbformat": 4,
 "nbformat_minor": 2
}
