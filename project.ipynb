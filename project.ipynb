{
 "cells": [
  {
   "cell_type": "markdown",
   "metadata": {},
   "source": [
    "# Imports"
   ]
  },
  {
   "cell_type": "code",
   "execution_count": 44,
   "metadata": {},
   "outputs": [],
   "source": [
    "# ignore deprecation warnings ('safe' as long as we don't update packages)\n",
    "from warnings import filterwarnings\n",
    "filterwarnings(\"ignore\")\n",
    "\n",
    "from math import sqrt, log, inf\n",
    "import copy\n",
    "\n",
    "import gym\n",
    "from gym_go.gogame import turn, random_weighted_action, random_action\n",
    "\n",
    "import torch\n",
    "import torch.nn as nn\n",
    "import torch.optim as optim\n",
    "import torch.nn.functional as F\n",
    "\n",
    "import matplotlib.pyplot as plt\n",
    "import numpy as np"
   ]
  },
  {
   "cell_type": "code",
   "execution_count": 20,
   "metadata": {},
   "outputs": [
    {
     "name": "stdout",
     "output_type": "stream",
     "text": [
      "Using cuda:0\n"
     ]
    }
   ],
   "source": [
    "device = torch.device(\"cuda:0\" if torch.cuda.is_available() else \"cpu\")\n",
    "print(f\"Using {device}\")"
   ]
  },
  {
   "cell_type": "markdown",
   "metadata": {},
   "source": [
    "# Constants"
   ]
  },
  {
   "cell_type": "code",
   "execution_count": 5,
   "metadata": {},
   "outputs": [],
   "source": [
    "UCB_C = 2\n",
    "\n",
    "# Board will be a BOARD_SIZE * BOARD_SIZE board (BOARD_SIZE**2)\n",
    "BOARD_SIZE = 5\n",
    "ACTIONSPACE_LENGTH = BOARD_SIZE ** 2 + 1\n",
    "'''\n",
    "The state object that is returned by the reset and step functions of the environment is a\n",
    "6 x BOARD_SIZE x BOARD_SIZE numpy array. All values in the array are either 0 or 1.\n",
    "'''\n",
    "\n",
    "# 0 - Black pieces\n",
    "# 1 - White pieces\n",
    "# 2 - Turn (0 - black, 1 - white)\n",
    "# 3 - Invalid moves (including ko-protection)\n",
    "# 4 - Previous move was a pass\n",
    "# 5 - Game over\n",
    "BLACK, WHITE, INVALID = 0, 1, 3"
   ]
  },
  {
   "cell_type": "markdown",
   "metadata": {},
   "source": [
    "# Monte Carlo Tree Search\n",
    "\n",
    "1. Selection\n",
    "    - Taverse the tree to find greatest UCB-score\n",
    "2. Expansion\n",
    "    - If the selected leaf node has been visited before expand by adding weighted game action\n",
    "3. Rollout\n",
    "    - Simulate the game until end-condition from the expanded leaf\n",
    "4. Back-propagation\n",
    "    - Updating the value of each ancestor node of the expanded leaf\n"
   ]
  },
  {
   "cell_type": "code",
   "execution_count": 6,
   "metadata": {},
   "outputs": [],
   "source": [
    "class Node():\n",
    "    def __init__(self, env, parent, action):\n",
    "        self.env : gym.Env = env # This env will be altered by the other player\n",
    "        self.value : int = 0 # Value estimate\n",
    "        self.trials : int = 0 # Number of trials for this node\n",
    "        self.parent : Node = parent # Parent node of this node\n",
    "        self.children : list[Node] = [] # List of children of this node\n",
    "        self.action : int = action # The step action made by this node\n",
    "    \n",
    "    # calculate a Upper Confidence Bound\n",
    "    def ucb(self, total_trials):\n",
    "        return self.value + ( UCB_C * sqrt(log(total_trials) / self.trials) )\n",
    "    \n",
    "    # Add a new node to a leaf node\n",
    "    def expansion(self):\n",
    "        for action in range(ACTIONSPACE_LENGTH - 1):\n",
    "            x, y = action // BOARD_SIZE, action % BOARD_SIZE\n",
    "            if self.env.state()[INVALID, x, y] == 0:\n",
    "                child_env = copy.deepcopy(self.env)\n",
    "                child_env.step(action)\n",
    "                self.children.append(Node(child_env, self, action))\n",
    "\n",
    "        child_env = copy.deepcopy(self.env)\n",
    "        child_env.step(ACTIONSPACE_LENGTH - 1)       \n",
    "        self.children.append(Node(child_env, self, ACTIONSPACE_LENGTH - 1))\n",
    "\n",
    "    # Simulate game from current move until end-condition returning the score\n",
    "    def rollout(self, move_selection_method):\n",
    "        if self.env.done:\n",
    "            return self.env.reward()\n",
    "        \n",
    "        rollout_env = copy.deepcopy(self.env)\n",
    "        rollout_result = 0\n",
    "        done = False\n",
    "        while not done:\n",
    "            random_action = move_selection_method(rollout_env)\n",
    "            _, reward, done, _ = rollout_env.step(random_action)\n",
    "            rollout_result += reward\n",
    "        return rollout_result"
   ]
  },
  {
   "cell_type": "code",
   "execution_count": 28,
   "metadata": {},
   "outputs": [],
   "source": [
    "class Monte_Carlo_Tree_Search():\n",
    "    def __init__(self, size, ml_model):\n",
    "        self.env : gym.Env = gym.make('gym_go:go-v0', size=size, reward_method='heuristic')\n",
    "        self.env.reset()\n",
    "        self.root = Node(self.env, None, None)\n",
    "        self.ml_model = ml_model\n",
    "        ml_model.to(device)\n",
    "    \n",
    "    # Gets the weights of all moves from the Machine Learning model\n",
    "    def __get_move_weights(self, env : gym.Env):\n",
    "        state = env.state()\n",
    "        if self.ml_model is not None:\n",
    "            move_weights = self.ml_model.forward(torch.tensor(state, device=device)).cpu().detach().numpy()\n",
    "        else:\n",
    "            move_weights = np.ones(ACTIONSPACE_LENGTH)\n",
    "            for move in move_weights:\n",
    "                move = move/len(move_weights)\n",
    "\n",
    "        board_shape = state.shape[1:]\n",
    "        for i in range(len(move_weights) - 1):\n",
    "            action2d = i // board_shape[0], i % board_shape[1], i\n",
    "            if state[INVALID, action2d[0], action2d[1]] == 1:\n",
    "                move_weights[i] = 0.0\n",
    "        return move_weights\n",
    "\n",
    "    # Gets a weighted move for the given env\n",
    "    def get_weighted_move(self, env : gym.Env):\n",
    "        move_weights = self.__get_move_weights(env)\n",
    "        return random_weighted_action(move_weights)\n",
    "\n",
    "    # Update scores of all parent nodes after rollout\n",
    "    def __back_propagation(self, rollout_node: Node, rollout_result):\n",
    "        current_node = rollout_node\n",
    "        while current_node != None:\n",
    "            current_node.trials += 1\n",
    "            if turn(self.env.state()) == BLACK:\n",
    "                current_node.value -= rollout_result\n",
    "            if turn(self.env.state()) == WHITE:                \n",
    "                current_node.value += rollout_result\n",
    "            current_node = current_node.parent\n",
    "    \n",
    "    # Find and return the leaf node with the highest UCB-score \n",
    "    def __selection(self, node: Node = None):\n",
    "        if node is None:\n",
    "            node = self.root\n",
    "        selected_child = node\n",
    "        current_node = node\n",
    "        while len(current_node.children) > 0:\n",
    "            current_best_ucb = -inf\n",
    "            for child in current_node.children:\n",
    "                if child.trials == 0:\n",
    "                    return child\n",
    "\n",
    "                child_ucb = child.ucb(self.root.trials)\n",
    "\n",
    "                if child_ucb > current_best_ucb:\n",
    "                    selected_child = child\n",
    "                    current_best_ucb = child_ucb\n",
    "\n",
    "            current_node = selected_child\n",
    "\n",
    "        return selected_child\n",
    "    \n",
    "    # Explores the tree for the given number of iterations\n",
    "    def run(self, iterations, node: Node = None):\n",
    "        if node is None:\n",
    "            node = self.root\n",
    "\n",
    "        selected_node = node\n",
    "        run = 0\n",
    "        while run < iterations:\n",
    "            selected_node = self.__selection(node)\n",
    "\n",
    "            if not selected_node.env.done and selected_node.trials > 0:\n",
    "                selected_node.expansion()\n",
    "                selected_node = selected_node.children[0]\n",
    "\n",
    "            rollout_result = selected_node.rollout(self.get_weighted_move)\n",
    "            \n",
    "            self.__back_propagation(selected_node, rollout_result)\n",
    "            run += 1\n",
    "\n",
    "    # Explores plays one game\n",
    "    def run_game(self):\n",
    "        # Run MCTS until a game is completed\n",
    "        selected_node = self.root\n",
    "        run = 1\n",
    "        while not selected_node.env.done:\n",
    "            # print(\"run:\", run)\n",
    "            selected_node = self.__selection()\n",
    "\n",
    "            if selected_node.trials > 0:\n",
    "                # print(\"Expanding node\")\n",
    "                selected_node.expansion()\n",
    "                selected_node = selected_node.children[0]\n",
    "\n",
    "            # print(\"Rollout\")\n",
    "            rollout_result = selected_node.rollout(self.get_weighted_move)\n",
    "            self.__back_propagation(selected_node, rollout_result)\n",
    "            # print(\"Done:\", selected_node.env.done)\n",
    "            run += 1\n",
    "        # returns the node to allow for printing the game\n",
    "        return selected_node\n",
    "    \n",
    "    # searches the tree for a spesific state\n",
    "    def __find_node_from_state(self, state, node: Node = None):\n",
    "        if node is None:\n",
    "            node = self.root\n",
    "        if np.array_equal(node.env.state(), state):\n",
    "            return node\n",
    "\n",
    "        for child in node.children:\n",
    "            if np.array_equal(child.env.state(), state):\n",
    "                return child\n",
    "            \n",
    "            res = self.__find_node_from_state(state, child)\n",
    "            if res != None and np.array_equal(res.env.state(), state):\n",
    "                return res\n",
    "\n",
    "    # Attempts to find the best move from the tree by searching for the state and finding the best child for that state\n",
    "    def get_move_from_env(self, env):\n",
    "        node = self.__find_node_from_state(env.state())\n",
    "\n",
    "        while node is None:\n",
    "            self.run(15)\n",
    "            node = self.__find_node_from_state(env.state())\n",
    "\n",
    "        self.run(15, node)\n",
    "\n",
    "        best_child = None\n",
    "        current_best_value = -inf\n",
    "        for child in node.children:\n",
    "            if child.value > current_best_value:\n",
    "                best_child = child\n",
    "                current_best_value = child.value\n",
    "\n",
    "        if best_child != None:\n",
    "            if len(best_child.children) == 0 and not best_child.env.done:\n",
    "                best_child.expansion()\n",
    "            return best_child\n",
    "\n",
    "    # Makes a list of all states and a list of all move_weights for all expanded nodes in the tree\n",
    "    def get_tree_data(self):\n",
    "        x, y = [], []\n",
    "        self.__get_node_data(self.root, x, y)\n",
    "        return torch.tensor(x), torch.tensor(y)\n",
    "\n",
    "    # recurrsive tree traversal method for get_tree_data\n",
    "    def __get_node_data(self, node, x, y):\n",
    "        x.append(node.env.state())\n",
    "        y.append([0] * (BOARD_SIZE**2 + 1))\n",
    "        for child in node.children:\n",
    "            y[-1][child.action] = child.value\n",
    "            if len(child.children) > 0:\n",
    "                self.__get_node_data(child, x, y)"
   ]
  },
  {
   "cell_type": "code",
   "execution_count": 8,
   "metadata": {},
   "outputs": [],
   "source": [
    "def play_game_no_render(mcts : Monte_Carlo_Tree_Search, go_env: gym.Env):\n",
    "    go_env.reset()\n",
    "    done = go_env.done\n",
    "    turn_nr = 0\n",
    "    while not done:\n",
    "        action = random_action(go_env.state())\n",
    "        _, _, done, _ = go_env.step(action)\n",
    "\n",
    "        if done:\n",
    "            continue\n",
    "\n",
    "        node = mcts.get_move_from_env(go_env)\n",
    "        _, _, done, _ = go_env.step(node.action)\n",
    "        turn_nr += 1\n",
    "        if turn_nr > 300:\n",
    "            break\n",
    "    \n",
    "    return go_env"
   ]
  },
  {
   "cell_type": "code",
   "execution_count": 9,
   "metadata": {},
   "outputs": [
    {
     "name": "stderr",
     "output_type": "stream",
     "text": [
      "c:\\Users\\erik\\miniconda3\\envs\\ml-project\\lib\\site-packages\\gym\\utils\\passive_env_checker.py:219: DeprecationWarning: \u001b[33mWARN: Core environment is written in old step API which returns one bool instead of two. It is recommended to rewrite the environment with new step API. \u001b[0m\n",
      "  logger.deprecation(\n",
      "c:\\Users\\erik\\miniconda3\\envs\\ml-project\\lib\\site-packages\\gym\\utils\\passive_env_checker.py:219: DeprecationWarning: \u001b[33mWARN: Core environment is written in old step API which returns one bool instead of two. It is recommended to rewrite the environment with new step API. \u001b[0m\n",
      "  logger.deprecation(\n"
     ]
    },
    {
     "ename": "KeyboardInterrupt",
     "evalue": "",
     "output_type": "error",
     "traceback": [
      "\u001b[1;31m---------------------------------------------------------------------------\u001b[0m",
      "\u001b[1;31mKeyboardInterrupt\u001b[0m                         Traceback (most recent call last)",
      "\u001b[1;32mc:\\Users\\erik\\dev\\ml-project\\project.ipynb Cell 9\u001b[0m in \u001b[0;36m<cell line: 2>\u001b[1;34m()\u001b[0m\n\u001b[0;32m      <a href='vscode-notebook-cell:/c%3A/Users/erik/dev/ml-project/project.ipynb#X11sZmlsZQ%3D%3D?line=0'>1</a>\u001b[0m mcts_test \u001b[39m=\u001b[39m Monte_Carlo_Tree_Search(BOARD_SIZE, \u001b[39mNone\u001b[39;00m)\n\u001b[1;32m----> <a href='vscode-notebook-cell:/c%3A/Users/erik/dev/ml-project/project.ipynb#X11sZmlsZQ%3D%3D?line=1'>2</a>\u001b[0m _ \u001b[39m=\u001b[39m mcts_test\u001b[39m.\u001b[39;49mrun_game()\n",
      "\u001b[1;32mc:\\Users\\erik\\dev\\ml-project\\project.ipynb Cell 9\u001b[0m in \u001b[0;36mMonte_Carlo_Tree_Search.run_game\u001b[1;34m(self)\u001b[0m\n\u001b[0;32m     <a href='vscode-notebook-cell:/c%3A/Users/erik/dev/ml-project/project.ipynb#X11sZmlsZQ%3D%3D?line=91'>92</a>\u001b[0m     selected_node \u001b[39m=\u001b[39m selected_node\u001b[39m.\u001b[39mchildren[\u001b[39m0\u001b[39m]\n\u001b[0;32m     <a href='vscode-notebook-cell:/c%3A/Users/erik/dev/ml-project/project.ipynb#X11sZmlsZQ%3D%3D?line=93'>94</a>\u001b[0m \u001b[39m# print(\"Rollout\")\u001b[39;00m\n\u001b[1;32m---> <a href='vscode-notebook-cell:/c%3A/Users/erik/dev/ml-project/project.ipynb#X11sZmlsZQ%3D%3D?line=94'>95</a>\u001b[0m rollout_result \u001b[39m=\u001b[39m selected_node\u001b[39m.\u001b[39;49mrollout(\u001b[39mself\u001b[39;49m\u001b[39m.\u001b[39;49mget_weighted_move)\n\u001b[0;32m     <a href='vscode-notebook-cell:/c%3A/Users/erik/dev/ml-project/project.ipynb#X11sZmlsZQ%3D%3D?line=95'>96</a>\u001b[0m \u001b[39mself\u001b[39m\u001b[39m.\u001b[39m__back_propagation(selected_node, rollout_result)\n\u001b[0;32m     <a href='vscode-notebook-cell:/c%3A/Users/erik/dev/ml-project/project.ipynb#X11sZmlsZQ%3D%3D?line=96'>97</a>\u001b[0m \u001b[39m# print(\"Done:\", selected_node.env.done)\u001b[39;00m\n",
      "\u001b[1;32mc:\\Users\\erik\\dev\\ml-project\\project.ipynb Cell 9\u001b[0m in \u001b[0;36mNode.rollout\u001b[1;34m(self, move_selection_method)\u001b[0m\n\u001b[0;32m     <a href='vscode-notebook-cell:/c%3A/Users/erik/dev/ml-project/project.ipynb#X11sZmlsZQ%3D%3D?line=34'>35</a>\u001b[0m \u001b[39mwhile\u001b[39;00m \u001b[39mnot\u001b[39;00m done:\n\u001b[0;32m     <a href='vscode-notebook-cell:/c%3A/Users/erik/dev/ml-project/project.ipynb#X11sZmlsZQ%3D%3D?line=35'>36</a>\u001b[0m     random_action \u001b[39m=\u001b[39m move_selection_method(rollout_env)\n\u001b[1;32m---> <a href='vscode-notebook-cell:/c%3A/Users/erik/dev/ml-project/project.ipynb#X11sZmlsZQ%3D%3D?line=36'>37</a>\u001b[0m     _, reward, done, _ \u001b[39m=\u001b[39m rollout_env\u001b[39m.\u001b[39;49mstep(random_action)\n\u001b[0;32m     <a href='vscode-notebook-cell:/c%3A/Users/erik/dev/ml-project/project.ipynb#X11sZmlsZQ%3D%3D?line=37'>38</a>\u001b[0m     rollout_result \u001b[39m+\u001b[39m\u001b[39m=\u001b[39m reward\n\u001b[0;32m     <a href='vscode-notebook-cell:/c%3A/Users/erik/dev/ml-project/project.ipynb#X11sZmlsZQ%3D%3D?line=38'>39</a>\u001b[0m \u001b[39mreturn\u001b[39;00m rollout_result\n",
      "File \u001b[1;32mc:\\Users\\erik\\miniconda3\\envs\\ml-project\\lib\\site-packages\\gym\\wrappers\\order_enforcing.py:37\u001b[0m, in \u001b[0;36mOrderEnforcing.step\u001b[1;34m(self, action)\u001b[0m\n\u001b[0;32m     35\u001b[0m \u001b[39mif\u001b[39;00m \u001b[39mnot\u001b[39;00m \u001b[39mself\u001b[39m\u001b[39m.\u001b[39m_has_reset:\n\u001b[0;32m     36\u001b[0m     \u001b[39mraise\u001b[39;00m ResetNeeded(\u001b[39m\"\u001b[39m\u001b[39mCannot call env.step() before calling env.reset()\u001b[39m\u001b[39m\"\u001b[39m)\n\u001b[1;32m---> 37\u001b[0m \u001b[39mreturn\u001b[39;00m \u001b[39mself\u001b[39;49m\u001b[39m.\u001b[39;49menv\u001b[39m.\u001b[39;49mstep(action)\n",
      "File \u001b[1;32mc:\\Users\\erik\\miniconda3\\envs\\ml-project\\lib\\site-packages\\gym\\wrappers\\env_checker.py:39\u001b[0m, in \u001b[0;36mPassiveEnvChecker.step\u001b[1;34m(self, action)\u001b[0m\n\u001b[0;32m     37\u001b[0m     \u001b[39mreturn\u001b[39;00m env_step_passive_checker(\u001b[39mself\u001b[39m\u001b[39m.\u001b[39menv, action)\n\u001b[0;32m     38\u001b[0m \u001b[39melse\u001b[39;00m:\n\u001b[1;32m---> 39\u001b[0m     \u001b[39mreturn\u001b[39;00m \u001b[39mself\u001b[39;49m\u001b[39m.\u001b[39;49menv\u001b[39m.\u001b[39;49mstep(action)\n",
      "File \u001b[1;32mc:\\users\\erik\\gymgo\\gym_go\\envs\\go_env.py:64\u001b[0m, in \u001b[0;36mGoEnv.step\u001b[1;34m(self, action)\u001b[0m\n\u001b[0;32m     62\u001b[0m \u001b[39mself\u001b[39m\u001b[39m.\u001b[39mstate_ \u001b[39m=\u001b[39m gogame\u001b[39m.\u001b[39mnext_state(\u001b[39mself\u001b[39m\u001b[39m.\u001b[39mstate_, action, canonical\u001b[39m=\u001b[39m\u001b[39mFalse\u001b[39;00m)\n\u001b[0;32m     63\u001b[0m \u001b[39mself\u001b[39m\u001b[39m.\u001b[39mdone \u001b[39m=\u001b[39m gogame\u001b[39m.\u001b[39mgame_ended(\u001b[39mself\u001b[39m\u001b[39m.\u001b[39mstate_)\n\u001b[1;32m---> 64\u001b[0m \u001b[39mreturn\u001b[39;00m np\u001b[39m.\u001b[39mcopy(\u001b[39mself\u001b[39m\u001b[39m.\u001b[39mstate_), \u001b[39mself\u001b[39;49m\u001b[39m.\u001b[39;49mreward(), \u001b[39mself\u001b[39m\u001b[39m.\u001b[39mdone, \u001b[39mself\u001b[39m\u001b[39m.\u001b[39minfo()\n",
      "File \u001b[1;32mc:\\users\\erik\\gymgo\\gym_go\\envs\\go_env.py:142\u001b[0m, in \u001b[0;36mGoEnv.reward\u001b[1;34m(self)\u001b[0m\n\u001b[0;32m    139\u001b[0m     \u001b[39mreturn\u001b[39;00m \u001b[39mself\u001b[39m\u001b[39m.\u001b[39mwinner()\n\u001b[0;32m    141\u001b[0m \u001b[39melif\u001b[39;00m \u001b[39mself\u001b[39m\u001b[39m.\u001b[39mreward_method \u001b[39m==\u001b[39m RewardMethod\u001b[39m.\u001b[39mHEURISTIC:\n\u001b[1;32m--> 142\u001b[0m     black_area, white_area \u001b[39m=\u001b[39m gogame\u001b[39m.\u001b[39;49mareas(\u001b[39mself\u001b[39;49m\u001b[39m.\u001b[39;49mstate_)\n\u001b[0;32m    143\u001b[0m     area_difference \u001b[39m=\u001b[39m black_area \u001b[39m-\u001b[39m white_area\n\u001b[0;32m    144\u001b[0m     komi_correction \u001b[39m=\u001b[39m area_difference \u001b[39m-\u001b[39m \u001b[39mself\u001b[39m\u001b[39m.\u001b[39mkomi\n",
      "File \u001b[1;32mc:\\users\\erik\\gymgo\\gym_go\\gogame.py:288\u001b[0m, in \u001b[0;36mareas\u001b[1;34m(state)\u001b[0m\n\u001b[0;32m    286\u001b[0m \u001b[39mfor\u001b[39;00m label \u001b[39min\u001b[39;00m \u001b[39mrange\u001b[39m(\u001b[39m1\u001b[39m, num_empty_areas \u001b[39m+\u001b[39m \u001b[39m1\u001b[39m):\n\u001b[0;32m    287\u001b[0m     empty_area \u001b[39m=\u001b[39m empty_labels \u001b[39m==\u001b[39m label\n\u001b[1;32m--> 288\u001b[0m     neighbors \u001b[39m=\u001b[39m ndimage\u001b[39m.\u001b[39;49mbinary_dilation(empty_area)\n\u001b[0;32m    289\u001b[0m     black_claim \u001b[39m=\u001b[39m \u001b[39mFalse\u001b[39;00m\n\u001b[0;32m    290\u001b[0m     white_claim \u001b[39m=\u001b[39m \u001b[39mFalse\u001b[39;00m\n",
      "File \u001b[1;32mc:\\Users\\erik\\miniconda3\\envs\\ml-project\\lib\\site-packages\\scipy\\ndimage\\_morphology.py:507\u001b[0m, in \u001b[0;36mbinary_dilation\u001b[1;34m(input, structure, iterations, mask, output, border_value, origin, brute_force)\u001b[0m\n\u001b[0;32m    505\u001b[0m \u001b[39minput\u001b[39m \u001b[39m=\u001b[39m numpy\u001b[39m.\u001b[39masarray(\u001b[39minput\u001b[39m)\n\u001b[0;32m    506\u001b[0m \u001b[39mif\u001b[39;00m structure \u001b[39mis\u001b[39;00m \u001b[39mNone\u001b[39;00m:\n\u001b[1;32m--> 507\u001b[0m     structure \u001b[39m=\u001b[39m generate_binary_structure(\u001b[39minput\u001b[39;49m\u001b[39m.\u001b[39;49mndim, \u001b[39m1\u001b[39;49m)\n\u001b[0;32m    508\u001b[0m origin \u001b[39m=\u001b[39m _ni_support\u001b[39m.\u001b[39m_normalize_sequence(origin, \u001b[39minput\u001b[39m\u001b[39m.\u001b[39mndim)\n\u001b[0;32m    509\u001b[0m structure \u001b[39m=\u001b[39m numpy\u001b[39m.\u001b[39masarray(structure)\n",
      "File \u001b[1;32mc:\\Users\\erik\\miniconda3\\envs\\ml-project\\lib\\site-packages\\scipy\\ndimage\\_morphology.py:210\u001b[0m, in \u001b[0;36mgenerate_binary_structure\u001b[1;34m(rank, connectivity)\u001b[0m\n\u001b[0;32m    208\u001b[0m \u001b[39mif\u001b[39;00m rank \u001b[39m<\u001b[39m \u001b[39m1\u001b[39m:\n\u001b[0;32m    209\u001b[0m     \u001b[39mreturn\u001b[39;00m numpy\u001b[39m.\u001b[39marray(\u001b[39mTrue\u001b[39;00m, dtype\u001b[39m=\u001b[39m\u001b[39mbool\u001b[39m)\n\u001b[1;32m--> 210\u001b[0m output \u001b[39m=\u001b[39m numpy\u001b[39m.\u001b[39mfabs(numpy\u001b[39m.\u001b[39;49mindices([\u001b[39m3\u001b[39;49m] \u001b[39m*\u001b[39;49m rank) \u001b[39m-\u001b[39m \u001b[39m1\u001b[39m)\n\u001b[0;32m    211\u001b[0m output \u001b[39m=\u001b[39m numpy\u001b[39m.\u001b[39madd\u001b[39m.\u001b[39mreduce(output, \u001b[39m0\u001b[39m)\n\u001b[0;32m    212\u001b[0m \u001b[39mreturn\u001b[39;00m output \u001b[39m<\u001b[39m\u001b[39m=\u001b[39m connectivity\n",
      "File \u001b[1;32mc:\\Users\\erik\\miniconda3\\envs\\ml-project\\lib\\site-packages\\numpy\\core\\numeric.py:1785\u001b[0m, in \u001b[0;36mindices\u001b[1;34m(dimensions, dtype, sparse)\u001b[0m\n\u001b[0;32m   1783\u001b[0m         res \u001b[39m=\u001b[39m res \u001b[39m+\u001b[39m (idx,)\n\u001b[0;32m   1784\u001b[0m     \u001b[39melse\u001b[39;00m:\n\u001b[1;32m-> 1785\u001b[0m         res[i] \u001b[39m=\u001b[39m idx\n\u001b[0;32m   1786\u001b[0m \u001b[39mreturn\u001b[39;00m res\n",
      "\u001b[1;31mKeyboardInterrupt\u001b[0m: "
     ]
    }
   ],
   "source": [
    "mcts_test = Monte_Carlo_Tree_Search(BOARD_SIZE, None)\n",
    "_ = mcts_test.run_game()"
   ]
  },
  {
   "cell_type": "code",
   "execution_count": null,
   "metadata": {},
   "outputs": [
    {
     "name": "stdout",
     "output_type": "stream",
     "text": [
      "White won!\n",
      "White won!\n",
      "White won!\n",
      "White won!\n",
      "White won!\n",
      "White won!\n",
      "White won!\n",
      "White won!\n",
      "White won!\n",
      "White won!\n"
     ]
    }
   ],
   "source": [
    "for i in range(10):\n",
    "    env = play_game_no_render(mcts_test, copy.deepcopy(mcts_test.env))\n",
    "    if not env.done:\n",
    "        print(\"Game stopped after 300 turns: \\nIt was resigned and is a draw.\")\n",
    "        continue\n",
    "        \n",
    "    if env.reward() < 0:\n",
    "        print(\"White won!\")\n",
    "    if env.reward() > 0:\n",
    "        print(\"Black won!\")\n",
    "    if env.reward() == 0:\n",
    "        print(\"It's a draw!\")"
   ]
  },
  {
   "cell_type": "markdown",
   "metadata": {},
   "source": [
    "# Convolutional Neural Network"
   ]
  },
  {
   "cell_type": "code",
   "execution_count": 10,
   "metadata": {},
   "outputs": [
    {
     "name": "stdout",
     "output_type": "stream",
     "text": [
      "Using cuda:0\n"
     ]
    }
   ],
   "source": []
  },
  {
   "cell_type": "code",
   "execution_count": 59,
   "metadata": {},
   "outputs": [],
   "source": [
    "class CNN(nn.Module):\n",
    "    def __init__(self):\n",
    "        super().__init__()\n",
    "        self.conv1 = nn.Conv2d(6, 64, kernel_size=3, padding=1)\n",
    "        self.conv2 = nn.Conv2d(64, 128, kernel_size=3, padding=1)\n",
    "        self.pool = nn.MaxPool2d(2, 2)\n",
    "        self.fc1 = nn.Linear(128, 26)\n",
    "\n",
    "    def forward(self, x):\n",
    "        x = x.float()\n",
    "        x = x.to(device)\n",
    "        x = self.pool(F.relu(self.conv1(x)))\n",
    "        x = self.pool(F.relu(self.conv2(x)))\n",
    "        x = torch.flatten(x, 0, -1)\n",
    "        x = F.softmax(self.fc1(x))\n",
    "        return x\n",
    "\n",
    "    def avg_accuracy(self, x, y):\n",
    "        avg = 0\n",
    "        for i in range(len(x)):\n",
    "            avg += torch.mean(torch.eq(self.forward(x[i]).argmax(), y[i].argmax()).float())\n",
    "        return (avg/len(x))"
   ]
  },
  {
   "cell_type": "code",
   "execution_count": 25,
   "metadata": {},
   "outputs": [],
   "source": [
    "# utility methods for importing and exporting models, defined outside class\n",
    "def export_model(cnn, name=\"cnn\"):\n",
    "    torch.save(cnn.state_dict(), \"cnns/\" + name + \".pth\")\n",
    "\n",
    "def import_model(cnn, name=\"cnn\"):\n",
    "    cnn.load_state_dict(torch.load(\"cnns/\" + name + \".pth\"))"
   ]
  },
  {
   "cell_type": "code",
   "execution_count": 61,
   "metadata": {},
   "outputs": [],
   "source": [
    "def train_model(model, lr, momentum):\n",
    "    criterion = nn.CrossEntropyLoss()\n",
    "    optimizer = optim.SGD(model.parameters(), lr=lr, momentum=momentum)\n",
    "    model.to(device)\n",
    "    for epoch in range(10):\n",
    "        mcts = Monte_Carlo_Tree_Search(BOARD_SIZE, model) # new tree\n",
    "        mcts.run_game() # run a single game to completion\n",
    "        x, y = mcts.get_tree_data() # get data\n",
    "        running_loss = .0 \n",
    "        for i in range(len(x)):\n",
    "            inputs, labels = torch.tensor(x[i], device=device), torch.tensor(y[i], device=device)\n",
    "            labels = F.softmax(labels)\n",
    "            optimizer.zero_grad()\n",
    "            outputs = model(inputs)\n",
    "            loss = criterion(outputs, labels)\n",
    "            loss.backward()\n",
    "            optimizer.step()\n",
    "            running_loss += loss.item()\n",
    "\n",
    "            if i % 10 == 9:\n",
    "                print(f'[{epoch:3d}, {i + 1:3d}] loss: {running_loss / 10:.5f}')\n",
    "                running_loss = 0.0\n",
    "\n",
    "import time\n",
    "\n",
    "def train(n_games=1000):\n",
    "    model = CNN()\n",
    "    criterion = nn.CrossEntropyLoss()\n",
    "    optimizer = optim.SGD(model.parameters(), lr=0.01, momentum=0.9)\n",
    "\n",
    "    # Stats\n",
    "    all_x, all_y, loss_values, acc_values = [], [], [], []\n",
    "    total_time = 0\n",
    "\n",
    "    # Simulate N games\n",
    "    for _ in range(n_games):\n",
    "\n",
    "        # Run a simulation and time it for statistics\n",
    "        mcts = Monte_Carlo_Tree_Search(BOARD_SIZE, model)\n",
    "        start = time.time()\n",
    "        mcts.run_game()\n",
    "        stop = time.time()\n",
    "        total_time += (stop - start)\n",
    "\n",
    "        game_loss = .0\n",
    "\n",
    "        # Train model on data\n",
    "        x, y = mcts.get_tree_data()\n",
    "        for i in range(len(x)):\n",
    "            inputs, labels = torch.tensor(x[i], device=device), torch.tensor(y[i], device=device)\n",
    "            labels = F.softmax(labels)\n",
    "            optimizer.zero_grad()\n",
    "            outputs = model(inputs)\n",
    "            loss = criterion(outputs, labels)\n",
    "            loss.backward()\n",
    "            optimizer.step()\n",
    "            game_loss += loss.item()\n",
    "            \n",
    "            # Add data to master list for accuracy calculation\n",
    "            all_x.append(x[i])\n",
    "            all_y.append(y[i])\n",
    "        \n",
    "        # After training, check accuracy against previous data\n",
    "        acc_values.append(model.avg_accuracy(all_x, all_y).item())\n",
    "        loss_values.append(game_loss/len(x))\n",
    "\n",
    "    print(f'''Finished running {n_games} games\n",
    "    Time..............: {total_time}\n",
    "    Avg. time per game: {total_time/n_games}''')\n",
    "    return model, loss_values, acc_values\n"
   ]
  },
  {
   "cell_type": "code",
   "execution_count": 75,
   "metadata": {},
   "outputs": [
    {
     "ename": "ValueError",
     "evalue": "probabilities do not sum to 1",
     "output_type": "error",
     "traceback": [
      "\u001b[1;31m---------------------------------------------------------------------------\u001b[0m",
      "\u001b[1;31mValueError\u001b[0m                                Traceback (most recent call last)",
      "\u001b[1;32mc:\\Users\\erik\\dev\\ml-project\\project.ipynb Cell 17\u001b[0m in \u001b[0;36m<cell line: 1>\u001b[1;34m()\u001b[0m\n\u001b[1;32m----> <a href='vscode-notebook-cell:/c%3A/Users/erik/dev/ml-project/project.ipynb#X26sZmlsZQ%3D%3D?line=0'>1</a>\u001b[0m model, loss_values, acc_values \u001b[39m=\u001b[39m train(\u001b[39m1000\u001b[39;49m)\n",
      "\u001b[1;32mc:\\Users\\erik\\dev\\ml-project\\project.ipynb Cell 17\u001b[0m in \u001b[0;36mtrain\u001b[1;34m(n_games)\u001b[0m\n\u001b[0;32m     <a href='vscode-notebook-cell:/c%3A/Users/erik/dev/ml-project/project.ipynb#X26sZmlsZQ%3D%3D?line=38'>39</a>\u001b[0m mcts \u001b[39m=\u001b[39m Monte_Carlo_Tree_Search(BOARD_SIZE, model)\n\u001b[0;32m     <a href='vscode-notebook-cell:/c%3A/Users/erik/dev/ml-project/project.ipynb#X26sZmlsZQ%3D%3D?line=39'>40</a>\u001b[0m start \u001b[39m=\u001b[39m time\u001b[39m.\u001b[39mtime()\n\u001b[1;32m---> <a href='vscode-notebook-cell:/c%3A/Users/erik/dev/ml-project/project.ipynb#X26sZmlsZQ%3D%3D?line=40'>41</a>\u001b[0m mcts\u001b[39m.\u001b[39;49mrun_game()\n\u001b[0;32m     <a href='vscode-notebook-cell:/c%3A/Users/erik/dev/ml-project/project.ipynb#X26sZmlsZQ%3D%3D?line=41'>42</a>\u001b[0m stop \u001b[39m=\u001b[39m time\u001b[39m.\u001b[39mtime()\n\u001b[0;32m     <a href='vscode-notebook-cell:/c%3A/Users/erik/dev/ml-project/project.ipynb#X26sZmlsZQ%3D%3D?line=42'>43</a>\u001b[0m total_time \u001b[39m+\u001b[39m\u001b[39m=\u001b[39m (stop \u001b[39m-\u001b[39m start)\n",
      "\u001b[1;32mc:\\Users\\erik\\dev\\ml-project\\project.ipynb Cell 17\u001b[0m in \u001b[0;36mMonte_Carlo_Tree_Search.run_game\u001b[1;34m(self)\u001b[0m\n\u001b[0;32m     <a href='vscode-notebook-cell:/c%3A/Users/erik/dev/ml-project/project.ipynb#X26sZmlsZQ%3D%3D?line=92'>93</a>\u001b[0m     selected_node \u001b[39m=\u001b[39m selected_node\u001b[39m.\u001b[39mchildren[\u001b[39m0\u001b[39m]\n\u001b[0;32m     <a href='vscode-notebook-cell:/c%3A/Users/erik/dev/ml-project/project.ipynb#X26sZmlsZQ%3D%3D?line=94'>95</a>\u001b[0m \u001b[39m# print(\"Rollout\")\u001b[39;00m\n\u001b[1;32m---> <a href='vscode-notebook-cell:/c%3A/Users/erik/dev/ml-project/project.ipynb#X26sZmlsZQ%3D%3D?line=95'>96</a>\u001b[0m rollout_result \u001b[39m=\u001b[39m selected_node\u001b[39m.\u001b[39;49mrollout(\u001b[39mself\u001b[39;49m\u001b[39m.\u001b[39;49mget_weighted_move)\n\u001b[0;32m     <a href='vscode-notebook-cell:/c%3A/Users/erik/dev/ml-project/project.ipynb#X26sZmlsZQ%3D%3D?line=96'>97</a>\u001b[0m \u001b[39mself\u001b[39m\u001b[39m.\u001b[39m__back_propagation(selected_node, rollout_result)\n\u001b[0;32m     <a href='vscode-notebook-cell:/c%3A/Users/erik/dev/ml-project/project.ipynb#X26sZmlsZQ%3D%3D?line=97'>98</a>\u001b[0m \u001b[39m# print(\"Done:\", selected_node.env.done)\u001b[39;00m\n",
      "\u001b[1;32mc:\\Users\\erik\\dev\\ml-project\\project.ipynb Cell 17\u001b[0m in \u001b[0;36mNode.rollout\u001b[1;34m(self, move_selection_method)\u001b[0m\n\u001b[0;32m     <a href='vscode-notebook-cell:/c%3A/Users/erik/dev/ml-project/project.ipynb#X26sZmlsZQ%3D%3D?line=33'>34</a>\u001b[0m done \u001b[39m=\u001b[39m \u001b[39mFalse\u001b[39;00m\n\u001b[0;32m     <a href='vscode-notebook-cell:/c%3A/Users/erik/dev/ml-project/project.ipynb#X26sZmlsZQ%3D%3D?line=34'>35</a>\u001b[0m \u001b[39mwhile\u001b[39;00m \u001b[39mnot\u001b[39;00m done:\n\u001b[1;32m---> <a href='vscode-notebook-cell:/c%3A/Users/erik/dev/ml-project/project.ipynb#X26sZmlsZQ%3D%3D?line=35'>36</a>\u001b[0m     random_action \u001b[39m=\u001b[39m move_selection_method(rollout_env)\n\u001b[0;32m     <a href='vscode-notebook-cell:/c%3A/Users/erik/dev/ml-project/project.ipynb#X26sZmlsZQ%3D%3D?line=36'>37</a>\u001b[0m     _, reward, done, _ \u001b[39m=\u001b[39m rollout_env\u001b[39m.\u001b[39mstep(random_action)\n\u001b[0;32m     <a href='vscode-notebook-cell:/c%3A/Users/erik/dev/ml-project/project.ipynb#X26sZmlsZQ%3D%3D?line=37'>38</a>\u001b[0m     rollout_result \u001b[39m+\u001b[39m\u001b[39m=\u001b[39m reward\n",
      "\u001b[1;32mc:\\Users\\erik\\dev\\ml-project\\project.ipynb Cell 17\u001b[0m in \u001b[0;36mMonte_Carlo_Tree_Search.get_weighted_move\u001b[1;34m(self, env)\u001b[0m\n\u001b[0;32m     <a href='vscode-notebook-cell:/c%3A/Users/erik/dev/ml-project/project.ipynb#X26sZmlsZQ%3D%3D?line=24'>25</a>\u001b[0m \u001b[39mdef\u001b[39;00m \u001b[39mget_weighted_move\u001b[39m(\u001b[39mself\u001b[39m, env : gym\u001b[39m.\u001b[39mEnv):\n\u001b[0;32m     <a href='vscode-notebook-cell:/c%3A/Users/erik/dev/ml-project/project.ipynb#X26sZmlsZQ%3D%3D?line=25'>26</a>\u001b[0m     move_weights \u001b[39m=\u001b[39m \u001b[39mself\u001b[39m\u001b[39m.\u001b[39m__get_move_weights(env)\n\u001b[1;32m---> <a href='vscode-notebook-cell:/c%3A/Users/erik/dev/ml-project/project.ipynb#X26sZmlsZQ%3D%3D?line=26'>27</a>\u001b[0m     \u001b[39mreturn\u001b[39;00m random_weighted_action(move_weights)\n",
      "File \u001b[1;32mc:\\users\\erik\\gymgo\\gym_go\\gogame.py:392\u001b[0m, in \u001b[0;36mrandom_weighted_action\u001b[1;34m(move_weights)\u001b[0m\n\u001b[0;32m    386\u001b[0m \u001b[39m\"\"\"\u001b[39;00m\n\u001b[0;32m    387\u001b[0m \u001b[39mAssumes all invalid moves have weight 0\u001b[39;00m\n\u001b[0;32m    388\u001b[0m \u001b[39mAction is 1D\u001b[39;00m\n\u001b[0;32m    389\u001b[0m \u001b[39mExpected shape is (NUM OF MOVES, )\u001b[39;00m\n\u001b[0;32m    390\u001b[0m \u001b[39m\"\"\"\u001b[39;00m\n\u001b[0;32m    391\u001b[0m move_weights \u001b[39m=\u001b[39m preprocessing\u001b[39m.\u001b[39mnormalize(move_weights[np\u001b[39m.\u001b[39mnewaxis], norm\u001b[39m=\u001b[39m\u001b[39m'\u001b[39m\u001b[39ml1\u001b[39m\u001b[39m'\u001b[39m)\n\u001b[1;32m--> 392\u001b[0m \u001b[39mreturn\u001b[39;00m np\u001b[39m.\u001b[39;49mrandom\u001b[39m.\u001b[39;49mchoice(np\u001b[39m.\u001b[39;49marange(\u001b[39mlen\u001b[39;49m(move_weights[\u001b[39m0\u001b[39;49m])), p\u001b[39m=\u001b[39;49mmove_weights[\u001b[39m0\u001b[39;49m])\n",
      "File \u001b[1;32mmtrand.pyx:939\u001b[0m, in \u001b[0;36mnumpy.random.mtrand.RandomState.choice\u001b[1;34m()\u001b[0m\n",
      "\u001b[1;31mValueError\u001b[0m: probabilities do not sum to 1"
     ]
    }
   ],
   "source": [
    "model, loss_values, acc_values = train(1000)"
   ]
  },
  {
   "cell_type": "code",
   "execution_count": 76,
   "metadata": {},
   "outputs": [
    {
     "data": {
      "text/plain": [
       "[<matplotlib.lines.Line2D at 0x2383d529100>]"
      ]
     },
     "execution_count": 76,
     "metadata": {},
     "output_type": "execute_result"
    },
    {
     "data": {
      "image/png": "[encoded data removed]",
      "text/plain": [
       "<Figure size 640x480 with 1 Axes>"
      ]
     },
     "metadata": {},
     "output_type": "display_data"
    }
   ],
   "source": [
    "plt.plot(acc_values)"
   ]
  },
  {
   "cell_type": "code",
   "execution_count": 74,
   "metadata": {},
   "outputs": [
    {
     "data": {
      "text/plain": [
       "[<matplotlib.lines.Line2D at 0x237acbf8dc0>]"
      ]
     },
     "execution_count": 74,
     "metadata": {},
     "output_type": "execute_result"
    },
    {
     "data": {
      "image/png": "[encoded data removed]",
      "text/plain": [
       "<Figure size 640x480 with 1 Axes>"
      ]
     },
     "metadata": {},
     "output_type": "display_data"
    }
   ],
   "source": [
    "plt.plot(loss_values)"
   ]
  },
  {
   "cell_type": "markdown",
   "metadata": {},
   "source": [
    "# MCTS and CNN combined"
   ]
  },
  {
   "cell_type": "markdown",
   "metadata": {},
   "source": [
    "1. Create an MCTS\n",
    "2. Generate a lot of data from the MCTS\n",
    "3. Use the data to train a CNN\n",
    "4. Use the CNN in a new MCTS to hopefully make the MCTS make better choices\n",
    "5. Generate new data with the new MCTS\n",
    "6. Train a new CNN... repeat ad infinitum"
   ]
  },
  {
   "cell_type": "code",
   "execution_count": null,
   "metadata": {},
   "outputs": [
    {
     "name": "stdout",
     "output_type": "stream",
     "text": [
      "Training on 93 datapoints\n",
      "[  0,    5] loss: 3.258\n",
      "[  0,   10] loss: 3.258\n",
      "[  0,   15] loss: 3.260\n",
      "[  0,   20] loss: 3.258\n",
      "[  0,   25] loss: 3.257\n",
      "[  0,   30] loss: 3.261\n",
      "[  0,   35] loss: 3.256\n",
      "[  0,   40] loss: 3.258\n",
      "[  0,   45] loss: 3.256\n",
      "[  0,   50] loss: 3.256\n",
      "[  0,   55] loss: 3.256\n",
      "[  0,   60] loss: 3.258\n",
      "[  0,   65] loss: 3.257\n",
      "[  0,   70] loss: 3.258\n",
      "[  0,   75] loss: 3.257\n",
      "[  0,   80] loss: 3.259\n",
      "[  0,   85] loss: 3.261\n",
      "[  0,   90] loss: 3.258\n",
      "Training on 15 datapoints\n",
      "[  1,    5] loss: 3.258\n",
      "[  1,   10] loss: 3.257\n",
      "[  1,   15] loss: 3.257\n",
      "Training on 63 datapoints\n",
      "[  2,    5] loss: 3.258\n",
      "[  2,   10] loss: 3.257\n",
      "[  2,   15] loss: 3.256\n",
      "[  2,   20] loss: 3.257\n",
      "[  2,   25] loss: 3.255\n",
      "[  2,   30] loss: 3.257\n",
      "[  2,   35] loss: 3.259\n",
      "[  2,   40] loss: 3.256\n",
      "[  2,   45] loss: 3.256\n",
      "[  2,   50] loss: 3.259\n",
      "[  2,   55] loss: 3.256\n",
      "[  2,   60] loss: 3.255\n",
      "Training on 25 datapoints\n",
      "[  3,    5] loss: 3.255\n",
      "[  3,   10] loss: 3.254\n",
      "[  3,   15] loss: 3.259\n",
      "[  3,   20] loss: 3.258\n",
      "[  3,   25] loss: 3.255\n",
      "Training on 82 datapoints\n",
      "[  4,    5] loss: 3.255\n",
      "[  4,   10] loss: 3.255\n",
      "[  4,   15] loss: 3.255\n",
      "[  4,   20] loss: 3.256\n",
      "[  4,   25] loss: 3.260\n",
      "[  4,   30] loss: 3.259\n",
      "[  4,   35] loss: 3.250\n",
      "[  4,   40] loss: 3.259\n",
      "[  4,   45] loss: 3.259\n",
      "[  4,   50] loss: 3.256\n",
      "[  4,   55] loss: 3.257\n",
      "[  4,   60] loss: 3.256\n",
      "[  4,   65] loss: 3.248\n",
      "[  4,   70] loss: 3.248\n",
      "[  4,   75] loss: 3.250\n",
      "[  4,   80] loss: 3.259\n",
      "Training on 54 datapoints\n",
      "[  5,    5] loss: 3.244\n",
      "[  5,   10] loss: 3.247\n",
      "[  5,   15] loss: 3.254\n",
      "[  5,   20] loss: 3.261\n",
      "[  5,   25] loss: 3.256\n",
      "[  5,   30] loss: 3.260\n",
      "[  5,   35] loss: 3.259\n",
      "[  5,   40] loss: 3.252\n",
      "[  5,   45] loss: 3.255\n",
      "[  5,   50] loss: 3.255\n",
      "Training on 23 datapoints\n",
      "[  6,    5] loss: 3.251\n",
      "[  6,   10] loss: 3.261\n",
      "[  6,   15] loss: 3.252\n",
      "[  6,   20] loss: 3.250\n",
      "Training on 119 datapoints\n",
      "[  7,    5] loss: 3.258\n",
      "[  7,   10] loss: 3.260\n",
      "[  7,   15] loss: 3.257\n",
      "[  7,   20] loss: 3.243\n",
      "[  7,   25] loss: 3.243\n",
      "[  7,   30] loss: 3.240\n",
      "[  7,   35] loss: 3.229\n",
      "[  7,   40] loss: 3.243\n",
      "[  7,   45] loss: 3.258\n",
      "[  7,   50] loss: 3.265\n",
      "[  7,   55] loss: 3.258\n",
      "[  7,   60] loss: 3.269\n",
      "[  7,   65] loss: 3.254\n",
      "[  7,   70] loss: 3.245\n",
      "[  7,   75] loss: 3.226\n",
      "[  7,   80] loss: 3.234\n",
      "[  7,   85] loss: 3.256\n",
      "[  7,   90] loss: 3.265\n",
      "[  7,   95] loss: 3.185\n",
      "[  7,  100] loss: 3.219\n",
      "[  7,  105] loss: 3.153\n",
      "[  7,  110] loss: 3.263\n",
      "[  7,  115] loss: 3.263\n",
      "Training on 64 datapoints\n",
      "[  8,    5] loss: 3.258\n",
      "[  8,   10] loss: 3.288\n",
      "[  8,   15] loss: 3.269\n",
      "[  8,   20] loss: 3.172\n",
      "[  8,   25] loss: 2.906\n",
      "[  8,   30] loss: 3.134\n",
      "[  8,   35] loss: 3.238\n",
      "[  8,   40] loss: 2.970\n",
      "[  8,   45] loss: 3.286\n",
      "[  8,   50] loss: 3.116\n",
      "[  8,   55] loss: 3.006\n",
      "[  8,   60] loss: 3.315\n"
     ]
    },
    {
     "ename": "ValueError",
     "evalue": "probabilities do not sum to 1",
     "output_type": "error",
     "traceback": [
      "\u001b[1;31m---------------------------------------------------------------------------\u001b[0m",
      "\u001b[1;31mValueError\u001b[0m                                Traceback (most recent call last)",
      "\u001b[1;32mc:\\Users\\erik\\dev\\ml-project\\project.ipynb Cell 18\u001b[0m in \u001b[0;36m<cell line: 18>\u001b[1;34m()\u001b[0m\n\u001b[0;32m      <a href='vscode-notebook-cell:/c%3A/Users/erik/dev/ml-project/project.ipynb#X23sZmlsZQ%3D%3D?line=0'>1</a>\u001b[0m cnn \u001b[39m=\u001b[39m CNN()\n\u001b[0;32m      <a href='vscode-notebook-cell:/c%3A/Users/erik/dev/ml-project/project.ipynb#X23sZmlsZQ%3D%3D?line=1'>2</a>\u001b[0m \u001b[39m# mcts = Monte_Carlo_Tree_Search(BOARD_SIZE, None)\u001b[39;00m\n\u001b[0;32m      <a href='vscode-notebook-cell:/c%3A/Users/erik/dev/ml-project/project.ipynb#X23sZmlsZQ%3D%3D?line=2'>3</a>\u001b[0m \u001b[39m# mcts.run(1000)\u001b[39;00m\n\u001b[0;32m      <a href='vscode-notebook-cell:/c%3A/Users/erik/dev/ml-project/project.ipynb#X23sZmlsZQ%3D%3D?line=3'>4</a>\u001b[0m \u001b[39m# x, y = mcts.get_tree_data()\u001b[39;00m\n\u001b[1;32m   (...)\u001b[0m\n\u001b[0;32m     <a href='vscode-notebook-cell:/c%3A/Users/erik/dev/ml-project/project.ipynb#X23sZmlsZQ%3D%3D?line=14'>15</a>\u001b[0m \u001b[39m#     loss.backward()\u001b[39;00m\n\u001b[0;32m     <a href='vscode-notebook-cell:/c%3A/Users/erik/dev/ml-project/project.ipynb#X23sZmlsZQ%3D%3D?line=15'>16</a>\u001b[0m \u001b[39m#     optimizer.step()\u001b[39;00m\n\u001b[1;32m---> <a href='vscode-notebook-cell:/c%3A/Users/erik/dev/ml-project/project.ipynb#X23sZmlsZQ%3D%3D?line=17'>18</a>\u001b[0m train_model(cnn, \u001b[39m.01\u001b[39;49m, \u001b[39m.9\u001b[39;49m)\n",
      "\u001b[1;32mc:\\Users\\erik\\dev\\ml-project\\project.ipynb Cell 18\u001b[0m in \u001b[0;36mtrain_model\u001b[1;34m(model, lr, momentum)\u001b[0m\n\u001b[0;32m      <a href='vscode-notebook-cell:/c%3A/Users/erik/dev/ml-project/project.ipynb#X23sZmlsZQ%3D%3D?line=5'>6</a>\u001b[0m \u001b[39mfor\u001b[39;00m epoch \u001b[39min\u001b[39;00m \u001b[39mrange\u001b[39m(\u001b[39m10\u001b[39m):\n\u001b[0;32m      <a href='vscode-notebook-cell:/c%3A/Users/erik/dev/ml-project/project.ipynb#X23sZmlsZQ%3D%3D?line=6'>7</a>\u001b[0m     mcts \u001b[39m=\u001b[39m Monte_Carlo_Tree_Search(BOARD_SIZE, model)\n\u001b[1;32m----> <a href='vscode-notebook-cell:/c%3A/Users/erik/dev/ml-project/project.ipynb#X23sZmlsZQ%3D%3D?line=7'>8</a>\u001b[0m     mcts\u001b[39m.\u001b[39;49mrun_game()\n\u001b[0;32m      <a href='vscode-notebook-cell:/c%3A/Users/erik/dev/ml-project/project.ipynb#X23sZmlsZQ%3D%3D?line=8'>9</a>\u001b[0m     x, y \u001b[39m=\u001b[39m mcts\u001b[39m.\u001b[39mget_tree_data()\n\u001b[0;32m     <a href='vscode-notebook-cell:/c%3A/Users/erik/dev/ml-project/project.ipynb#X23sZmlsZQ%3D%3D?line=9'>10</a>\u001b[0m     running_loss \u001b[39m=\u001b[39m \u001b[39m.0\u001b[39m\n",
      "\u001b[1;32mc:\\Users\\erik\\dev\\ml-project\\project.ipynb Cell 18\u001b[0m in \u001b[0;36mMonte_Carlo_Tree_Search.run_game\u001b[1;34m(self)\u001b[0m\n\u001b[0;32m     <a href='vscode-notebook-cell:/c%3A/Users/erik/dev/ml-project/project.ipynb#X23sZmlsZQ%3D%3D?line=91'>92</a>\u001b[0m     selected_node \u001b[39m=\u001b[39m selected_node\u001b[39m.\u001b[39mchildren[\u001b[39m0\u001b[39m]\n\u001b[0;32m     <a href='vscode-notebook-cell:/c%3A/Users/erik/dev/ml-project/project.ipynb#X23sZmlsZQ%3D%3D?line=93'>94</a>\u001b[0m \u001b[39m# print(\"Rollout\")\u001b[39;00m\n\u001b[1;32m---> <a href='vscode-notebook-cell:/c%3A/Users/erik/dev/ml-project/project.ipynb#X23sZmlsZQ%3D%3D?line=94'>95</a>\u001b[0m rollout_result \u001b[39m=\u001b[39m selected_node\u001b[39m.\u001b[39;49mrollout(\u001b[39mself\u001b[39;49m\u001b[39m.\u001b[39;49mget_weighted_move)\n\u001b[0;32m     <a href='vscode-notebook-cell:/c%3A/Users/erik/dev/ml-project/project.ipynb#X23sZmlsZQ%3D%3D?line=95'>96</a>\u001b[0m \u001b[39mself\u001b[39m\u001b[39m.\u001b[39m__back_propagation(selected_node, rollout_result)\n\u001b[0;32m     <a href='vscode-notebook-cell:/c%3A/Users/erik/dev/ml-project/project.ipynb#X23sZmlsZQ%3D%3D?line=96'>97</a>\u001b[0m \u001b[39m# print(\"Done:\", selected_node.env.done)\u001b[39;00m\n",
      "\u001b[1;32mc:\\Users\\erik\\dev\\ml-project\\project.ipynb Cell 18\u001b[0m in \u001b[0;36mNode.rollout\u001b[1;34m(self, move_selection_method)\u001b[0m\n\u001b[0;32m     <a href='vscode-notebook-cell:/c%3A/Users/erik/dev/ml-project/project.ipynb#X23sZmlsZQ%3D%3D?line=33'>34</a>\u001b[0m done \u001b[39m=\u001b[39m \u001b[39mFalse\u001b[39;00m\n\u001b[0;32m     <a href='vscode-notebook-cell:/c%3A/Users/erik/dev/ml-project/project.ipynb#X23sZmlsZQ%3D%3D?line=34'>35</a>\u001b[0m \u001b[39mwhile\u001b[39;00m \u001b[39mnot\u001b[39;00m done:\n\u001b[1;32m---> <a href='vscode-notebook-cell:/c%3A/Users/erik/dev/ml-project/project.ipynb#X23sZmlsZQ%3D%3D?line=35'>36</a>\u001b[0m     random_action \u001b[39m=\u001b[39m move_selection_method(rollout_env)\n\u001b[0;32m     <a href='vscode-notebook-cell:/c%3A/Users/erik/dev/ml-project/project.ipynb#X23sZmlsZQ%3D%3D?line=36'>37</a>\u001b[0m     _, reward, done, _ \u001b[39m=\u001b[39m rollout_env\u001b[39m.\u001b[39mstep(random_action)\n\u001b[0;32m     <a href='vscode-notebook-cell:/c%3A/Users/erik/dev/ml-project/project.ipynb#X23sZmlsZQ%3D%3D?line=37'>38</a>\u001b[0m     rollout_result \u001b[39m+\u001b[39m\u001b[39m=\u001b[39m reward\n",
      "\u001b[1;32mc:\\Users\\erik\\dev\\ml-project\\project.ipynb Cell 18\u001b[0m in \u001b[0;36mMonte_Carlo_Tree_Search.get_weighted_move\u001b[1;34m(self, env)\u001b[0m\n\u001b[0;32m     <a href='vscode-notebook-cell:/c%3A/Users/erik/dev/ml-project/project.ipynb#X23sZmlsZQ%3D%3D?line=23'>24</a>\u001b[0m \u001b[39mdef\u001b[39;00m \u001b[39mget_weighted_move\u001b[39m(\u001b[39mself\u001b[39m, env : gym\u001b[39m.\u001b[39mEnv):\n\u001b[0;32m     <a href='vscode-notebook-cell:/c%3A/Users/erik/dev/ml-project/project.ipynb#X23sZmlsZQ%3D%3D?line=24'>25</a>\u001b[0m     move_weights \u001b[39m=\u001b[39m \u001b[39mself\u001b[39m\u001b[39m.\u001b[39m__get_move_weights(env)\n\u001b[1;32m---> <a href='vscode-notebook-cell:/c%3A/Users/erik/dev/ml-project/project.ipynb#X23sZmlsZQ%3D%3D?line=25'>26</a>\u001b[0m     \u001b[39mreturn\u001b[39;00m random_weighted_action(move_weights)\n",
      "File \u001b[1;32mc:\\users\\erik\\gymgo\\gym_go\\gogame.py:392\u001b[0m, in \u001b[0;36mrandom_weighted_action\u001b[1;34m(move_weights)\u001b[0m\n\u001b[0;32m    386\u001b[0m \u001b[39m\"\"\"\u001b[39;00m\n\u001b[0;32m    387\u001b[0m \u001b[39mAssumes all invalid moves have weight 0\u001b[39;00m\n\u001b[0;32m    388\u001b[0m \u001b[39mAction is 1D\u001b[39;00m\n\u001b[0;32m    389\u001b[0m \u001b[39mExpected shape is (NUM OF MOVES, )\u001b[39;00m\n\u001b[0;32m    390\u001b[0m \u001b[39m\"\"\"\u001b[39;00m\n\u001b[0;32m    391\u001b[0m move_weights \u001b[39m=\u001b[39m preprocessing\u001b[39m.\u001b[39mnormalize(move_weights[np\u001b[39m.\u001b[39mnewaxis], norm\u001b[39m=\u001b[39m\u001b[39m'\u001b[39m\u001b[39ml1\u001b[39m\u001b[39m'\u001b[39m)\n\u001b[1;32m--> 392\u001b[0m \u001b[39mreturn\u001b[39;00m np\u001b[39m.\u001b[39;49mrandom\u001b[39m.\u001b[39;49mchoice(np\u001b[39m.\u001b[39;49marange(\u001b[39mlen\u001b[39;49m(move_weights[\u001b[39m0\u001b[39;49m])), p\u001b[39m=\u001b[39;49mmove_weights[\u001b[39m0\u001b[39;49m])\n",
      "File \u001b[1;32mmtrand.pyx:939\u001b[0m, in \u001b[0;36mnumpy.random.mtrand.RandomState.choice\u001b[1;34m()\u001b[0m\n",
      "\u001b[1;31mValueError\u001b[0m: probabilities do not sum to 1"
     ]
    }
   ],
   "source": [
    "cnn = CNN()\n",
    "# mcts = Monte_Carlo_Tree_Search(BOARD_SIZE, None)\n",
    "# mcts.run(1000)\n",
    "# x, y = mcts.get_tree_data()\n",
    "# print(\"Datapoints: \", len(x))\n",
    "# criterion = nn.CrossEntropyLoss()\n",
    "# optimizer = optim.SGD(cnn.parameters(), lr=0.001, momentum=0.9)\n",
    "# cnn.to(device)\n",
    "# for i in range(len(x)):\n",
    "#     inputs, labels = torch.tensor(x[i], device=device), torch.tensor(y[i], device=device)\n",
    "#     labels = F.softmax(labels)\n",
    "#     optimizer.zero_grad()\n",
    "#     outputs = cnn(inputs)\n",
    "#     loss = criterion(outputs, labels)\n",
    "#     loss.backward()\n",
    "#     optimizer.step()\n",
    "\n",
    "# train_model(cnn, .01, .9)"
   ]
  }
 ],
 "metadata": {
  "kernelspec": {
   "display_name": "Python 3.9.13 ('ml-project')",
   "language": "python",
   "name": "python3"
  },
  "language_info": {
   "codemirror_mode": {
    "name": "ipython",
    "version": 3
   },
   "file_extension": ".py",
   "mimetype": "text/x-python",
   "name": "python",
   "nbconvert_exporter": "python",
   "pygments_lexer": "ipython3",
   "version": "3.9.13"
  },
  "orig_nbformat": 4,
  "vscode": {
   "interpreter": {
    "hash": "554e4e9be84610b8cfdc647d12e0c13356c189fbf7b6128724357bba0c0ac4f1"
   }
  }
 },
 "nbformat": 4,
 "nbformat_minor": 2
}
