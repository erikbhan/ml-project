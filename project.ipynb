{
 "cells": [
  {
   "cell_type": "markdown",
   "metadata": {},
   "source": [
    "# Imports"
   ]
  },
  {
   "cell_type": "code",
   "execution_count": 1,
   "metadata": {},
   "outputs": [],
   "source": [
    "# ignore deprecation warnings ('safe' as long as we don't update packages)\n",
    "from warnings import filterwarnings\n",
    "filterwarnings(\"ignore\")\n",
    "\n",
    "from math import sqrt, log, inf\n",
    "import copy\n",
    "\n",
    "import gym\n",
    "from gym_go.gogame import turn, random_weighted_action, random_action\n",
    "\n",
    "import torch\n",
    "import torch.nn as nn\n",
    "import torch.optim as optim\n",
    "import torch.nn.functional as F\n",
    "\n",
    "import matplotlib.pyplot as plt\n",
    "import numpy as np"
   ]
  },
  {
   "cell_type": "markdown",
   "metadata": {},
   "source": [
    "# Constants"
   ]
  },
  {
   "cell_type": "code",
   "execution_count": 2,
   "metadata": {},
   "outputs": [],
   "source": [
    "UCB_C = 30\n",
    "\n",
    "# Board will be a BOARD_SIZE * BOARD_SIZE board (BOARD_SIZE**2)\n",
    "BOARD_SIZE = 5\n",
    "ACTIONSPACE_LENGTH = BOARD_SIZE ** 2 + 1\n",
    "'''\n",
    "The state object that is returned by the reset and step functions of the environment is a\n",
    "6 x BOARD_SIZE x BOARD_SIZE numpy array. All values in the array are either 0 or 1.\n",
    "'''\n",
    "\n",
    "# 0 - Black pieces\n",
    "# 1 - White pieces\n",
    "# 2 - Turn (0 - black, 1 - white)\n",
    "# 3 - Invalid moves (including ko-protection)\n",
    "# 4 - Previous move was a pass\n",
    "# 5 - Game over\n",
    "BLACK, WHITE, INVALID = 0, 1, 3"
   ]
  },
  {
   "cell_type": "markdown",
   "metadata": {},
   "source": [
    "# Monte Carlo Tree Search\n",
    "\n",
    "1. Selection\n",
    "    - Taverse the tree to find greatest UCB-score\n",
    "2. Expansion\n",
    "    - If the selected leaf node has been visited before expand by adding weighted game action\n",
    "3. Rollout\n",
    "    - Simulate the game until end-condition from the expanded leaf\n",
    "4. Back-propagation\n",
    "    - Updating the value of each ancestor node of the expanded leaf\n"
   ]
  },
  {
   "cell_type": "code",
   "execution_count": 3,
   "metadata": {},
   "outputs": [],
   "source": [
    "class Node():\n",
    "    def __init__(self, env, parent, action):\n",
    "        self.env : gym.Env = env # This env will be altered by the other player\n",
    "        self.value : int = 0 # Value estimate\n",
    "        self.trials : int = 0 # Number of trials for this node\n",
    "        self.parent : Node = parent # Parent node of this node\n",
    "        self.children : list[Node] = [] # List of children of this node\n",
    "        self.action : int = action # The step action made by this node\n",
    "    \n",
    "    # calculate a Upper Confidence Bound\n",
    "    def ucb(self, total_trials):\n",
    "        return self.value + ( UCB_C * sqrt(log(total_trials) / self.trials) )\n",
    "    \n",
    "    # Add a new node to a leaf node\n",
    "    def expansion(self, move_weights):\n",
    "        if self.env.done:\n",
    "            return\n",
    "        board_shape = self.env.state().shape[1:]\n",
    "        pass_id = np.prod(board_shape)\n",
    "        for action in range(0, pass_id + 1):\n",
    "            action2d = action // board_shape[0], action % board_shape[1]\n",
    "            if action == pass_id or self.env.state()[3, action2d[0], action2d[1]] == 0:\n",
    "                child_env = copy.deepcopy(self.env)\n",
    "                child_env.step(action)\n",
    "                child = Node(child_env, self, action)\n",
    "                child.value = move_weights[action]\n",
    "                self.children.append(child)\n",
    "\n",
    "    # Simulate game from current move until end-condition returning the score\n",
    "    def rollout(self, move_selection_method):\n",
    "        if self.env.done:\n",
    "            return self.env.reward()\n",
    "        \n",
    "        rollout_env = copy.deepcopy(self.env)\n",
    "        rollout_result = 0\n",
    "        done = False\n",
    "        while not done:\n",
    "            random_action = move_selection_method(rollout_env)\n",
    "            _, reward, done, _ = rollout_env.step(random_action)\n",
    "            rollout_result += reward\n",
    "        return rollout_result"
   ]
  },
  {
   "cell_type": "code",
   "execution_count": 59,
   "metadata": {},
   "outputs": [],
   "source": [
    "class Monte_Carlo_Tree_Search():\n",
    "    def __init__(self, size, ml_model):\n",
    "        self.env : gym.Env = gym.make('gym_go:go-v0', size=size, reward_method='heuristic')\n",
    "        self.env.reset()\n",
    "        self.number_of_trials : int = 0\n",
    "        self.root = Node(self.env, None, None)\n",
    "        self.ml_model = ml_model\n",
    "    \n",
    "    # Gets the weights of all moves from the Machine Learning model\n",
    "    def __get_move_weights(self, env : gym.Env):\n",
    "        state = env.state()\n",
    "        if self.ml_model is not None:\n",
    "            self.ml_model.forward(state)\n",
    "        if self.ml_model is None:\n",
    "            move_weights = np.ones(ACTIONSPACE_LENGTH)\n",
    "\n",
    "        board_shape = state.shape[1:]\n",
    "        for i in range(len(move_weights) - 1):\n",
    "            action2d = i // board_shape[0], i % board_shape[1], i\n",
    "            if state[INVALID, action2d[0], action2d[1]] == 1:\n",
    "                move_weights[i] = 0.0\n",
    "\n",
    "        return move_weights\n",
    "\n",
    "    # Gets a weighted move for the given env\n",
    "    def get_weighted_move(self, env : gym.Env):\n",
    "        move_weights = self.__get_move_weights(env)\n",
    "        return random_weighted_action(move_weights)\n",
    "\n",
    "    # Update scores of all parent nodes after rollout\n",
    "    def __back_propagation(self, rollout_node: Node, rollout_result):\n",
    "        current_node = rollout_node\n",
    "        while current_node != None:\n",
    "            current_node.trials += 1\n",
    "            if turn(self.env.state()) == BLACK:\n",
    "                current_node.value -= rollout_result\n",
    "            if turn(self.env.state()) == WHITE:                \n",
    "                current_node.value += rollout_result\n",
    "            current_node = current_node.parent\n",
    "        self.number_of_trials += 1\n",
    "    \n",
    "    # Find and return the leaf node with the highest UCB-score \n",
    "    def __selection(self, node: Node = None):\n",
    "        if node is None:\n",
    "            node = self.root\n",
    "        selected_child = node\n",
    "        current_node = node\n",
    "        while len(current_node.children) > 0:\n",
    "            current_best_ucb = -inf\n",
    "            for child in current_node.children:\n",
    "                if child.trials == 0:\n",
    "                    return child\n",
    "\n",
    "                child_ucb = child.ucb(self.number_of_trials)\n",
    "\n",
    "                if child.env.done and child_ucb > current_best_ucb:\n",
    "                    # ups the number of trials so ucb is lowered since this game is fully explored\n",
    "                    child.trials += 1\n",
    "\n",
    "                if child_ucb > current_best_ucb:\n",
    "                    selected_child = child\n",
    "                    current_best_ucb = child_ucb\n",
    "\n",
    "            current_node = selected_child\n",
    "\n",
    "        return selected_child\n",
    "    \n",
    "    # Explores the tree for the given number of iterations\n",
    "    def run(self, iterations, node: Node = None):\n",
    "        if node is None:\n",
    "            node = self.root\n",
    "        \n",
    "        if len(node.children) == 0:\n",
    "            node.expansion(self.__get_move_weights(node.env))\n",
    "\n",
    "        selected_node = node\n",
    "        run = 0\n",
    "        while run < iterations:\n",
    "            selected_node = self.__selection(node)\n",
    "\n",
    "            if selected_node.env.done:\n",
    "                self.__back_propagation(selected_node, 0)\n",
    "                run += 1\n",
    "                continue\n",
    "\n",
    "            if selected_node.trials > 0:\n",
    "                selected_node.expansion(self.__get_move_weights(selected_node.env))\n",
    "                selected_node = selected_node.children[0]\n",
    "\n",
    "            rollout_result = selected_node.rollout(self.get_weighted_move)\n",
    "            \n",
    "            self.__back_propagation(selected_node, rollout_result)\n",
    "            run += 1\n",
    "    \n",
    "    # searches the tree for a spesific state\n",
    "    def __find_node_from_state(self, state, node: Node = None):\n",
    "        if node is None:\n",
    "            node = self.root\n",
    "        if np.array_equal(node.env.state(), state):\n",
    "            return node\n",
    "\n",
    "        for child in node.children:\n",
    "            if np.array_equal(child.env.state(), state):\n",
    "                return child\n",
    "            \n",
    "            res = self.__find_node_from_state(state, child)\n",
    "            if res != None and np.array_equal(res.env.state(), state):\n",
    "                return res\n",
    "\n",
    "    # Attempts to find the best move from the tree by searching for the state and finding the best child for that state\n",
    "    def get_move_from_env(self, env):\n",
    "        node = self.__find_node_from_state(env.state())\n",
    "        \n",
    "        if node != None:\n",
    "            self.run(15, node)\n",
    "            best_child = None\n",
    "            current_best_value = -inf\n",
    "            for child in node.children:\n",
    "                if child.value > current_best_value:\n",
    "                    best_child = child\n",
    "                    current_best_value = child.value\n",
    "\n",
    "            if best_child != None:\n",
    "                if len(best_child.children) == 0:\n",
    "                    best_child.expansion(self.__get_move_weights(best_child.env))\n",
    "                return best_child\n",
    "        \n",
    "        return None\n",
    "\n",
    "    # Makes a list of all states and a list of all move_weights for all expanded nodes in the tree\n",
    "    def get_tree_data(self):\n",
    "        x, y = [], []\n",
    "        self.__get_node_data(self.root, x, y)\n",
    "        return torch.tensor(x), torch.tensor(y)\n",
    "\n",
    "    # recurrsive tree traversal method for get_tree_data\n",
    "    def __get_node_data(self, node, x, y):\n",
    "        x.append(node.env.state())\n",
    "        y.append([0] * (BOARD_SIZE**2 + 1))\n",
    "        for child in node.children:\n",
    "            y[-1][child.action] = child.value\n",
    "            if len(child.children) > 0:\n",
    "                self.__get_node_data(child, x, y)"
   ]
  },
  {
   "cell_type": "code",
   "execution_count": 51,
   "metadata": {},
   "outputs": [],
   "source": [
    "def play_game_no_render(mcts : Monte_Carlo_Tree_Search, go_env: gym.Env):\n",
    "    go_env.reset()\n",
    "    done = go_env.done\n",
    "    turn_nr = 0\n",
    "    while not done:\n",
    "        action = random_action(go_env.state())\n",
    "        _, _, done, _ = go_env.step(action)\n",
    "\n",
    "        if done:\n",
    "            continue\n",
    "\n",
    "        node = mcts.get_move_from_env(go_env)\n",
    "        _, _, done, _ = go_env.step(node.action)\n",
    "        turn_nr += 1\n",
    "        if turn_nr > 300:\n",
    "            break\n",
    "    \n",
    "    return go_env"
   ]
  },
  {
   "cell_type": "code",
   "execution_count": 53,
   "metadata": {},
   "outputs": [
    {
     "name": "stderr",
     "output_type": "stream",
     "text": [
      "c:\\Users\\Alida\\Documents\\Skole\\Dataingenior5.semester\\Maskinlering\\ml-project\\ml-venv\\lib\\site-packages\\gym\\utils\\passive_env_checker.py:219: DeprecationWarning: \u001b[33mWARN: Core environment is written in old step API which returns one bool instead of two. It is recommended to rewrite the environment with new step API. \u001b[0m\n",
      "  logger.deprecation(\n"
     ]
    }
   ],
   "source": [
    "mcts_test = Monte_Carlo_Tree_Search(BOARD_SIZE, None)\n",
    "mcts_test.run(1000)"
   ]
  },
  {
   "cell_type": "code",
   "execution_count": 54,
   "metadata": {},
   "outputs": [
    {
     "name": "stderr",
     "output_type": "stream",
     "text": [
      "c:\\Users\\Alida\\Documents\\Skole\\Dataingenior5.semester\\Maskinlering\\ml-project\\ml-venv\\lib\\site-packages\\gym\\utils\\passive_env_checker.py:219: DeprecationWarning: \u001b[33mWARN: Core environment is written in old step API which returns one bool instead of two. It is recommended to rewrite the environment with new step API. \u001b[0m\n",
      "  logger.deprecation(\n"
     ]
    },
    {
     "name": "stdout",
     "output_type": "stream",
     "text": [
      "White won!\n"
     ]
    },
    {
     "name": "stderr",
     "output_type": "stream",
     "text": [
      "c:\\Users\\Alida\\Documents\\Skole\\Dataingenior5.semester\\Maskinlering\\ml-project\\ml-venv\\lib\\site-packages\\gym\\utils\\passive_env_checker.py:219: DeprecationWarning: \u001b[33mWARN: Core environment is written in old step API which returns one bool instead of two. It is recommended to rewrite the environment with new step API. \u001b[0m\n",
      "  logger.deprecation(\n"
     ]
    },
    {
     "name": "stdout",
     "output_type": "stream",
     "text": [
      "Black won!\n"
     ]
    },
    {
     "name": "stderr",
     "output_type": "stream",
     "text": [
      "c:\\Users\\Alida\\Documents\\Skole\\Dataingenior5.semester\\Maskinlering\\ml-project\\ml-venv\\lib\\site-packages\\gym\\utils\\passive_env_checker.py:219: DeprecationWarning: \u001b[33mWARN: Core environment is written in old step API which returns one bool instead of two. It is recommended to rewrite the environment with new step API. \u001b[0m\n",
      "  logger.deprecation(\n"
     ]
    },
    {
     "name": "stdout",
     "output_type": "stream",
     "text": [
      "White won!\n"
     ]
    },
    {
     "name": "stderr",
     "output_type": "stream",
     "text": [
      "c:\\Users\\Alida\\Documents\\Skole\\Dataingenior5.semester\\Maskinlering\\ml-project\\ml-venv\\lib\\site-packages\\gym\\utils\\passive_env_checker.py:219: DeprecationWarning: \u001b[33mWARN: Core environment is written in old step API which returns one bool instead of two. It is recommended to rewrite the environment with new step API. \u001b[0m\n",
      "  logger.deprecation(\n"
     ]
    },
    {
     "name": "stdout",
     "output_type": "stream",
     "text": [
      "White won!\n"
     ]
    },
    {
     "name": "stderr",
     "output_type": "stream",
     "text": [
      "c:\\Users\\Alida\\Documents\\Skole\\Dataingenior5.semester\\Maskinlering\\ml-project\\ml-venv\\lib\\site-packages\\gym\\utils\\passive_env_checker.py:219: DeprecationWarning: \u001b[33mWARN: Core environment is written in old step API which returns one bool instead of two. It is recommended to rewrite the environment with new step API. \u001b[0m\n",
      "  logger.deprecation(\n"
     ]
    },
    {
     "name": "stdout",
     "output_type": "stream",
     "text": [
      "White won!\n"
     ]
    },
    {
     "name": "stderr",
     "output_type": "stream",
     "text": [
      "c:\\Users\\Alida\\Documents\\Skole\\Dataingenior5.semester\\Maskinlering\\ml-project\\ml-venv\\lib\\site-packages\\gym\\utils\\passive_env_checker.py:219: DeprecationWarning: \u001b[33mWARN: Core environment is written in old step API which returns one bool instead of two. It is recommended to rewrite the environment with new step API. \u001b[0m\n",
      "  logger.deprecation(\n"
     ]
    },
    {
     "name": "stdout",
     "output_type": "stream",
     "text": [
      "White won!\n"
     ]
    },
    {
     "name": "stderr",
     "output_type": "stream",
     "text": [
      "c:\\Users\\Alida\\Documents\\Skole\\Dataingenior5.semester\\Maskinlering\\ml-project\\ml-venv\\lib\\site-packages\\gym\\utils\\passive_env_checker.py:219: DeprecationWarning: \u001b[33mWARN: Core environment is written in old step API which returns one bool instead of two. It is recommended to rewrite the environment with new step API. \u001b[0m\n",
      "  logger.deprecation(\n"
     ]
    },
    {
     "name": "stdout",
     "output_type": "stream",
     "text": [
      "White won!\n"
     ]
    },
    {
     "name": "stderr",
     "output_type": "stream",
     "text": [
      "c:\\Users\\Alida\\Documents\\Skole\\Dataingenior5.semester\\Maskinlering\\ml-project\\ml-venv\\lib\\site-packages\\gym\\utils\\passive_env_checker.py:219: DeprecationWarning: \u001b[33mWARN: Core environment is written in old step API which returns one bool instead of two. It is recommended to rewrite the environment with new step API. \u001b[0m\n",
      "  logger.deprecation(\n"
     ]
    },
    {
     "name": "stdout",
     "output_type": "stream",
     "text": [
      "White won!\n"
     ]
    },
    {
     "name": "stderr",
     "output_type": "stream",
     "text": [
      "c:\\Users\\Alida\\Documents\\Skole\\Dataingenior5.semester\\Maskinlering\\ml-project\\ml-venv\\lib\\site-packages\\gym\\utils\\passive_env_checker.py:219: DeprecationWarning: \u001b[33mWARN: Core environment is written in old step API which returns one bool instead of two. It is recommended to rewrite the environment with new step API. \u001b[0m\n",
      "  logger.deprecation(\n"
     ]
    },
    {
     "name": "stdout",
     "output_type": "stream",
     "text": [
      "White won!\n"
     ]
    }
   ],
   "source": [
    "for i in range(1,10):\n",
    "    env = play_game_no_render(mcts_test, copy.deepcopy(mcts_test.env))\n",
    "    if not env.done:\n",
    "        print(\"Game stopped after 300 turns: \\nIt was resigned and is a draw.\")\n",
    "        continue\n",
    "        \n",
    "    if env.reward() < 0:\n",
    "        print(\"White won!\")\n",
    "    if env.reward() > 0:\n",
    "        print(\"Black won!\")\n",
    "    if env.reward() == 0:\n",
    "        print(\"It's a draw!\")"
   ]
  },
  {
   "cell_type": "markdown",
   "metadata": {},
   "source": [
    "# Convolutional Neural Network"
   ]
  },
  {
   "cell_type": "code",
   "execution_count": null,
   "metadata": {},
   "outputs": [
    {
     "name": "stdout",
     "output_type": "stream",
     "text": [
      "Using cuda:0\n"
     ]
    },
    {
     "ename": "",
     "evalue": "",
     "output_type": "error",
     "traceback": [
      "\u001b[1;31mnotebook controller is DISPOSED. \n",
      "\u001b[1;31mView Jupyter <a href='command:jupyter.viewOutput'>log</a> for further details."
     ]
    },
    {
     "ename": "",
     "evalue": "",
     "output_type": "error",
     "traceback": [
      "\u001b[1;31mnotebook controller is DISPOSED. \n",
      "\u001b[1;31mView Jupyter <a href='command:jupyter.viewOutput'>log</a> for further details."
     ]
    }
   ],
   "source": [
    "device = torch.device(\"cuda:0\" if torch.cuda.is_available() else \"cpu\")\n",
    "print(f\"Using {device}\")"
   ]
  },
  {
   "cell_type": "code",
   "execution_count": 157,
   "metadata": {},
   "outputs": [
    {
     "ename": "",
     "evalue": "",
     "output_type": "error",
     "traceback": [
      "\u001b[1;31mnotebook controller is DISPOSED. \n",
      "\u001b[1;31mView Jupyter <a href='command:jupyter.viewOutput'>log</a> for further details."
     ]
    },
    {
     "ename": "",
     "evalue": "",
     "output_type": "error",
     "traceback": [
      "\u001b[1;31mnotebook controller is DISPOSED. \n",
      "\u001b[1;31mView Jupyter <a href='command:jupyter.viewOutput'>log</a> for further details."
     ]
    }
   ],
   "source": [
    "class CNN(nn.Module):\n",
    "    def __init__(self):\n",
    "        super().__init__()\n",
    "        self.pool = nn.MaxPool2d(2, 2)\n",
    "        self.conv1 = nn.Conv2d(6, 64, kernel_size=3, padding=1)\n",
    "        self.conv2 = nn.Conv2d(64, 128, kernel_size=3, padding=1)\n",
    "        self.fc1 = nn.Linear(128, 26)\n",
    "\n",
    "    def forward(self, x):\n",
    "        x = x.float()\n",
    "        x = x.to(device)\n",
    "        x = self.pool(F.relu(self.conv1(x)))\n",
    "        x = self.pool(F.relu(self.conv2(x)))\n",
    "        x = torch.flatten(x, 0, -1)\n",
    "        x = self.fc1(x)\n",
    "        x = F.softmax(x)\n",
    "        return x\n",
    "\n",
    "    def avg_accuracy(self, x, y):\n",
    "        avg = 0\n",
    "        for i in range(len(x)):\n",
    "            print(x.shape)\n",
    "            avg += torch.mean(torch.eq(self.forward(x[i]).argmax(), y[i].argmax()).float())\n",
    "        return avg / len(x)"
   ]
  },
  {
   "cell_type": "code",
   "execution_count": 158,
   "metadata": {},
   "outputs": [
    {
     "ename": "",
     "evalue": "",
     "output_type": "error",
     "traceback": [
      "\u001b[1;31mnotebook controller is DISPOSED. \n",
      "\u001b[1;31mView Jupyter <a href='command:jupyter.viewOutput'>log</a> for further details."
     ]
    },
    {
     "ename": "",
     "evalue": "",
     "output_type": "error",
     "traceback": [
      "\u001b[1;31mnotebook controller is DISPOSED. \n",
      "\u001b[1;31mView Jupyter <a href='command:jupyter.viewOutput'>log</a> for further details."
     ]
    }
   ],
   "source": [
    "# utility methods for importing and exporting models, defined outside class\n",
    "def export_model(cnn, name=\"cnn\"):\n",
    "    torch.save(cnn.state_dict(), \"cnns/\" + name + \".pth\")\n",
    "\n",
    "def import_model(cnn, name=\"cnn\"):\n",
    "    cnn.load_state_dict(torch.load(\"cnns/\" + name + \".pth\"))"
   ]
  },
  {
   "cell_type": "code",
   "execution_count": 205,
   "metadata": {},
   "outputs": [
    {
     "ename": "",
     "evalue": "",
     "output_type": "error",
     "traceback": [
      "\u001b[1;31mnotebook controller is DISPOSED. \n",
      "\u001b[1;31mView Jupyter <a href='command:jupyter.viewOutput'>log</a> for further details."
     ]
    },
    {
     "ename": "",
     "evalue": "",
     "output_type": "error",
     "traceback": [
      "\u001b[1;31mnotebook controller is DISPOSED. \n",
      "\u001b[1;31mView Jupyter <a href='command:jupyter.viewOutput'>log</a> for further details."
     ]
    }
   ],
   "source": [
    "def train_model(model, lr, momentum):\n",
    "    criterion = nn.CrossEntropyLoss()\n",
    "    optimizer = optim.SGD(model.parameters(), lr=lr, momentum=momentum)\n",
    "    model.to(device)\n",
    "\n",
    "    for epoch in range(500):\n",
    "        mcts = Monte_Carlo_Tree_Search(BOARD_SIZE, model)\n",
    "        mcts.run(500)\n",
    "        x, y = mcts.get_tree_data()\n",
    "        running_loss = .0\n",
    "        print(f\"Training on {len(x)} datapoints\")\n",
    "        for i in range(len(x)):\n",
    "            inputs, labels = torch.tensor(x[i], device=device), torch.tensor(y[i], device=device)\n",
    "            labels = F.softmax(labels)\n",
    "            optimizer.zero_grad()\n",
    "            outputs = model(inputs)\n",
    "            loss = criterion(outputs, labels)\n",
    "            loss.backward()\n",
    "            optimizer.step()\n",
    "            running_loss += loss.item()\n",
    "\n",
    "            if i % 20 == 19:\n",
    "                print(f'[{epoch:3d}, {i + 1:4d}] loss: {running_loss / 20:.3f}')\n",
    "                running_loss = 0.0"
   ]
  },
  {
   "cell_type": "markdown",
   "metadata": {},
   "source": [
    "# MCTS and CNN combined"
   ]
  },
  {
   "cell_type": "markdown",
   "metadata": {},
   "source": [
    "1. Create an MCTS\n",
    "2. Generate a lot of data from the MCTS\n",
    "3. Use the data to train a CNN\n",
    "4. Use the CNN in a new MCTS to hopefully make the MCTS make better choices\n",
    "5. Generate new data with the new MCTS\n",
    "6. Train a new CNN... repeat ad infinitum"
   ]
  },
  {
   "cell_type": "code",
   "execution_count": 206,
   "metadata": {},
   "outputs": [
    {
     "name": "stdout",
     "output_type": "stream",
     "text": [
      "Training on 57 datapoints\n",
      "[  0,   20] loss: 3.259\n",
      "[  0,   40] loss: 3.258\n",
      "Training on 61 datapoints\n",
      "[  1,   20] loss: 3.258\n",
      "[  1,   40] loss: 3.258\n",
      "[  1,   60] loss: 3.256\n",
      "Training on 54 datapoints\n",
      "[  2,   20] loss: 3.256\n",
      "[  2,   40] loss: 3.257\n",
      "Training on 62 datapoints\n",
      "[  3,   20] loss: 3.257\n",
      "[  3,   40] loss: 3.257\n",
      "[  3,   60] loss: 3.255\n",
      "Training on 65 datapoints\n",
      "[  4,   20] loss: 3.255\n",
      "[  4,   40] loss: 3.252\n",
      "[  4,   60] loss: 3.255\n",
      "Training on 49 datapoints\n",
      "[  5,   20] loss: 3.254\n",
      "[  5,   40] loss: 3.257\n",
      "Training on 57 datapoints\n",
      "[  6,   20] loss: 3.250\n",
      "[  6,   40] loss: 3.256\n",
      "Training on 57 datapoints\n",
      "[  7,   20] loss: 3.260\n",
      "[  7,   40] loss: 3.250\n",
      "Training on 49 datapoints\n",
      "[  8,   20] loss: 3.250\n",
      "[  8,   40] loss: 3.248\n",
      "Training on 53 datapoints\n",
      "[  9,   20] loss: 3.178\n",
      "[  9,   40] loss: 3.174\n",
      "Training on 55 datapoints\n",
      "[ 10,   20] loss: 3.253\n",
      "[ 10,   40] loss: 3.198\n",
      "Training on 67 datapoints\n",
      "[ 11,   20] loss: 3.222\n",
      "[ 11,   40] loss: 3.166\n",
      "[ 11,   60] loss: 3.181\n",
      "Training on 60 datapoints\n",
      "[ 12,   20] loss: 3.173\n",
      "[ 12,   40] loss: 3.274\n",
      "[ 12,   60] loss: 3.129\n"
     ]
    },
    {
     "ename": "",
     "evalue": "",
     "output_type": "error",
     "traceback": [
      "\u001b[1;31mnotebook controller is DISPOSED. \n",
      "\u001b[1;31mView Jupyter <a href='command:jupyter.viewOutput'>log</a> for further details."
     ]
    },
    {
     "ename": "",
     "evalue": "",
     "output_type": "error",
     "traceback": [
      "\u001b[1;31mnotebook controller is DISPOSED. \n",
      "\u001b[1;31mView Jupyter <a href='command:jupyter.viewOutput'>log</a> for further details."
     ]
    }
   ],
   "source": [
    "cnn = CNN()\n",
    "mcts = Monte_Carlo_Tree_Search(BOARD_SIZE, cnn)\n",
    "mcts.run(10_000)\n",
    "x, y = mcts.get_tree_data()\n",
    "# print(f\"Model structure: {cnn}\\n\\n\")"
   ]
  },
  {
   "cell_type": "code",
   "execution_count": null,
   "metadata": {},
   "outputs": [
    {
     "name": "stdout",
     "output_type": "stream",
     "text": [
      "Training on 167 datapoints\n"
     ]
    },
    {
     "ename": "RuntimeError",
     "evalue": "mat1 and mat2 shapes cannot be multiplied (1x10688 and 64x120)",
     "output_type": "error",
     "traceback": [
      "\u001b[1;31m---------------------------------------------------------------------------\u001b[0m",
      "\u001b[1;31mRuntimeError\u001b[0m                              Traceback (most recent call last)",
      "\u001b[1;32mc:\\Users\\erik\\dev\\ml-project\\project.ipynb Cell 19\u001b[0m in \u001b[0;36m<cell line: 3>\u001b[1;34m()\u001b[0m\n\u001b[0;32m      <a href='vscode-notebook-cell:/c%3A/Users/erik/dev/ml-project/project.ipynb#X61sZmlsZQ%3D%3D?line=0'>1</a>\u001b[0m cnn \u001b[39m=\u001b[39m CNN()\n\u001b[0;32m      <a href='vscode-notebook-cell:/c%3A/Users/erik/dev/ml-project/project.ipynb#X61sZmlsZQ%3D%3D?line=1'>2</a>\u001b[0m train_model(cnn, x, y, \u001b[39m.001\u001b[39m, \u001b[39m.9\u001b[39m)\n\u001b[1;32m----> <a href='vscode-notebook-cell:/c%3A/Users/erik/dev/ml-project/project.ipynb#X61sZmlsZQ%3D%3D?line=2'>3</a>\u001b[0m \u001b[39mprint\u001b[39m(cnn\u001b[39m.\u001b[39;49maccuracy(x, y))\n",
      "\u001b[1;32mc:\\Users\\erik\\dev\\ml-project\\project.ipynb Cell 19\u001b[0m in \u001b[0;36mCNN.accuracy\u001b[1;34m(self, x, y)\u001b[0m\n\u001b[0;32m     <a href='vscode-notebook-cell:/c%3A/Users/erik/dev/ml-project/project.ipynb#X61sZmlsZQ%3D%3D?line=24'>25</a>\u001b[0m \u001b[39mdef\u001b[39;00m \u001b[39maccuracy\u001b[39m(\u001b[39mself\u001b[39m, x, y):\n\u001b[1;32m---> <a href='vscode-notebook-cell:/c%3A/Users/erik/dev/ml-project/project.ipynb#X61sZmlsZQ%3D%3D?line=25'>26</a>\u001b[0m     \u001b[39mreturn\u001b[39;00m torch\u001b[39m.\u001b[39mmean(torch\u001b[39m.\u001b[39meq(\u001b[39mself\u001b[39;49m\u001b[39m.\u001b[39;49mforward(x)\u001b[39m.\u001b[39margmax(\u001b[39m1\u001b[39m), y\u001b[39m.\u001b[39margmax(\u001b[39m1\u001b[39m))\u001b[39m.\u001b[39mfloat())\n",
      "\u001b[1;32mc:\\Users\\erik\\dev\\ml-project\\project.ipynb Cell 19\u001b[0m in \u001b[0;36mCNN.forward\u001b[1;34m(self, x)\u001b[0m\n\u001b[0;32m     <a href='vscode-notebook-cell:/c%3A/Users/erik/dev/ml-project/project.ipynb#X61sZmlsZQ%3D%3D?line=17'>18</a>\u001b[0m x \u001b[39m=\u001b[39m torch\u001b[39m.\u001b[39mflatten(x,\u001b[39m0\u001b[39m, \u001b[39m-\u001b[39m\u001b[39m1\u001b[39m)\n\u001b[0;32m     <a href='vscode-notebook-cell:/c%3A/Users/erik/dev/ml-project/project.ipynb#X61sZmlsZQ%3D%3D?line=18'>19</a>\u001b[0m x \u001b[39m=\u001b[39m x\u001b[39m.\u001b[39mt()\n\u001b[1;32m---> <a href='vscode-notebook-cell:/c%3A/Users/erik/dev/ml-project/project.ipynb#X61sZmlsZQ%3D%3D?line=19'>20</a>\u001b[0m x \u001b[39m=\u001b[39m F\u001b[39m.\u001b[39mrelu(\u001b[39mself\u001b[39;49m\u001b[39m.\u001b[39;49mfc1(x))\n\u001b[0;32m     <a href='vscode-notebook-cell:/c%3A/Users/erik/dev/ml-project/project.ipynb#X61sZmlsZQ%3D%3D?line=20'>21</a>\u001b[0m x \u001b[39m=\u001b[39m F\u001b[39m.\u001b[39mrelu(\u001b[39mself\u001b[39m\u001b[39m.\u001b[39mfc2(x))\n\u001b[0;32m     <a href='vscode-notebook-cell:/c%3A/Users/erik/dev/ml-project/project.ipynb#X61sZmlsZQ%3D%3D?line=21'>22</a>\u001b[0m x \u001b[39m=\u001b[39m \u001b[39mself\u001b[39m\u001b[39m.\u001b[39mfc3(x)\n",
      "File \u001b[1;32mc:\\Users\\erik\\miniconda3\\envs\\ml-project\\lib\\site-packages\\torch\\nn\\modules\\module.py:1190\u001b[0m, in \u001b[0;36mModule._call_impl\u001b[1;34m(self, *input, **kwargs)\u001b[0m\n\u001b[0;32m   1186\u001b[0m \u001b[39m# If we don't have any hooks, we want to skip the rest of the logic in\u001b[39;00m\n\u001b[0;32m   1187\u001b[0m \u001b[39m# this function, and just call forward.\u001b[39;00m\n\u001b[0;32m   1188\u001b[0m \u001b[39mif\u001b[39;00m \u001b[39mnot\u001b[39;00m (\u001b[39mself\u001b[39m\u001b[39m.\u001b[39m_backward_hooks \u001b[39mor\u001b[39;00m \u001b[39mself\u001b[39m\u001b[39m.\u001b[39m_forward_hooks \u001b[39mor\u001b[39;00m \u001b[39mself\u001b[39m\u001b[39m.\u001b[39m_forward_pre_hooks \u001b[39mor\u001b[39;00m _global_backward_hooks\n\u001b[0;32m   1189\u001b[0m         \u001b[39mor\u001b[39;00m _global_forward_hooks \u001b[39mor\u001b[39;00m _global_forward_pre_hooks):\n\u001b[1;32m-> 1190\u001b[0m     \u001b[39mreturn\u001b[39;00m forward_call(\u001b[39m*\u001b[39m\u001b[39minput\u001b[39m, \u001b[39m*\u001b[39m\u001b[39m*\u001b[39mkwargs)\n\u001b[0;32m   1191\u001b[0m \u001b[39m# Do not call functions when jit is used\u001b[39;00m\n\u001b[0;32m   1192\u001b[0m full_backward_hooks, non_full_backward_hooks \u001b[39m=\u001b[39m [], []\n",
      "File \u001b[1;32mc:\\Users\\erik\\miniconda3\\envs\\ml-project\\lib\\site-packages\\torch\\nn\\modules\\linear.py:114\u001b[0m, in \u001b[0;36mLinear.forward\u001b[1;34m(self, input)\u001b[0m\n\u001b[0;32m    113\u001b[0m \u001b[39mdef\u001b[39;00m \u001b[39mforward\u001b[39m(\u001b[39mself\u001b[39m, \u001b[39minput\u001b[39m: Tensor) \u001b[39m-\u001b[39m\u001b[39m>\u001b[39m Tensor:\n\u001b[1;32m--> 114\u001b[0m     \u001b[39mreturn\u001b[39;00m F\u001b[39m.\u001b[39;49mlinear(\u001b[39minput\u001b[39;49m, \u001b[39mself\u001b[39;49m\u001b[39m.\u001b[39;49mweight, \u001b[39mself\u001b[39;49m\u001b[39m.\u001b[39;49mbias)\n",
      "\u001b[1;31mRuntimeError\u001b[0m: mat1 and mat2 shapes cannot be multiplied (1x10688 and 64x120)"
     ]
    },
    {
     "ename": "",
     "evalue": "",
     "output_type": "error",
     "traceback": [
      "\u001b[1;31mnotebook controller is DISPOSED. \n",
      "\u001b[1;31mView Jupyter <a href='command:jupyter.viewOutput'>log</a> for further details."
     ]
    },
    {
     "ename": "",
     "evalue": "",
     "output_type": "error",
     "traceback": [
      "\u001b[1;31mnotebook controller is DISPOSED. \n",
      "\u001b[1;31mView Jupyter <a href='command:jupyter.viewOutput'>log</a> for further details."
     ]
    }
   ],
   "source": [
    "cnn = CNN()\n",
    "train_model(cnn, x, y, .001, .9)\n",
    "print(cnn.accuracy(x, y))\n",
    "# go_env = gym.make()"
   ]
  }
 ],
 "metadata": {
  "kernelspec": {
   "display_name": "Python 3.9.13 ('ml-project')",
   "language": "python",
   "name": "python3"
  },
  "language_info": {
   "codemirror_mode": {
    "name": "ipython",
    "version": 3
   },
   "file_extension": ".py",
   "mimetype": "text/x-python",
   "name": "python",
   "nbconvert_exporter": "python",
   "pygments_lexer": "ipython3",
   "version": "3.9.13"
  },
  "orig_nbformat": 4,
  "vscode": {
   "interpreter": {
    "hash": "554e4e9be84610b8cfdc647d12e0c13356c189fbf7b6128724357bba0c0ac4f1"
   }
  }
 },
 "nbformat": 4,
 "nbformat_minor": 2
}
