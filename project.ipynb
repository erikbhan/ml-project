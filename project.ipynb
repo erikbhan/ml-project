{
 "cells": [
  {
   "cell_type": "markdown",
   "metadata": {},
   "source": [
    "# Imports"
   ]
  },
  {
   "cell_type": "code",
   "execution_count": 12,
   "metadata": {},
   "outputs": [],
   "source": [
    "# ignore deprecation warnings ('safe' as long as we don't update packages)\n",
    "from warnings import filterwarnings\n",
    "filterwarnings(\"ignore\")\n",
    "\n",
    "from math import sqrt, log, inf\n",
    "import copy\n",
    "\n",
    "import gym\n",
    "from gym_go.gogame import turn, random_weighted_action, random_action\n",
    "\n",
    "import torch\n",
    "import torch.nn as nn\n",
    "import torch.optim as optim\n",
    "import torch.nn.functional as F\n",
    "\n",
    "import matplotlib.pyplot as plt\n",
    "import numpy as np"
   ]
  },
  {
   "cell_type": "code",
   "execution_count": 13,
   "metadata": {},
   "outputs": [
    {
     "name": "stdout",
     "output_type": "stream",
     "text": [
      "Using cpu\n"
     ]
    }
   ],
   "source": [
    "device = torch.device(\"cuda:0\" if torch.cuda.is_available() else \"cpu\")\n",
    "print(f\"Using {device}\")"
   ]
  },
  {
   "cell_type": "markdown",
   "metadata": {},
   "source": [
    "# Constants"
   ]
  },
  {
   "cell_type": "code",
   "execution_count": 14,
   "metadata": {},
   "outputs": [],
   "source": [
    "UCB_C = 2\n",
    "\n",
    "# Board will be a BOARD_SIZE * BOARD_SIZE board (BOARD_SIZE**2)\n",
    "BOARD_SIZE = 5\n",
    "ACTIONSPACE_LENGTH = BOARD_SIZE ** 2 + 1\n",
    "'''\n",
    "The state object that is returned by the reset and step functions of the environment is a\n",
    "6 x BOARD_SIZE x BOARD_SIZE numpy array. All values in the array are either 0 or 1.\n",
    "'''\n",
    "\n",
    "# 0 - Black pieces\n",
    "# 1 - White pieces\n",
    "# 2 - Turn (0 - black, 1 - white)\n",
    "# 3 - Invalid moves (including ko-protection)\n",
    "# 4 - Previous move was a pass\n",
    "# 5 - Game over\n",
    "BLACK, WHITE, INVALID = 0, 1, 3"
   ]
  },
  {
   "cell_type": "markdown",
   "metadata": {},
   "source": [
    "# Monte Carlo Tree Search\n",
    "\n",
    "1. Selection\n",
    "    - Taverse the tree to find greatest UCB-score\n",
    "2. Expansion\n",
    "    - If the selected leaf node has been visited before expand by adding weighted game action\n",
    "3. Rollout\n",
    "    - Simulate the game until end-condition from the expanded leaf\n",
    "4. Back-propagation\n",
    "    - Updating the value of each ancestor node of the expanded leaf\n"
   ]
  },
  {
   "cell_type": "code",
   "execution_count": 15,
   "metadata": {},
   "outputs": [],
   "source": [
    "class Node():\n",
    "    def __init__(self, env, parent, action):\n",
    "        self.env : gym.Env = env # This env will be altered by the other player\n",
    "        self.value : int = 0 # Value estimate\n",
    "        self.trials : int = 0 # Number of trials for this node\n",
    "        self.parent : Node = parent # Parent node of this node\n",
    "        self.children : list[Node] = [] # List of children of this node\n",
    "        self.action : int = action # The step action made by this node\n",
    "    \n",
    "    # calculate a Upper Confidence Bound\n",
    "    def ucb(self, total_trials):\n",
    "        return self.value + ( UCB_C * sqrt(log(total_trials) / self.trials) )\n",
    "    \n",
    "    # Add a new node to a leaf node\n",
    "    def expansion(self):\n",
    "        for action in range(ACTIONSPACE_LENGTH - 1):\n",
    "            x, y = action // BOARD_SIZE, action % BOARD_SIZE\n",
    "            if self.env.state()[INVALID, x, y] == 0:\n",
    "                child_env = copy.deepcopy(self.env)\n",
    "                child_env.step(action)\n",
    "                self.children.append(Node(child_env, self, action))\n",
    "\n",
    "        child_env = copy.deepcopy(self.env)\n",
    "        child_env.step(ACTIONSPACE_LENGTH - 1)       \n",
    "        self.children.append(Node(child_env, self, ACTIONSPACE_LENGTH - 1))\n",
    "\n",
    "    # Simulate game from current move until end-condition returning the score\n",
    "    def rollout(self, move_selection_method):\n",
    "        if self.env.done:\n",
    "            return self.env.reward()\n",
    "        \n",
    "        rollout_env = copy.deepcopy(self.env)\n",
    "        rollout_result = 0\n",
    "        done = False\n",
    "        while not done:\n",
    "            random_action = move_selection_method(rollout_env)\n",
    "            _, reward, done, _ = rollout_env.step(random_action)\n",
    "            rollout_result += reward\n",
    "        return rollout_result"
   ]
  },
  {
   "cell_type": "code",
   "execution_count": 16,
   "metadata": {},
   "outputs": [],
   "source": [
    "class Monte_Carlo_Tree_Search():\n",
    "    def __init__(self, size, ml_model):\n",
    "        self.env : gym.Env = gym.make('gym_go:go-v0', size=size, reward_method='heuristic')\n",
    "        self.env.reset()\n",
    "        self.root = Node(self.env, None, None)\n",
    "        self.ml_model = ml_model\n",
    "        if ml_model is not None:\n",
    "            ml_model.to(device)\n",
    "    \n",
    "    # Gets the weights of all moves from the Machine Learning model\n",
    "    def __get_move_weights(self, env : gym.Env):\n",
    "        state = env.state()\n",
    "        if self.ml_model is not None:\n",
    "            move_weights = self.ml_model.forward(torch.tensor(state, device=device)).cpu().detach().numpy()\n",
    "        else:\n",
    "            move_weights = np.ones(ACTIONSPACE_LENGTH)\n",
    "\n",
    "        board_shape = state.shape[1:]\n",
    "        for i in range(len(move_weights) - 1):\n",
    "            action2d = i // board_shape[0], i % board_shape[1], i\n",
    "            if state[INVALID, action2d[0], action2d[1]] == 1:\n",
    "                move_weights[i] = 0.0\n",
    "        return move_weights\n",
    "\n",
    "    # Gets a weighted move for the given env\n",
    "    def get_weighted_move(self, env : gym.Env):\n",
    "        move_weights = self.__get_move_weights(env)\n",
    "        return random_weighted_action(move_weights)\n",
    "\n",
    "    # Update scores of all parent nodes after rollout\n",
    "    def __back_propagation(self, rollout_node: Node, rollout_result):\n",
    "        current_node = rollout_node\n",
    "        while current_node != None:\n",
    "            current_node.trials += 1\n",
    "            if turn(self.env.state()) == BLACK:\n",
    "                current_node.value -= rollout_result\n",
    "            if turn(self.env.state()) == WHITE:                \n",
    "                current_node.value += rollout_result\n",
    "            current_node = current_node.parent\n",
    "    \n",
    "    # Find and return the leaf node with the highest UCB-score \n",
    "    def __selection(self, node: Node = None):\n",
    "        if node is None:\n",
    "            node = self.root\n",
    "        selected_child = node\n",
    "        current_node = node\n",
    "        while len(current_node.children) > 0:\n",
    "            current_best_ucb = -inf\n",
    "            for child in current_node.children:\n",
    "                if child.trials == 0:\n",
    "                    return child\n",
    "\n",
    "                child_ucb = child.ucb(self.root.trials)\n",
    "\n",
    "                if child_ucb > current_best_ucb:\n",
    "                    selected_child = child\n",
    "                    current_best_ucb = child_ucb\n",
    "\n",
    "            current_node = selected_child\n",
    "\n",
    "        return selected_child\n",
    "    \n",
    "    # Explores the tree for the given number of iterations\n",
    "    def run(self, iterations, node: Node = None):\n",
    "        if node is None:\n",
    "            node = self.root\n",
    "\n",
    "        selected_node = node\n",
    "        run = 0\n",
    "        while run < iterations:\n",
    "            selected_node = self.__selection(node)\n",
    "\n",
    "            if not selected_node.env.done and selected_node.trials > 0:\n",
    "                selected_node.expansion()\n",
    "                selected_node = selected_node.children[0]\n",
    "\n",
    "            rollout_result = selected_node.rollout(self.get_weighted_move)\n",
    "            \n",
    "            self.__back_propagation(selected_node, rollout_result)\n",
    "            run += 1\n",
    "\n",
    "    # Explores plays one game\n",
    "    def run_game(self):\n",
    "        # Run MCTS until a game is completed\n",
    "        selected_node = self.root\n",
    "        run = 1\n",
    "        while not selected_node.env.done:\n",
    "            # print(\"run:\", run)\n",
    "            selected_node = self.__selection()\n",
    "\n",
    "            if selected_node.trials > 0:\n",
    "                # print(\"Expanding node\")\n",
    "                selected_node.expansion()\n",
    "                selected_node = selected_node.children[0]\n",
    "\n",
    "            # print(\"Rollout\")\n",
    "            rollout_result = selected_node.rollout(self.get_weighted_move)\n",
    "            self.__back_propagation(selected_node, rollout_result)\n",
    "            # print(\"Done:\", selected_node.env.done)\n",
    "            run += 1\n",
    "        # returns the node to allow for printing the game\n",
    "        return selected_node\n",
    "    \n",
    "    # searches the tree for a spesific state\n",
    "    def __find_node_from_state(self, state, node: Node = None):\n",
    "        if node is None:\n",
    "            node = self.root\n",
    "        if np.array_equal(node.env.state(), state):\n",
    "            return node\n",
    "\n",
    "        for child in node.children:\n",
    "            if np.array_equal(child.env.state(), state):\n",
    "                return child\n",
    "            \n",
    "            res = self.__find_node_from_state(state, child)\n",
    "            if res != None and np.array_equal(res.env.state(), state):\n",
    "                return res\n",
    "\n",
    "    # Attempts to find the best move from the tree by searching for the state and finding the best child for that state\n",
    "    def get_move_from_env(self, env):\n",
    "        node = self.__find_node_from_state(env.state())\n",
    "\n",
    "        while node is None:\n",
    "            self.run(15)\n",
    "            node = self.__find_node_from_state(env.state())\n",
    "\n",
    "        self.run(15, node)\n",
    "\n",
    "        best_child = None\n",
    "        current_best_value = -inf\n",
    "        for child in node.children:\n",
    "            if child.value > current_best_value:\n",
    "                best_child = child\n",
    "                current_best_value = child.value\n",
    "\n",
    "        if best_child != None:\n",
    "            if len(best_child.children) == 0 and not best_child.env.done:\n",
    "                best_child.expansion()\n",
    "            return best_child\n",
    "\n",
    "    # Makes a list of all states and a list of all move_weights for all expanded nodes in the tree\n",
    "    def get_tree_data(self):\n",
    "        x, y = [], []\n",
    "        self.__get_node_data(self.root, x, y)\n",
    "        return torch.tensor(x), torch.tensor(y)\n",
    "\n",
    "    # recurrsive tree traversal method for get_tree_data\n",
    "    def __get_node_data(self, node, x, y):\n",
    "        x.append(node.env.state())\n",
    "        y.append([0] * (BOARD_SIZE**2 + 1))\n",
    "        for child in node.children:\n",
    "            y[-1][child.action] = child.value\n",
    "            if len(child.children) > 0:\n",
    "                self.__get_node_data(child, x, y)"
   ]
  },
  {
   "cell_type": "code",
   "execution_count": 17,
   "metadata": {},
   "outputs": [],
   "source": [
    "def play_game_no_render(mcts : Monte_Carlo_Tree_Search, go_env: gym.Env):\n",
    "    go_env.reset()\n",
    "    done = go_env.done\n",
    "    turn_nr = 0\n",
    "    while not done:\n",
    "        action = random_action(go_env.state())\n",
    "        _, _, done, _ = go_env.step(action)\n",
    "\n",
    "        if done:\n",
    "            continue\n",
    "\n",
    "        node = mcts.get_move_from_env(go_env)\n",
    "        _, _, done, _ = go_env.step(node.action)\n",
    "        turn_nr += 1\n",
    "        if turn_nr > 300:\n",
    "            break\n",
    "    \n",
    "    return go_env"
   ]
  },
  {
   "cell_type": "code",
   "execution_count": 18,
   "metadata": {},
   "outputs": [],
   "source": [
    "mcts_test = Monte_Carlo_Tree_Search(BOARD_SIZE, None)\n",
    "_ = mcts_test.run_game()"
   ]
  },
  {
   "cell_type": "code",
   "execution_count": 19,
   "metadata": {},
   "outputs": [
    {
     "name": "stdout",
     "output_type": "stream",
     "text": [
      "White won!\n",
      "White won!\n",
      "Black won!\n",
      "White won!\n",
      "Black won!\n",
      "White won!\n",
      "White won!\n",
      "White won!\n",
      "White won!\n",
      "White won!\n"
     ]
    }
   ],
   "source": [
    "for i in range(10):\n",
    "    env = play_game_no_render(mcts_test, copy.deepcopy(mcts_test.env))\n",
    "    if not env.done:\n",
    "        print(\"Game stopped after 300 turns: \\nIt was resigned and is a draw.\")\n",
    "        continue\n",
    "        \n",
    "    if env.reward() < 0:\n",
    "        print(\"White won!\")\n",
    "    if env.reward() > 0:\n",
    "        print(\"Black won!\")\n",
    "    if env.reward() == 0:\n",
    "        print(\"It's a draw!\")"
   ]
  },
  {
   "cell_type": "markdown",
   "metadata": {},
   "source": [
    "# Convolutional Neural Network"
   ]
  },
  {
   "cell_type": "code",
   "execution_count": 20,
   "metadata": {},
   "outputs": [],
   "source": [
    "class CNN(nn.Module):\n",
    "    def __init__(self):\n",
    "        super().__init__()\n",
    "        self.conv1 = nn.Conv2d(6, 64, kernel_size=3, padding=1)\n",
    "        self.conv2 = nn.Conv2d(64, 128, kernel_size=3, padding=1)\n",
    "        self.pool = nn.MaxPool2d(2, 2)\n",
    "        self.fc1 = nn.Linear(128, 26)\n",
    "\n",
    "    def forward(self, x):\n",
    "        x = x.float()\n",
    "        x = x.to(device)\n",
    "        x = self.pool(F.relu(self.conv1(x)))\n",
    "        x = self.pool(F.relu(self.conv2(x)))\n",
    "        x = torch.flatten(x, 0, -1)\n",
    "        x = F.softmax(self.fc1(x))\n",
    "        return x\n",
    "\n",
    "    def avg_accuracy(self, x, y):\n",
    "        avg = 0\n",
    "        for i in range(len(x)):\n",
    "            avg += torch.mean(torch.eq(self.forward(x[i]).argmax(), y[i].argmax()).float())\n",
    "        return (avg/len(x))"
   ]
  },
  {
   "cell_type": "code",
   "execution_count": 21,
   "metadata": {},
   "outputs": [],
   "source": [
    "# utility methods for importing and exporting models, defined outside class\n",
    "def export_model(cnn, name=\"cnn\"):\n",
    "    torch.save(cnn.state_dict(), \"cnns/\" + name + \".pth\")\n",
    "\n",
    "def import_model(cnn, name=\"cnn\"):\n",
    "    cnn.load_state_dict(torch.load(\"cnns/\" + name + \".pth\"))"
   ]
  },
  {
   "cell_type": "code",
   "execution_count": 22,
   "metadata": {},
   "outputs": [],
   "source": [
    "def train_model(model, lr, momentum):\n",
    "    criterion = nn.CrossEntropyLoss()\n",
    "    optimizer = optim.SGD(model.parameters(), lr=lr, momentum=momentum)\n",
    "    model.to(device)\n",
    "    for epoch in range(10):\n",
    "        mcts = Monte_Carlo_Tree_Search(BOARD_SIZE, model) # new tree\n",
    "        mcts.run_game() # run a single game to completion\n",
    "        x, y = mcts.get_tree_data() # get data\n",
    "        running_loss = .0 \n",
    "        for i in range(len(x)):\n",
    "            inputs, labels = torch.tensor(x[i], device=device), torch.tensor(y[i], device=device)\n",
    "            labels = F.softmax(labels)\n",
    "            optimizer.zero_grad()\n",
    "            outputs = model(inputs)\n",
    "            loss = criterion(outputs, labels)\n",
    "            loss.backward()\n",
    "            optimizer.step()\n",
    "            running_loss += loss.item()\n",
    "\n",
    "            if i % 10 == 9:\n",
    "                print(f'[{epoch:3d}, {i + 1:3d}] loss: {running_loss / 10:.5f}')\n",
    "                running_loss = 0.0\n",
    "\n",
    "import time\n",
    "\n",
    "def train(n_games=1000):\n",
    "    model = CNN()\n",
    "    criterion = nn.CrossEntropyLoss()\n",
    "    optimizer = optim.SGD(model.parameters(), lr=0.01, momentum=0.9)\n",
    "\n",
    "    # Stats\n",
    "    all_x, all_y, loss_values, acc_values = [], [], [], []\n",
    "    total_time = 0\n",
    "\n",
    "    # Simulate N games\n",
    "    for _ in range(n_games):\n",
    "\n",
    "        # Run a simulation and time it for statistics\n",
    "        mcts = Monte_Carlo_Tree_Search(BOARD_SIZE, model)\n",
    "        start = time.time()\n",
    "        mcts.run_game()\n",
    "        stop = time.time()\n",
    "        total_time += (stop - start)\n",
    "\n",
    "        game_loss = .0\n",
    "\n",
    "        # Train model on data\n",
    "        x, y = mcts.get_tree_data()\n",
    "        for i in range(len(x)):\n",
    "            inputs, labels = torch.tensor(x[i], device=device), torch.tensor(y[i], device=device)\n",
    "            labels = F.softmax(labels)\n",
    "            optimizer.zero_grad()\n",
    "            outputs = model(inputs)\n",
    "            loss = criterion(outputs, labels)\n",
    "            loss.backward()\n",
    "            optimizer.step()\n",
    "            game_loss += loss.item()\n",
    "            \n",
    "            # Add data to master list for accuracy calculation\n",
    "            all_x.append(x[i])\n",
    "            all_y.append(y[i])\n",
    "        \n",
    "        # After training, check accuracy against previous data\n",
    "        acc_values.append(model.avg_accuracy(all_x, all_y).item())\n",
    "        loss_values.append(game_loss/len(x))\n",
    "\n",
    "    print(f'''Finished running {n_games} games\n",
    "    Time..............: {total_time}\n",
    "    Avg. time per game: {total_time/n_games}''')\n",
    "    return model, loss_values, acc_values\n"
   ]
  },
  {
   "cell_type": "code",
   "execution_count": 23,
   "metadata": {},
   "outputs": [
    {
     "name": "stdout",
     "output_type": "stream",
     "text": [
      "Finished running 5 games\n",
      "    Time..............: 101.08471536636353\n",
      "    Avg. time per game: 20.216943073272706\n"
     ]
    }
   ],
   "source": [
    "model, loss_values, acc_values = train(5)"
   ]
  },
  {
   "cell_type": "code",
   "execution_count": 24,
   "metadata": {},
   "outputs": [
    {
     "name": "stdout",
     "output_type": "stream",
     "text": [
      "[3.258183387203823, 3.257353039377346, 3.2553978168084465, 3.257621145147345, 3.257438591855839]\n",
      "[0.03125, 0.1666666716337204, 0.16853933036327362, 0.19745223224163055, 0.1913580298423767]\n"
     ]
    },
    {
     "data": {
      "text/plain": [
       "[<matplotlib.lines.Line2D at 0x205e08905e0>]"
      ]
     },
     "execution_count": 24,
     "metadata": {},
     "output_type": "execute_result"
    },
    {
     "data": {
      "image/png": "[encoded data removed]",
      "text/plain": [
       "<Figure size 640x480 with 1 Axes>"
      ]
     },
     "metadata": {},
     "output_type": "display_data"
    }
   ],
   "source": [
    "print(loss_values)\n",
    "print(acc_values)\n",
    "\n",
    "# plt.plot(loss_values)\n",
    "plt.plot(acc_values)"
   ]
  },
  {
   "cell_type": "markdown",
   "metadata": {},
   "source": [
    "# MCTS and CNN combined"
   ]
  },
  {
   "cell_type": "markdown",
   "metadata": {},
   "source": [
    "1. Create an MCTS\n",
    "2. Generate a lot of data from the MCTS\n",
    "3. Use the data to train a CNN\n",
    "4. Use the CNN in a new MCTS to hopefully make the MCTS make better choices\n",
    "5. Generate new data with the new MCTS\n",
    "6. Train a new CNN... repeat ad infinitum"
   ]
  },
  {
   "cell_type": "code",
   "execution_count": 25,
   "metadata": {},
   "outputs": [],
   "source": [
    "cnn = CNN()\n",
    "# mcts = Monte_Carlo_Tree_Search(BOARD_SIZE, None)\n",
    "# mcts.run(1000)\n",
    "# x, y = mcts.get_tree_data()\n",
    "# print(\"Datapoints: \", len(x))\n",
    "# criterion = nn.CrossEntropyLoss()\n",
    "# optimizer = optim.SGD(cnn.parameters(), lr=0.001, momentum=0.9)\n",
    "# cnn.to(device)\n",
    "# for i in range(len(x)):\n",
    "#     inputs, labels = torch.tensor(x[i], device=device), torch.tensor(y[i], device=device)\n",
    "#     labels = F.softmax(labels)\n",
    "#     optimizer.zero_grad()\n",
    "#     outputs = cnn(inputs)\n",
    "#     loss = criterion(outputs, labels)\n",
    "#     loss.backward()\n",
    "#     optimizer.step()\n",
    "\n",
    "# train_model(cnn, .01, .9)"
   ]
  }
 ],
 "metadata": {
  "kernelspec": {
   "display_name": "Python 3.10.7 ('ml-venv': venv)",
   "language": "python",
   "name": "python3"
  },
  "language_info": {
   "codemirror_mode": {
    "name": "ipython",
    "version": 3
   },
   "file_extension": ".py",
   "mimetype": "text/x-python",
   "name": "python",
   "nbconvert_exporter": "python",
   "pygments_lexer": "ipython3",
   "version": "3.10.7"
  },
  "orig_nbformat": 4,
  "vscode": {
   "interpreter": {
    "hash": "1c48e9d02fd8b77616e4eb406249914dfd12f6a6048a8be47690e9d71e734832"
   }
  }
 },
 "nbformat": 4,
 "nbformat_minor": 2
}
