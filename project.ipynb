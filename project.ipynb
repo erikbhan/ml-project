{
 "cells": [
  {
   "cell_type": "markdown",
   "metadata": {},
   "source": [
    "### TODO\n",
    "- Factor out classes into .py-files to make notebook more concise\n",
    "- Find package versions where we don't need to filter warnings (older packages)\n",
    "- Set up pseudocode for the tournament;\n",
    "    - players, saving models, etc."
   ]
  },
  {
   "cell_type": "code",
   "execution_count": 70,
   "metadata": {},
   "outputs": [],
   "source": [
    "# ignore deprecation warnings ('safe' as long as we don't update packages)\n",
    "from warnings import filterwarnings\n",
    "filterwarnings(\"ignore\")\n",
    "from warnings import filterwarnings\n",
    "filterwarnings(\"ignore\")\n",
    "from copy import deepcopy\n",
    "import numpy as np\n",
    "\n",
    "from joblib import Parallel, delayed\n",
    "import gym\n",
    "import torch\n",
    "import torch.nn as nn\n",
    "import torch.optim as optim\n",
    "import torch.nn.functional as F\n",
    "\n",
    "import matplotlib.pyplot as plt\n",
    "from random import choice\n",
    "import sys\n",
    "\n",
    "from src.CNN import CNN\n",
    "from src.MCTS import Monte_Carlo_Tree_Search"
   ]
  },
  {
   "cell_type": "code",
   "execution_count": 71,
   "metadata": {},
   "outputs": [],
   "source": [
    "device = torch.device(\"cuda:0\" if torch.cuda.is_available() else \"cpu\")\n",
    "BOARD_SIZE = 5"
   ]
  },
  {
   "cell_type": "markdown",
   "metadata": {},
   "source": [
    "# Convolutional Neural Network"
   ]
  },
  {
   "cell_type": "code",
   "execution_count": 72,
   "metadata": {},
   "outputs": [],
   "source": [
    "# def train_model(model, lr, momentum):\n",
    "#     criterion = nn.CrossEntropyLoss()\n",
    "#     optimizer = optim.SGD(model.parameters(), lr=lr, momentum=momentum)\n",
    "#     model.to(device)\n",
    "    \n",
    "#     for epoch in range(10):\n",
    "#         mcts = Monte_Carlo_Tree_Search(BOARD_SIZE, model) # new tree\n",
    "#         mcts.run_game() # run a single game to completion\n",
    "#         x, y = mcts.get_tree_data() # get data\n",
    "#         running_loss = .0 \n",
    "#         for i in range(len(x)):\n",
    "#             inputs, labels = torch.tensor(x[i], device=device), torch.tensor(y[i], device=device)\n",
    "#             labels = F.softmax(labels)\n",
    "#             optimizer.zero_grad()\n",
    "#             outputs = model(inputs)\n",
    "#             loss = criterion(outputs, labels)\n",
    "#             loss.backward()\n",
    "#             optimizer.step()\n",
    "#             running_loss += loss.item()\n",
    "\n",
    "#             if i % 10 == 9:\n",
    "#                 print(f'[{epoch:3d}, {i + 1:3d}] loss: {running_loss / 10:.5f}')\n",
    "#                 running_loss = 0.0\n",
    "\n",
    "# def train(n_games=1000):\n",
    "\n",
    "#     model = CNN()\n",
    "#     criterion = nn.CrossEntropyLoss()\n",
    "#     optimizer = optim.SGD(model.parameters(), lr=0.01, momentum=0.9)\n",
    "\n",
    "#     all_x, all_y = [], []\n",
    "\n",
    "#     # Simulate N games\n",
    "#     for _ in range(n_games):\n",
    "#         mcts = Monte_Carlo_Tree_Search(BOARD_SIZE, model)\n",
    "#         mcts.run(10_000)\n",
    "#         x, y = mcts.get_tree_data()\n",
    "\n",
    "#         for i in range(len(x)):\n",
    "#             inputs, labels = torch.tensor(x[i], device=device), torch.tensor(y[i], device=device)\n",
    "#             labels = F.softmax(labels)\n",
    "#             optimizer.zero_grad()\n",
    "#             outputs = model(inputs)\n",
    "#             loss = criterion(outputs, labels)\n",
    "#             loss.backward()\n",
    "#             optimizer.step()\n",
    "            \n",
    "#             all_x.append(x[i])\n",
    "#             all_y.append(y[i])\n",
    "        \n",
    "#         # After training, check accuracy against previous data\n",
    "#         acc_values.append(model.avg_accuracy(all_x, all_y).item())\n",
    "#         loss_values.append(game_loss/len(x))\n",
    "\n",
    "#     print(f'''Finished running {n_games} games\n",
    "#     Time..............: {total_time}\n",
    "#     Avg. time per game: {total_time/n_games}''')\n",
    "#     return model, loss_values, acc_values\n"
   ]
  },
  {
   "cell_type": "code",
   "execution_count": 73,
   "metadata": {},
   "outputs": [],
   "source": [
    "# model, loss_values, acc_values = train(1000)"
   ]
  },
  {
   "cell_type": "markdown",
   "metadata": {},
   "source": [
    "# MCTS and CNN combined"
   ]
  },
  {
   "cell_type": "code",
   "execution_count": 74,
   "metadata": {},
   "outputs": [],
   "source": [
    "# def generate_game(x, y, model):\n",
    "#     mcts = Monte_Carlo_Tree_Search(BOARD_SIZE, model)\n",
    "#     # mcts.run_game()\n",
    "#     mcts.run(1000)\n",
    "#     a, b = mcts.get_tree_data()\n",
    "#     x.append(a)\n",
    "#     y.append(b)\n",
    "\n",
    "# def generate_games(x, y, n_games, model):\n",
    "#     print(f\"Generating {n_games} games\")\n",
    "#     Parallel(n_jobs=10)(delayed(generate_game)(x, y, model) for _ in range(1, n_games))\n",
    "\n",
    "# def train_model(model, criterion, optimizer, x, y):\n",
    "#     print(\"Training model\")\n",
    "#     for i in range(len(x)):\n",
    "#         inputs, labels = torch.tensor(x[i], device=device), torch.tensor(y[i], device=device)\n",
    "#         labels = F.softmax(labels)\n",
    "#         optimizer.zero_grad()\n",
    "#         outputs = model(inputs)\n",
    "#         loss = criterion(outputs, labels)\n",
    "#         loss.backward()\n",
    "#         optimizer.step()"
   ]
  },
  {
   "cell_type": "code",
   "execution_count": 75,
   "metadata": {},
   "outputs": [],
   "source": [
    "# x, y = [], []\n",
    "# generate_games(x, y, 1000, None)\n",
    "\n",
    "# model = CNN()\n",
    "# model.to(device=device)\n",
    "# criterion = nn.CrossEntropyLoss()\n",
    "# optimizer = optim.SGD(model.parameters(), lr=0.001, momentum=0.9)\n",
    "# train_model(model, criterion, optimizer, x, y)\n",
    "\n",
    "# print(\"Exporting model\")\n",
    "# torch.save(model.state_dict(), f\"models/only-mcts.pth\")"
   ]
  },
  {
   "cell_type": "code",
   "execution_count": 76,
   "metadata": {},
   "outputs": [],
   "source": [
    "# # model = CNN()\n",
    "# # model.load_state_dict(torch.load(\"models/only-mcts.pth\"))\n",
    "# # model.eval()\n",
    "# criterion = nn.CrossEntropyLoss()\n",
    "# optimizer = optim.SGD(model.parameters(), lr=0.001, momentum=0.9)\n",
    "# for i in range(2, 6):\n",
    "#     # x, y = [], []\n",
    "#     generate_games(x, y, 1000, model)\n",
    "#     train_model(model, criterion, optimizer, x, y)\n",
    "#     torch.save(model.state_dict(), f\"models/{i}-times.pth\")"
   ]
  },
  {
   "cell_type": "code",
   "execution_count": 77,
   "metadata": {},
   "outputs": [
    {
     "name": "stdout",
     "output_type": "stream",
     "text": [
      "[CNN(\n",
      "  (conv1): Conv2d(6, 64, kernel_size=(3, 3), stride=(1, 1), padding=(1, 1))\n",
      "  (conv2): Conv2d(64, 128, kernel_size=(3, 3), stride=(1, 1), padding=(1, 1))\n",
      "  (pool): MaxPool2d(kernel_size=2, stride=2, padding=0, dilation=1, ceil_mode=False)\n",
      "  (fc1): Linear(in_features=128, out_features=26, bias=True)\n",
      "), CNN(\n",
      "  (conv1): Conv2d(6, 64, kernel_size=(3, 3), stride=(1, 1), padding=(1, 1))\n",
      "  (conv2): Conv2d(64, 128, kernel_size=(3, 3), stride=(1, 1), padding=(1, 1))\n",
      "  (pool): MaxPool2d(kernel_size=2, stride=2, padding=0, dilation=1, ceil_mode=False)\n",
      "  (fc1): Linear(in_features=128, out_features=26, bias=True)\n",
      "), CNN(\n",
      "  (conv1): Conv2d(6, 64, kernel_size=(3, 3), stride=(1, 1), padding=(1, 1))\n",
      "  (conv2): Conv2d(64, 128, kernel_size=(3, 3), stride=(1, 1), padding=(1, 1))\n",
      "  (pool): MaxPool2d(kernel_size=2, stride=2, padding=0, dilation=1, ceil_mode=False)\n",
      "  (fc1): Linear(in_features=128, out_features=26, bias=True)\n",
      "), CNN(\n",
      "  (conv1): Conv2d(6, 64, kernel_size=(3, 3), stride=(1, 1), padding=(1, 1))\n",
      "  (conv2): Conv2d(64, 128, kernel_size=(3, 3), stride=(1, 1), padding=(1, 1))\n",
      "  (pool): MaxPool2d(kernel_size=2, stride=2, padding=0, dilation=1, ceil_mode=False)\n",
      "  (fc1): Linear(in_features=128, out_features=26, bias=True)\n",
      "), CNN(\n",
      "  (conv1): Conv2d(6, 64, kernel_size=(3, 3), stride=(1, 1), padding=(1, 1))\n",
      "  (conv2): Conv2d(64, 128, kernel_size=(3, 3), stride=(1, 1), padding=(1, 1))\n",
      "  (pool): MaxPool2d(kernel_size=2, stride=2, padding=0, dilation=1, ceil_mode=False)\n",
      "  (fc1): Linear(in_features=128, out_features=26, bias=True)\n",
      ")]\n"
     ]
    }
   ],
   "source": [
    "players = []\n",
    "for i in range(5):\n",
    "    player = CNN()\n",
    "    player.to(device)\n",
    "    player.load_state_dict(torch.load(f\"models/{i}-times.pth\"))\n",
    "    players.append(player)\n",
    "print(players)"
   ]
  },
  {
   "cell_type": "code",
   "execution_count": 78,
   "metadata": {},
   "outputs": [],
   "source": [
    "def play_model_vs_model_no_render(model1 : CNN, model2 : CNN, go_env: gym.Env):\n",
    "    go_env.reset()\n",
    "    done = go_env.done\n",
    "    turn_nr = 0\n",
    "    while not done:\n",
    "        weights = model1.forward(go_env.state()).cpu().detach().numpy()\n",
    "        for i in range(len(weights) - 1):\n",
    "            action2d = i // BOARD_SIZE, i % BOARD_SIZE, i\n",
    "            if go_env.state()[3, action2d[0], action2d[1]] == 1:\n",
    "                weights[i] = 0.0\n",
    "        _, _, done, _ = go_env.step(weights.argmax())\n",
    "\n",
    "        if done: continue\n",
    "\n",
    "        weights = model2.forward(go_env.state()).cpu().detach().numpy()\n",
    "        for i in range(len(weights) - 1):\n",
    "            action2d = i // BOARD_SIZE, i % BOARD_SIZE, i\n",
    "            if go_env.state()[3, action2d[0], action2d[1]] == 1:\n",
    "                weights[i] = 0.0\n",
    "        _, _, done, _ = go_env.step(weights.argmax())\n",
    "        turn_nr += 1\n",
    "        if turn_nr > 300: break\n",
    "    return go_env"
   ]
  },
  {
   "cell_type": "code",
   "execution_count": 79,
   "metadata": {},
   "outputs": [
    {
     "ename": "TypeError",
     "evalue": "play_tournament() missing 1 required positional argument: 'b_w'",
     "output_type": "error",
     "traceback": [
      "\u001b[1;31m---------------------------------------------------------------------------\u001b[0m",
      "\u001b[1;31mTypeError\u001b[0m                                 Traceback (most recent call last)",
      "\u001b[1;32mc:\\Users\\erik\\dev\\ml-project\\project.ipynb Cell 13\u001b[0m in \u001b[0;36m<cell line: 29>\u001b[1;34m()\u001b[0m\n\u001b[0;32m     <a href='vscode-notebook-cell:/c%3A/Users/erik/dev/ml-project/project.ipynb#X21sZmlsZQ%3D%3D?line=27'>28</a>\u001b[0m \u001b[39m# Parallel(n_jobs=10)(delayed(play_tournament)(wins, draws, games_played, b_w) for _ in range(1000))\u001b[39;00m\n\u001b[0;32m     <a href='vscode-notebook-cell:/c%3A/Users/erik/dev/ml-project/project.ipynb#X21sZmlsZQ%3D%3D?line=28'>29</a>\u001b[0m \u001b[39mfor\u001b[39;00m game_number \u001b[39min\u001b[39;00m \u001b[39mrange\u001b[39m(\u001b[39m1000\u001b[39m):\n\u001b[1;32m---> <a href='vscode-notebook-cell:/c%3A/Users/erik/dev/ml-project/project.ipynb#X21sZmlsZQ%3D%3D?line=29'>30</a>\u001b[0m     play_tournament(wins, draws, games_played)\n",
      "\u001b[1;31mTypeError\u001b[0m: play_tournament() missing 1 required positional argument: 'b_w'"
     ]
    }
   ],
   "source": [
    "def play_tournament(wins, draws, games_played, b_w):\n",
    "    # print(\"Starting a tournament\")\n",
    "    # start1 = time.time()\n",
    "    for player1_index in range(len(players)):\n",
    "        for player2_index in range(len(players)):\n",
    "            if player1_index == player2_index: continue\n",
    "            games_played[player1_index] += 1\n",
    "            games_played[player2_index] += 1\n",
    "            p1, p2 = players[player1_index], players[player2_index]\n",
    "            # print(f\"  Starting a game between {player1_index} and {player2_index}\", end=\"\")\n",
    "            # start = time.time()\n",
    "            go_env = play_model_vs_model_no_render(p1, p2, gym.make('gym_go:go-v0', size=BOARD_SIZE, komi=0, reward_method='heuristic'))\n",
    "            # stop = time.time()\n",
    "            if go_env.reward() > 0:\n",
    "                wins[player1_index] += 1\n",
    "                b_w[0] += 1\n",
    "            elif go_env.reward() < 0:\n",
    "                wins[player2_index] += 1\n",
    "                b_w[1] += 1\n",
    "            else:\n",
    "                draws[player1_index] += 1\n",
    "                draws[player2_index] += 1\n",
    "            # print(f\", reward: {go_env.reward()}, time: {stop-start} sec\")\n",
    "    # stop1 = time.time()\n",
    "    # print(f\"Tournament took {stop1-start1}\")\n",
    "b_w = [0]*2\n",
    "wins, draws, games_played = [0]*len(players), [0]*len(players), [0]*len(players)\n",
    "# Parallel(n_jobs=10)(delayed(play_tournament)(wins, draws, games_played, b_w) for _ in range(1000))\n",
    "for game_number in range(1000):\n",
    "    play_tournament(wins, draws, games_played, b_w)"
   ]
  },
  {
   "cell_type": "code",
   "execution_count": null,
   "metadata": {},
   "outputs": [
    {
     "name": "stdout",
     "output_type": "stream",
     "text": [
      "[0, 0]\n",
      "[0, 0, 0, 0, 0]\n",
      "[0, 0, 0, 0, 0]\n",
      "[0, 0, 0, 0, 0]\n"
     ]
    }
   ],
   "source": [
    "print(b_w)\n",
    "print(wins)\n",
    "print(games_played)\n",
    "print(draws)"
   ]
  }
 ],
 "metadata": {
  "kernelspec": {
   "display_name": "Python 3.9.13 ('ml-project')",
   "language": "python",
   "name": "python3"
  },
  "language_info": {
   "codemirror_mode": {
    "name": "ipython",
    "version": 3
   },
   "file_extension": ".py",
   "mimetype": "text/x-python",
   "name": "python",
   "nbconvert_exporter": "python",
   "pygments_lexer": "ipython3",
   "version": "3.9.13"
  },
  "orig_nbformat": 4,
  "vscode": {
   "interpreter": {
    "hash": "554e4e9be84610b8cfdc647d12e0c13356c189fbf7b6128724357bba0c0ac4f1"
   }
  }
 },
 "nbformat": 4,
 "nbformat_minor": 2
}
