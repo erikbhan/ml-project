{
 "cells": [
  {
   "cell_type": "code",
   "execution_count": 1,
   "metadata": {},
   "outputs": [],
   "source": [
    "# imports\n",
    "from math import sqrt, log\n",
    "import gym\n",
    "import copy"
   ]
  },
  {
   "cell_type": "code",
   "execution_count": 2,
   "metadata": {},
   "outputs": [],
   "source": [
    "# Global constants\n",
    "UCB_C = 2"
   ]
  },
  {
   "cell_type": "markdown",
   "metadata": {},
   "source": [
    "# Monte Carlo Three Search\n",
    "\n",
    "1. Selection\n",
    "    - Taverse the tree to find greatest UCB-score\n",
    "2. Expansion\n",
    "    - If the selected leaf node has been visited before expand by adding weighted game action\n",
    "3. Rollout\n",
    "    - Simulate the game until end-condition from the expanded leaf\n",
    "4. Back-propagation\n",
    "    - Updating the value of each ancestor node of the expanded leaf\n"
   ]
  },
  {
   "cell_type": "code",
   "execution_count": 3,
   "metadata": {},
   "outputs": [],
   "source": [
    "class Node():\n",
    "    def __init__(self, env, state, parent):\n",
    "        self.env : gym.Env = env\n",
    "        self.state = state # Gamestate\n",
    "        self.value : int = 0 # Value estimate\n",
    "        self.trials : int = 0 # Number of trials for this node\n",
    "        self.parent : Node = parent # Parent node of this node\n",
    "        self.children : list[Node] = [] # List of children of this node\n",
    "    \n",
    "    # calculate a Upper Confidence Bound\n",
    "    def ucb(self, total_trials):\n",
    "        return self.value + ( UCB_C * sqrt(log(total_trials) / self.trials) )\n",
    "    \n",
    "    # Add a new node to a leaf node\n",
    "    def expansion(self):\n",
    "        for action in self.env.action_space:\n",
    "            child_env = copy.deepcopy(self.env)\n",
    "            child_state = child_env.step(action)\n",
    "            self.children.append(Node(child_env, child_state, self))\n",
    "    \n",
    "    # Simulate game from current move until end-condition returning the score\n",
    "    def rollout(self):\n",
    "        rollout_env = copy.deepcopy(self.env)\n",
    "        rollout_result = 0\n",
    "        done = False\n",
    "        while not done:\n",
    "            random_action = rollout_env.action_space.sample()\n",
    "            _, reward, done, _ = rollout_env.step(random_action)\n",
    "            rollout_result += reward\n",
    "        return rollout_result\n",
    "\n",
    "class Monte_Carlo_Tree_Search():\n",
    "    def __init__(self):\n",
    "        self.env = gym.make('gym_go:go-v0', size=3, komi=0, reward_method='real')\n",
    "        self.number_of_trials = 0\n",
    "        self.root = Node(self.env, self.env.reset(), None)\n",
    "    \n",
    "    # Update scores of all parent nodes after rollout\n",
    "    def back_propagation(rollout_node: Node, rollout_result, self):\n",
    "        current_node = rollout_node\n",
    "        while current_node != None:\n",
    "            current_node.trials += 1\n",
    "            current_node.value += rollout_result\n",
    "            current_node = current_node.parent\n",
    "        self.number_of_trials += 1\n",
    "    \n",
    "    # find and return the leaf node with the highest UCB-score \n",
    "    def selection(self, current_node: Node):\n",
    "        selected_child = current_node\n",
    "        current_best_ucb = 0\n",
    "        for child in current_node.children:\n",
    "            if child.ucb(self.number_of_trials) == 0:\n",
    "                return child\n",
    "            if child.ucb(self.number_of_trials) > current_best_ucb:\n",
    "                selected_child = child\n",
    "        \n",
    "        if len(selected_child.children) == 0:\n",
    "            return selected_child\n",
    "\n",
    "        return self.selection(selected_child)\n",
    "\n",
    "    def run(self):\n",
    "        self.env.reset()\n",
    "        finished = False\n",
    "        while not finished: \n",
    "            selected_node = self.selection(self.root)\n",
    "\n",
    "            if selected_node.trials != 0:\n",
    "                selected_node.expansion()\n",
    "                selected_node = selected_node.children[0]\n",
    "\n",
    "            if selected_node.state[5].all() == 1:\n",
    "                finished = True\n",
    "                continue\n",
    "\n",
    "            rollout_result = selected_node.rollout()\n",
    "            self.back_propagation(selected_node, rollout_result)"
   ]
  },
  {
   "cell_type": "code",
   "execution_count": 4,
   "metadata": {},
   "outputs": [
    {
     "name": "stdout",
     "output_type": "stream",
     "text": [
      "[[[0. 0. 0.]\n",
      "  [0. 0. 0.]\n",
      "  [0. 0. 0.]]\n",
      "\n",
      " [[0. 0. 0.]\n",
      "  [0. 0. 0.]\n",
      "  [0. 0. 0.]]\n",
      "\n",
      " [[0. 0. 0.]\n",
      "  [0. 0. 0.]\n",
      "  [0. 0. 0.]]\n",
      "\n",
      " [[0. 0. 0.]\n",
      "  [0. 0. 0.]\n",
      "  [0. 0. 0.]]\n",
      "\n",
      " [[0. 0. 0.]\n",
      "  [0. 0. 0.]\n",
      "  [0. 0. 0.]]\n",
      "\n",
      " [[0. 0. 0.]\n",
      "  [0. 0. 0.]\n",
      "  [0. 0. 0.]]]\n"
     ]
    },
    {
     "name": "stderr",
     "output_type": "stream",
     "text": [
      "c:\\Users\\Alida\\Documents\\Skole\\Dataingenior5.semester\\Maskinlering\\ml-project\\venv\\lib\\site-packages\\gym\\utils\\passive_env_checker.py:20: UserWarning: \u001b[33mWARN: It seems a Box observation space is an image but the `dtype` is not `np.uint8`, actual type: float32. If the Box observation space is not an image, we recommend flattening the observation to have only a 1D vector.\u001b[0m\n",
      "  logger.warn(\n",
      "c:\\Users\\Alida\\Documents\\Skole\\Dataingenior5.semester\\Maskinlering\\ml-project\\venv\\lib\\site-packages\\gym\\utils\\passive_env_checker.py:25: UserWarning: \u001b[33mWARN: It seems a Box observation space is an image but the upper and lower bounds are not in [0, 255]. Generally, CNN policies assume observations are within that range, so you may encounter an issue if the observation values are not.\u001b[0m\n",
      "  logger.warn(\n",
      "c:\\Users\\Alida\\Documents\\Skole\\Dataingenior5.semester\\Maskinlering\\ml-project\\venv\\lib\\site-packages\\gym\\utils\\passive_env_checker.py:174: UserWarning: \u001b[33mWARN: Future gym versions will require that `Env.reset` can be passed a `seed` instead of using `Env.seed` for resetting the environment random number generator.\u001b[0m\n",
      "  logger.warn(\n",
      "c:\\Users\\Alida\\Documents\\Skole\\Dataingenior5.semester\\Maskinlering\\ml-project\\venv\\lib\\site-packages\\gym\\utils\\passive_env_checker.py:187: UserWarning: \u001b[33mWARN: Future gym versions will require that `Env.reset` can be passed `options` to allow the environment initialisation to be passed additional information.\u001b[0m\n",
      "  logger.warn(\n",
      "c:\\Users\\Alida\\Documents\\Skole\\Dataingenior5.semester\\Maskinlering\\ml-project\\venv\\lib\\site-packages\\gym\\utils\\passive_env_checker.py:195: UserWarning: \u001b[33mWARN: The result returned by `env.reset()` was not a tuple of the form `(obs, info)`, where `obs` is a observation and `info` is a dictionary containing additional information. Actual type: `<class 'numpy.ndarray'>`\u001b[0m\n",
      "  logger.warn(\n"
     ]
    }
   ],
   "source": [
    "model = Monte_Carlo_Tree_Search()\n",
    "print(model.root.state)"
   ]
  }
 ],
 "metadata": {
  "kernelspec": {
   "display_name": "Python 3.10.7 ('venv': venv)",
   "language": "python",
   "name": "python3"
  },
  "language_info": {
   "codemirror_mode": {
    "name": "ipython",
    "version": 3
   },
   "file_extension": ".py",
   "mimetype": "text/x-python",
   "name": "python",
   "nbconvert_exporter": "python",
   "pygments_lexer": "ipython3",
   "version": "3.10.7"
  },
  "orig_nbformat": 4,
  "vscode": {
   "interpreter": {
    "hash": "9603291928c829f89796b29b3829333c7cae232406f14762083705f04106de1f"
   }
  }
 },
 "nbformat": 4,
 "nbformat_minor": 2
}
