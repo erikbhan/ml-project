{
 "cells": [
  {
   "cell_type": "code",
   "execution_count": null,
   "metadata": {},
   "outputs": [],
   "source": [
    "# imports\n",
    "from math import sqrt, log\n",
    "import gym"
   ]
  },
  {
   "cell_type": "code",
   "execution_count": null,
   "metadata": {},
   "outputs": [],
   "source": [
    "# Global constants\n",
    "UCB_C = 2"
   ]
  },
  {
   "cell_type": "markdown",
   "metadata": {},
   "source": [
    "# Monte Carlo Three Search\n",
    "\n",
    "1. Selection\n",
    "    - Taverse the tree to find greatest UCB-score\n",
    "2. Expansion\n",
    "    - If the selected leaf node has been visited before expand by adding weighted game action\n",
    "3. Rollout\n",
    "    - Simulate the game until end-condition from the expanded leaf\n",
    "4. Back-propagation\n",
    "    - Updating the value of each ancestor node of the expanded leaf\n"
   ]
  },
  {
   "cell_type": "code",
   "execution_count": null,
   "metadata": {},
   "outputs": [],
   "source": [
    "class Node():\n",
    "    def __init__(self, state, parent):\n",
    "        self.state = state # Gamestate\n",
    "        self.value : int = 0 # Value estimate\n",
    "        self.trials : int = 0 # Number of trials for this node\n",
    "        self.parent : Node = parent # Parent node of this node\n",
    "        self.children : list[Node] = [] # List of children of this node\n",
    "    \n",
    "    # calculate a Upper Confidence Bound\n",
    "    def ucb(self, total_trials):\n",
    "        return self.value + ( UCB_C * sqrt(log(total_trials) / self.trials) )\n",
    "    \n",
    "    # Add a new node to a leaf node\n",
    "    def expansion(self, childstate):\n",
    "        self.children.append(Node(childstate, self))\n",
    "    \n",
    "    # Simulate game from current move until end-condition returning the score\n",
    "    def rollout(self):\n",
    "        # missing implementation\n",
    "        return\n",
    "\n",
    "class Monte_Carlo_Tree_Search():\n",
    "    def __init__(self):\n",
    "        self.env = go_env = gym.make('gym_go:go-v0', size=3, komi=0, reward_method='real')\n",
    "        self.number_of_trials = 0\n",
    "        self.root = Node(go_env.reset(), None)\n",
    "\n",
    "    # Update scores of all parent nodes after rollout\n",
    "    def back_propagation(rollout_node: Node, rollout_result):\n",
    "        current_node = rollout_node\n",
    "        while current_node != None:\n",
    "            current_node.trials += 1\n",
    "            current_node.value += rollout_result\n",
    "            current_node = current_node.parent\n",
    "    \n",
    "    # find and return the leaf node with the highest UCB-score \n",
    "    def selection(self, current_node: Node):\n",
    "        selected_child = None\n",
    "        current_best_ucb = 0\n",
    "        for child in current_node.children:\n",
    "            if child.ucb(self.number_of_trials) == 0:\n",
    "                return child\n",
    "            if child.ucb(self.number_of_trials) > current_best_ucb:\n",
    "                selected_child = child\n",
    "        \n",
    "        if len(selected_child.children) == 0:\n",
    "            return selected_child\n",
    "\n",
    "        return self.selection(selected_child)\n",
    "\n",
    "    def run(self):\n",
    "        while not finished: \n",
    "            selected_node = self.selection(self.root)\n",
    "            if selected_node.trials != 0:\n",
    "                selected_node.expansion()\n",
    "                selected_node = selected_node.children[0]\n",
    "            \n",
    "            rollout_result = selected_node.rollout()\n",
    "            self.back_propagation(rollout_result)\n",
    "\n",
    "\n"
   ]
  },
  {
   "cell_type": "code",
   "execution_count": null,
   "metadata": {},
   "outputs": [],
   "source": []
  }
 ],
 "metadata": {
  "kernelspec": {
   "display_name": "Python 3.10.7 ('venv': venv)",
   "language": "python",
   "name": "python3"
  },
  "language_info": {
   "name": "python",
   "version": "3.10.7"
  },
  "orig_nbformat": 4,
  "vscode": {
   "interpreter": {
    "hash": "9603291928c829f89796b29b3829333c7cae232406f14762083705f04106de1f"
   }
  }
 },
 "nbformat": 4,
 "nbformat_minor": 2
}
