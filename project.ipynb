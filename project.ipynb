{
 "cells": [
  {
   "cell_type": "code",
   "execution_count": null,
   "metadata": {},
   "outputs": [],
   "source": [
    "# imports\n",
    "from math import sqrt, log"
   ]
  },
  {
   "cell_type": "code",
   "execution_count": null,
   "metadata": {},
   "outputs": [],
   "source": [
    "# Global constants\n",
    "UCB_C = 2"
   ]
  },
  {
   "cell_type": "markdown",
   "metadata": {},
   "source": [
    "# Monte Carlo Three Search\n",
    "\n",
    "1. Selection\n",
    "    - Taverse the tree to find greatest UCB-score\n",
    "2. Expansion\n",
    "    - If the selected leaf node has been visited before expand by adding weighted game action\n",
    "3. Rollout\n",
    "    - Simulate the game until end-condition from the expanded leaf\n",
    "4. Back-propagation\n",
    "    - Updating the value of each ancestor node of the expanded leaf\n"
   ]
  },
  {
   "cell_type": "code",
   "execution_count": null,
   "metadata": {},
   "outputs": [],
   "source": [
    "class Node():\n",
    "    def __init__(self, state, parent):\n",
    "        self.state = state # Gamestate\n",
    "        self.value = 0 # Value estimate\n",
    "        self.trials = 0 # Number of trials for this node\n",
    "        self.parent = parent # Parent node of this node\n",
    "        self.children = [] # List of children of this node\n",
    "    \n",
    "    # calculate a Upper Confidence Bound\n",
    "    def ucb(self, total_trials):\n",
    "        return self.value + ( UCB_C * sqrt(log(total_trials) / self.trials) )\n",
    "    \n",
    "    # Add a new node to a leaf node\n",
    "    def expansion(self, childstate):\n",
    "        self.children.append(Node(childstate, self))\n",
    "    \n",
    "    # Simulate game from current move until end-condition returning the score\n",
    "    def rollout(self):\n",
    "        # missing implementation\n",
    "        return\n",
    "\n",
    "# find and return the leaf node with the highest UCB-score \n",
    "def selection(root):\n",
    "    # missing implementation\n",
    "    return\n",
    "\n",
    "# Update scores of all parent nodes after rollout\n",
    "def back_propagation(current_node, rollout_result):\n",
    "    # missing implementation\n",
    "    return"
   ]
  },
  {
   "cell_type": "code",
   "execution_count": null,
   "metadata": {},
   "outputs": [],
   "source": []
  }
 ],
 "metadata": {
  "kernelspec": {
   "display_name": "Python 3.10.7 64-bit",
   "language": "python",
   "name": "python3"
  },
  "language_info": {
   "name": "python",
   "version": "3.10.7"
  },
  "orig_nbformat": 4,
  "vscode": {
   "interpreter": {
    "hash": "26de051ba29f2982a8de78e945f0abaf191376122a1563185a90213a26c5da77"
   }
  }
 },
 "nbformat": 4,
 "nbformat_minor": 2
}
