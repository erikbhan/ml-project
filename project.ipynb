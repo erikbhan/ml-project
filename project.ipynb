{
 "cells": [
  {
   "cell_type": "markdown",
   "metadata": {},
   "source": [
    "### TODO\n",
    "- Factor out classes into .py-files to make notebook more concise\n",
    "- Find package versions where we don't need to filter warnings (older packages)\n",
    "- Set up pseudocode for the tournament;\n",
    "    - players, saving models, etc."
   ]
  },
  {
   "cell_type": "code",
   "execution_count": 14,
   "metadata": {},
   "outputs": [],
   "source": [
    "# ignore deprecation warnings ('safe' as long as we don't update packages)\n",
    "from warnings import filterwarnings\n",
    "filterwarnings(\"ignore\")\n",
    "\n",
    "from math import sqrt, log, inf\n",
    "import copy\n",
    "\n",
    "import gym\n",
    "from gym_go.gogame import turn, random_weighted_action, random_action\n",
    "\n",
    "import torch\n",
    "import torch.nn as nn\n",
    "import torch.optim as optim\n",
    "import torch.nn.functional as F\n",
    "\n",
    "import matplotlib.pyplot as plt\n",
    "import numpy as np\n",
    "\n",
    "from src.CNN import CNN, import_model, export_model\n",
    "from src.MCTS import Monte_Carlo_Tree_Search"
   ]
  },
  {
   "cell_type": "code",
   "execution_count": 15,
   "metadata": {},
   "outputs": [],
   "source": [
    "device = torch.device(\"cuda:0\" if torch.cuda.is_available() else \"cpu\")\n",
    "BOARD_SIZE = 5"
   ]
  },
  {
   "cell_type": "code",
   "execution_count": 16,
   "metadata": {},
   "outputs": [],
   "source": [
    "def play_game_no_render(mcts : Monte_Carlo_Tree_Search, go_env: gym.Env):\n",
    "    go_env.reset()\n",
    "    done = go_env.done\n",
    "    turn_nr = 0\n",
    "    while not done:\n",
    "        action = random_action(go_env.state())\n",
    "        _, _, done, _ = go_env.step(action)\n",
    "\n",
    "        if done:\n",
    "            continue\n",
    "\n",
    "        node = mcts.get_move_from_env(go_env)\n",
    "        _, _, done, _ = go_env.step(node.action)\n",
    "        turn_nr += 1\n",
    "        if turn_nr > 300:\n",
    "            break\n",
    "    \n",
    "    return go_env"
   ]
  },
  {
   "cell_type": "code",
   "execution_count": 17,
   "metadata": {},
   "outputs": [],
   "source": [
    "mcts_test = Monte_Carlo_Tree_Search(BOARD_SIZE, None)\n",
    "_ = mcts_test.run_game()"
   ]
  },
  {
   "cell_type": "code",
   "execution_count": 18,
   "metadata": {},
   "outputs": [
    {
     "name": "stdout",
     "output_type": "stream",
     "text": [
      "White won!\n"
     ]
    },
    {
     "ename": "KeyboardInterrupt",
     "evalue": "",
     "output_type": "error",
     "traceback": [
      "\u001b[1;31m---------------------------------------------------------------------------\u001b[0m",
      "\u001b[1;31mKeyboardInterrupt\u001b[0m                         Traceback (most recent call last)",
      "\u001b[1;32mc:\\Users\\erik\\dev\\ml-project\\project.ipynb Cell 6\u001b[0m in \u001b[0;36m<cell line: 1>\u001b[1;34m()\u001b[0m\n\u001b[0;32m      <a href='vscode-notebook-cell:/c%3A/Users/erik/dev/ml-project/project.ipynb#X43sZmlsZQ%3D%3D?line=0'>1</a>\u001b[0m \u001b[39mfor\u001b[39;00m i \u001b[39min\u001b[39;00m \u001b[39mrange\u001b[39m(\u001b[39m10\u001b[39m):\n\u001b[1;32m----> <a href='vscode-notebook-cell:/c%3A/Users/erik/dev/ml-project/project.ipynb#X43sZmlsZQ%3D%3D?line=1'>2</a>\u001b[0m     env \u001b[39m=\u001b[39m play_game_no_render(mcts_test, copy\u001b[39m.\u001b[39;49mdeepcopy(mcts_test\u001b[39m.\u001b[39;49menv))\n\u001b[0;32m      <a href='vscode-notebook-cell:/c%3A/Users/erik/dev/ml-project/project.ipynb#X43sZmlsZQ%3D%3D?line=2'>3</a>\u001b[0m     \u001b[39mif\u001b[39;00m \u001b[39mnot\u001b[39;00m env\u001b[39m.\u001b[39mdone:\n\u001b[0;32m      <a href='vscode-notebook-cell:/c%3A/Users/erik/dev/ml-project/project.ipynb#X43sZmlsZQ%3D%3D?line=3'>4</a>\u001b[0m         \u001b[39mprint\u001b[39m(\u001b[39m\"\u001b[39m\u001b[39mGame stopped after 300 turns: \u001b[39m\u001b[39m\\n\u001b[39;00m\u001b[39mIt was resigned and is a draw.\u001b[39m\u001b[39m\"\u001b[39m)\n",
      "\u001b[1;32mc:\\Users\\erik\\dev\\ml-project\\project.ipynb Cell 6\u001b[0m in \u001b[0;36mplay_game_no_render\u001b[1;34m(mcts, go_env)\u001b[0m\n\u001b[0;32m      <a href='vscode-notebook-cell:/c%3A/Users/erik/dev/ml-project/project.ipynb#X43sZmlsZQ%3D%3D?line=8'>9</a>\u001b[0m \u001b[39mif\u001b[39;00m done:\n\u001b[0;32m     <a href='vscode-notebook-cell:/c%3A/Users/erik/dev/ml-project/project.ipynb#X43sZmlsZQ%3D%3D?line=9'>10</a>\u001b[0m     \u001b[39mcontinue\u001b[39;00m\n\u001b[1;32m---> <a href='vscode-notebook-cell:/c%3A/Users/erik/dev/ml-project/project.ipynb#X43sZmlsZQ%3D%3D?line=11'>12</a>\u001b[0m node \u001b[39m=\u001b[39m mcts\u001b[39m.\u001b[39;49mget_move_from_env(go_env)\n\u001b[0;32m     <a href='vscode-notebook-cell:/c%3A/Users/erik/dev/ml-project/project.ipynb#X43sZmlsZQ%3D%3D?line=12'>13</a>\u001b[0m _, _, done, _ \u001b[39m=\u001b[39m go_env\u001b[39m.\u001b[39mstep(node\u001b[39m.\u001b[39maction)\n\u001b[0;32m     <a href='vscode-notebook-cell:/c%3A/Users/erik/dev/ml-project/project.ipynb#X43sZmlsZQ%3D%3D?line=13'>14</a>\u001b[0m turn_nr \u001b[39m+\u001b[39m\u001b[39m=\u001b[39m \u001b[39m1\u001b[39m\n",
      "File \u001b[1;32mc:\\Users\\erik\\dev\\ml-project\\MCTS.py:199\u001b[0m, in \u001b[0;36mMonte_Carlo_Tree_Search.get_move_from_env\u001b[1;34m(self, env)\u001b[0m\n\u001b[0;32m    196\u001b[0m     \u001b[39mself\u001b[39m\u001b[39m.\u001b[39mrun(\u001b[39m15\u001b[39m)\n\u001b[0;32m    197\u001b[0m     node \u001b[39m=\u001b[39m \u001b[39mself\u001b[39m\u001b[39m.\u001b[39m__find_node_from_state(env\u001b[39m.\u001b[39mstate())\n\u001b[1;32m--> 199\u001b[0m \u001b[39mself\u001b[39;49m\u001b[39m.\u001b[39;49mrun(\u001b[39m15\u001b[39;49m, node)\n\u001b[0;32m    201\u001b[0m best_child \u001b[39m=\u001b[39m \u001b[39mNone\u001b[39;00m\n\u001b[0;32m    202\u001b[0m current_best_value \u001b[39m=\u001b[39m \u001b[39m-\u001b[39minf\n",
      "File \u001b[1;32mc:\\Users\\erik\\dev\\ml-project\\MCTS.py:149\u001b[0m, in \u001b[0;36mMonte_Carlo_Tree_Search.run\u001b[1;34m(self, iterations, node)\u001b[0m\n\u001b[0;32m    146\u001b[0m     selected_node\u001b[39m.\u001b[39mexpansion()\n\u001b[0;32m    147\u001b[0m     selected_node \u001b[39m=\u001b[39m selected_node\u001b[39m.\u001b[39mchildren[\u001b[39m0\u001b[39m]\n\u001b[1;32m--> 149\u001b[0m rollout_result \u001b[39m=\u001b[39m selected_node\u001b[39m.\u001b[39;49mrollout(\u001b[39mself\u001b[39;49m\u001b[39m.\u001b[39;49mget_weighted_move)\n\u001b[0;32m    151\u001b[0m \u001b[39mself\u001b[39m\u001b[39m.\u001b[39m__back_propagation(selected_node, rollout_result)\n\u001b[0;32m    152\u001b[0m run \u001b[39m+\u001b[39m\u001b[39m=\u001b[39m \u001b[39m1\u001b[39m\n",
      "File \u001b[1;32mc:\\Users\\erik\\dev\\ml-project\\MCTS.py:66\u001b[0m, in \u001b[0;36mNode.rollout\u001b[1;34m(self, move_selection_method)\u001b[0m\n\u001b[0;32m     64\u001b[0m done \u001b[39m=\u001b[39m \u001b[39mFalse\u001b[39;00m\n\u001b[0;32m     65\u001b[0m \u001b[39mwhile\u001b[39;00m \u001b[39mnot\u001b[39;00m done:\n\u001b[1;32m---> 66\u001b[0m     random_action \u001b[39m=\u001b[39m move_selection_method(rollout_env)\n\u001b[0;32m     67\u001b[0m     _, reward, done, _ \u001b[39m=\u001b[39m rollout_env\u001b[39m.\u001b[39mstep(random_action)\n\u001b[0;32m     68\u001b[0m     rollout_result \u001b[39m+\u001b[39m\u001b[39m=\u001b[39m reward\n",
      "File \u001b[1;32mc:\\Users\\erik\\dev\\ml-project\\MCTS.py:100\u001b[0m, in \u001b[0;36mMonte_Carlo_Tree_Search.get_weighted_move\u001b[1;34m(self, env)\u001b[0m\n\u001b[0;32m     98\u001b[0m \u001b[39mdef\u001b[39;00m \u001b[39mget_weighted_move\u001b[39m(\u001b[39mself\u001b[39m, env : gym\u001b[39m.\u001b[39mEnv):\n\u001b[0;32m     99\u001b[0m     move_weights \u001b[39m=\u001b[39m \u001b[39mself\u001b[39m\u001b[39m.\u001b[39m__get_move_weights(env)\n\u001b[1;32m--> 100\u001b[0m     \u001b[39mreturn\u001b[39;00m random_weighted_action(move_weights)\n",
      "File \u001b[1;32mc:\\users\\erik\\gymgo\\gym_go\\gogame.py:392\u001b[0m, in \u001b[0;36mrandom_weighted_action\u001b[1;34m(move_weights)\u001b[0m\n\u001b[0;32m    386\u001b[0m \u001b[39m\"\"\"\u001b[39;00m\n\u001b[0;32m    387\u001b[0m \u001b[39mAssumes all invalid moves have weight 0\u001b[39;00m\n\u001b[0;32m    388\u001b[0m \u001b[39mAction is 1D\u001b[39;00m\n\u001b[0;32m    389\u001b[0m \u001b[39mExpected shape is (NUM OF MOVES, )\u001b[39;00m\n\u001b[0;32m    390\u001b[0m \u001b[39m\"\"\"\u001b[39;00m\n\u001b[0;32m    391\u001b[0m move_weights \u001b[39m=\u001b[39m preprocessing\u001b[39m.\u001b[39mnormalize(move_weights[np\u001b[39m.\u001b[39mnewaxis], norm\u001b[39m=\u001b[39m\u001b[39m'\u001b[39m\u001b[39ml1\u001b[39m\u001b[39m'\u001b[39m)\n\u001b[1;32m--> 392\u001b[0m \u001b[39mreturn\u001b[39;00m np\u001b[39m.\u001b[39mrandom\u001b[39m.\u001b[39mchoice(np\u001b[39m.\u001b[39;49marange(\u001b[39mlen\u001b[39;49m(move_weights[\u001b[39m0\u001b[39;49m])), p\u001b[39m=\u001b[39mmove_weights[\u001b[39m0\u001b[39m])\n",
      "\u001b[1;31mKeyboardInterrupt\u001b[0m: "
     ]
    }
   ],
   "source": [
    "for i in range(10):\n",
    "    env = play_game_no_render(mcts_test, copy.deepcopy(mcts_test.env))\n",
    "    if not env.done:\n",
    "        print(\"Game stopped after 300 turns: \\nIt was resigned and is a draw.\")\n",
    "        continue\n",
    "        \n",
    "    if env.reward() < 0:\n",
    "        print(\"White won!\")\n",
    "    if env.reward() > 0:\n",
    "        print(\"Black won!\")\n",
    "    if env.reward() == 0:\n",
    "        print(\"It's a draw!\")"
   ]
  },
  {
   "cell_type": "markdown",
   "metadata": {},
   "source": [
    "# Convolutional Neural Network"
   ]
  },
  {
   "cell_type": "code",
   "execution_count": 19,
   "metadata": {},
   "outputs": [],
   "source": [
    "def train_model(model, lr, momentum):\n",
    "    criterion = nn.CrossEntropyLoss()\n",
    "    optimizer = optim.SGD(model.parameters(), lr=lr, momentum=momentum)\n",
    "    model.to(device)\n",
    "    \n",
    "    for epoch in range(10):\n",
    "        mcts = Monte_Carlo_Tree_Search(BOARD_SIZE, model) # new tree\n",
    "        mcts.run_game() # run a single game to completion\n",
    "        x, y = mcts.get_tree_data() # get data\n",
    "        running_loss = .0 \n",
    "        for i in range(len(x)):\n",
    "            inputs, labels = torch.tensor(x[i], device=device), torch.tensor(y[i], device=device)\n",
    "            labels = F.softmax(labels)\n",
    "            optimizer.zero_grad()\n",
    "            outputs = model(inputs)\n",
    "            loss = criterion(outputs, labels)\n",
    "            loss.backward()\n",
    "            optimizer.step()\n",
    "            running_loss += loss.item()\n",
    "\n",
    "            if i % 10 == 9:\n",
    "                print(f'[{epoch:3d}, {i + 1:3d}] loss: {running_loss / 10:.5f}')\n",
    "                running_loss = 0.0\n",
    "\n",
    "import time\n",
    "\n",
    "def train(n_games=1000):\n",
    "    model = CNN()\n",
    "    criterion = nn.CrossEntropyLoss()\n",
    "    optimizer = optim.SGD(model.parameters(), lr=0.01, momentum=0.9)\n",
    "\n",
    "    # Stats\n",
    "    all_x, all_y, loss_values, acc_values = [], [], [], []\n",
    "    total_time = 0\n",
    "\n",
    "    # Simulate N games\n",
    "    for _ in range(n_games):\n",
    "\n",
    "        # Run a simulation and time it for statistics\n",
    "        mcts = Monte_Carlo_Tree_Search(BOARD_SIZE, model)\n",
    "        start = time.time()\n",
    "        mcts.run_game()\n",
    "        stop = time.time()\n",
    "        total_time += (stop - start)\n",
    "\n",
    "        game_loss = .0\n",
    "\n",
    "        # Train model on data\n",
    "        x, y = mcts.get_tree_data()\n",
    "        for i in range(len(x)):\n",
    "            inputs, labels = torch.tensor(x[i], device=device), torch.tensor(y[i], device=device)\n",
    "            labels = F.softmax(labels)\n",
    "            optimizer.zero_grad()\n",
    "            outputs = model(inputs)\n",
    "            loss = criterion(outputs, labels)\n",
    "            loss.backward()\n",
    "            optimizer.step()\n",
    "            game_loss += loss.item()\n",
    "            \n",
    "            # Add data to master list for accuracy calculation\n",
    "            all_x.append(x[i])\n",
    "            all_y.append(y[i])\n",
    "        \n",
    "        # After training, check accuracy against previous data\n",
    "        acc_values.append(model.avg_accuracy(all_x, all_y).item())\n",
    "        loss_values.append(game_loss/len(x))\n",
    "\n",
    "    print(f'''Finished running {n_games} games\n",
    "    Time..............: {total_time}\n",
    "    Avg. time per game: {total_time/n_games}''')\n",
    "    return model, loss_values, acc_values\n"
   ]
  },
  {
   "cell_type": "code",
   "execution_count": 20,
   "metadata": {},
   "outputs": [
    {
     "ename": "KeyboardInterrupt",
     "evalue": "",
     "output_type": "error",
     "traceback": [
      "\u001b[1;31m---------------------------------------------------------------------------\u001b[0m",
      "\u001b[1;31mKeyboardInterrupt\u001b[0m                         Traceback (most recent call last)",
      "\u001b[1;32mc:\\Users\\erik\\dev\\ml-project\\project.ipynb Cell 9\u001b[0m in \u001b[0;36m<cell line: 1>\u001b[1;34m()\u001b[0m\n\u001b[1;32m----> <a href='vscode-notebook-cell:/c%3A/Users/erik/dev/ml-project/project.ipynb#X51sZmlsZQ%3D%3D?line=0'>1</a>\u001b[0m model, loss_values, acc_values \u001b[39m=\u001b[39m train(\u001b[39m1000\u001b[39;49m)\n",
      "\u001b[1;32mc:\\Users\\erik\\dev\\ml-project\\project.ipynb Cell 9\u001b[0m in \u001b[0;36mtrain\u001b[1;34m(n_games)\u001b[0m\n\u001b[0;32m     <a href='vscode-notebook-cell:/c%3A/Users/erik/dev/ml-project/project.ipynb#X51sZmlsZQ%3D%3D?line=39'>40</a>\u001b[0m mcts \u001b[39m=\u001b[39m Monte_Carlo_Tree_Search(BOARD_SIZE, model)\n\u001b[0;32m     <a href='vscode-notebook-cell:/c%3A/Users/erik/dev/ml-project/project.ipynb#X51sZmlsZQ%3D%3D?line=40'>41</a>\u001b[0m start \u001b[39m=\u001b[39m time\u001b[39m.\u001b[39mtime()\n\u001b[1;32m---> <a href='vscode-notebook-cell:/c%3A/Users/erik/dev/ml-project/project.ipynb#X51sZmlsZQ%3D%3D?line=41'>42</a>\u001b[0m mcts\u001b[39m.\u001b[39;49mrun_game()\n\u001b[0;32m     <a href='vscode-notebook-cell:/c%3A/Users/erik/dev/ml-project/project.ipynb#X51sZmlsZQ%3D%3D?line=42'>43</a>\u001b[0m stop \u001b[39m=\u001b[39m time\u001b[39m.\u001b[39mtime()\n\u001b[0;32m     <a href='vscode-notebook-cell:/c%3A/Users/erik/dev/ml-project/project.ipynb#X51sZmlsZQ%3D%3D?line=43'>44</a>\u001b[0m total_time \u001b[39m+\u001b[39m\u001b[39m=\u001b[39m (stop \u001b[39m-\u001b[39m start)\n",
      "File \u001b[1;32mc:\\Users\\erik\\dev\\ml-project\\MCTS.py:169\u001b[0m, in \u001b[0;36mMonte_Carlo_Tree_Search.run_game\u001b[1;34m(self)\u001b[0m\n\u001b[0;32m    166\u001b[0m     selected_node \u001b[39m=\u001b[39m selected_node\u001b[39m.\u001b[39mchildren[\u001b[39m0\u001b[39m]\n\u001b[0;32m    168\u001b[0m \u001b[39m# print(\"Rollout\")\u001b[39;00m\n\u001b[1;32m--> 169\u001b[0m rollout_result \u001b[39m=\u001b[39m selected_node\u001b[39m.\u001b[39;49mrollout(\u001b[39mself\u001b[39;49m\u001b[39m.\u001b[39;49mget_weighted_move)\n\u001b[0;32m    170\u001b[0m \u001b[39mself\u001b[39m\u001b[39m.\u001b[39m__back_propagation(selected_node, rollout_result)\n\u001b[0;32m    171\u001b[0m \u001b[39m# print(\"Done:\", selected_node.env.done)\u001b[39;00m\n",
      "File \u001b[1;32mc:\\Users\\erik\\dev\\ml-project\\MCTS.py:66\u001b[0m, in \u001b[0;36mNode.rollout\u001b[1;34m(self, move_selection_method)\u001b[0m\n\u001b[0;32m     64\u001b[0m done \u001b[39m=\u001b[39m \u001b[39mFalse\u001b[39;00m\n\u001b[0;32m     65\u001b[0m \u001b[39mwhile\u001b[39;00m \u001b[39mnot\u001b[39;00m done:\n\u001b[1;32m---> 66\u001b[0m     random_action \u001b[39m=\u001b[39m move_selection_method(rollout_env)\n\u001b[0;32m     67\u001b[0m     _, reward, done, _ \u001b[39m=\u001b[39m rollout_env\u001b[39m.\u001b[39mstep(random_action)\n\u001b[0;32m     68\u001b[0m     rollout_result \u001b[39m+\u001b[39m\u001b[39m=\u001b[39m reward\n",
      "File \u001b[1;32mc:\\Users\\erik\\dev\\ml-project\\MCTS.py:99\u001b[0m, in \u001b[0;36mMonte_Carlo_Tree_Search.get_weighted_move\u001b[1;34m(self, env)\u001b[0m\n\u001b[0;32m     98\u001b[0m \u001b[39mdef\u001b[39;00m \u001b[39mget_weighted_move\u001b[39m(\u001b[39mself\u001b[39m, env : gym\u001b[39m.\u001b[39mEnv):\n\u001b[1;32m---> 99\u001b[0m     move_weights \u001b[39m=\u001b[39m \u001b[39mself\u001b[39;49m\u001b[39m.\u001b[39;49m__get_move_weights(env)\n\u001b[0;32m    100\u001b[0m     \u001b[39mreturn\u001b[39;00m random_weighted_action(move_weights)\n",
      "File \u001b[1;32mc:\\Users\\erik\\dev\\ml-project\\MCTS.py:84\u001b[0m, in \u001b[0;36mMonte_Carlo_Tree_Search.__get_move_weights\u001b[1;34m(self, env)\u001b[0m\n\u001b[0;32m     82\u001b[0m state \u001b[39m=\u001b[39m env\u001b[39m.\u001b[39mstate()\n\u001b[0;32m     83\u001b[0m \u001b[39mif\u001b[39;00m \u001b[39mself\u001b[39m\u001b[39m.\u001b[39mml_model \u001b[39mis\u001b[39;00m \u001b[39mnot\u001b[39;00m \u001b[39mNone\u001b[39;00m:\n\u001b[1;32m---> 84\u001b[0m     move_weights \u001b[39m=\u001b[39m \u001b[39mself\u001b[39;49m\u001b[39m.\u001b[39;49mml_model\u001b[39m.\u001b[39;49mforward(torch\u001b[39m.\u001b[39;49mtensor(state, device\u001b[39m=\u001b[39;49mdevice))\u001b[39m.\u001b[39mcpu()\u001b[39m.\u001b[39mdetach()\u001b[39m.\u001b[39mnumpy()\n\u001b[0;32m     85\u001b[0m \u001b[39melse\u001b[39;00m:\n\u001b[0;32m     86\u001b[0m     move_weights \u001b[39m=\u001b[39m np\u001b[39m.\u001b[39mones(ACTIONSPACE_LENGTH)\n",
      "File \u001b[1;32mc:\\Users\\erik\\dev\\ml-project\\CNN.py:21\u001b[0m, in \u001b[0;36mCNN.forward\u001b[1;34m(self, x)\u001b[0m\n\u001b[0;32m     19\u001b[0m x \u001b[39m=\u001b[39m x\u001b[39m.\u001b[39mto(device)\n\u001b[0;32m     20\u001b[0m x \u001b[39m=\u001b[39m \u001b[39mself\u001b[39m\u001b[39m.\u001b[39mpool(F\u001b[39m.\u001b[39mrelu(\u001b[39mself\u001b[39m\u001b[39m.\u001b[39mconv1(x)))\n\u001b[1;32m---> 21\u001b[0m x \u001b[39m=\u001b[39m \u001b[39mself\u001b[39m\u001b[39m.\u001b[39mpool(F\u001b[39m.\u001b[39;49mrelu(\u001b[39mself\u001b[39;49m\u001b[39m.\u001b[39;49mconv2(x)))\n\u001b[0;32m     22\u001b[0m x \u001b[39m=\u001b[39m torch\u001b[39m.\u001b[39mflatten(x, \u001b[39m0\u001b[39m, \u001b[39m-\u001b[39m\u001b[39m1\u001b[39m)\n\u001b[0;32m     23\u001b[0m x \u001b[39m=\u001b[39m F\u001b[39m.\u001b[39msoftmax(\u001b[39mself\u001b[39m\u001b[39m.\u001b[39mfc1(x))\n",
      "File \u001b[1;32mc:\\Users\\erik\\miniconda3\\envs\\ml-project\\lib\\site-packages\\torch\\nn\\functional.py:1457\u001b[0m, in \u001b[0;36mrelu\u001b[1;34m(input, inplace)\u001b[0m\n\u001b[0;32m   1455\u001b[0m     result \u001b[39m=\u001b[39m torch\u001b[39m.\u001b[39mrelu_(\u001b[39minput\u001b[39m)\n\u001b[0;32m   1456\u001b[0m \u001b[39melse\u001b[39;00m:\n\u001b[1;32m-> 1457\u001b[0m     result \u001b[39m=\u001b[39m torch\u001b[39m.\u001b[39;49mrelu(\u001b[39minput\u001b[39;49m)\n\u001b[0;32m   1458\u001b[0m \u001b[39mreturn\u001b[39;00m result\n",
      "\u001b[1;31mKeyboardInterrupt\u001b[0m: "
     ]
    }
   ],
   "source": [
    "model, loss_values, acc_values = train(1000)"
   ]
  },
  {
   "cell_type": "code",
   "execution_count": null,
   "metadata": {},
   "outputs": [
    {
     "name": "stdout",
     "output_type": "stream",
     "text": [
      "[3.258183387203823, 3.257353039377346, 3.2553978168084465, 3.257621145147345, 3.257438591855839]\n",
      "[0.03125, 0.1666666716337204, 0.16853933036327362, 0.19745223224163055, 0.1913580298423767]\n"
     ]
    },
    {
     "data": {
      "text/plain": [
       "[<matplotlib.lines.Line2D at 0x205e08905e0>]"
      ]
     },
     "execution_count": 24,
     "metadata": {},
     "output_type": "execute_result"
    },
    {
     "data": {
      "image/png": "[encoded data removed]",
      "text/plain": [
       "<Figure size 640x480 with 1 Axes>"
      ]
     },
     "metadata": {},
     "output_type": "display_data"
    }
   ],
   "source": [
    "plt.plot(acc_values)"
   ]
  },
  {
   "cell_type": "code",
   "execution_count": null,
   "metadata": {},
   "outputs": [
    {
     "data": {
      "text/plain": [
       "[<matplotlib.lines.Line2D at 0x237acbf8dc0>]"
      ]
     },
     "execution_count": 74,
     "metadata": {},
     "output_type": "execute_result"
    },
    {
     "data": {
      "image/png": "[encoded data removed]",
      "text/plain": [
       "<Figure size 640x480 with 1 Axes>"
      ]
     },
     "metadata": {},
     "output_type": "display_data"
    }
   ],
   "source": [
    "plt.plot(loss_values)"
   ]
  },
  {
   "cell_type": "markdown",
   "metadata": {},
   "source": [
    "# MCTS and CNN combined"
   ]
  },
  {
   "cell_type": "markdown",
   "metadata": {},
   "source": [
    "1. Create an MCTS\n",
    "2. Generate a lot of data from the MCTS\n",
    "3. Use the data to train a CNN\n",
    "4. Use the CNN in a new MCTS to hopefully make the MCTS make better choices\n",
    "5. Generate new data with the new MCTS\n",
    "6. Train a new CNN... repeat ad infinitum"
   ]
  },
  {
   "cell_type": "code",
   "execution_count": null,
   "metadata": {},
   "outputs": [],
   "source": [
    "cnn = CNN()\n",
    "# mcts = Monte_Carlo_Tree_Search(BOARD_SIZE, None)\n",
    "# mcts.run(1000)\n",
    "# x, y = mcts.get_tree_data()\n",
    "# print(\"Datapoints: \", len(x))\n",
    "# criterion = nn.CrossEntropyLoss()\n",
    "# optimizer = optim.SGD(cnn.parameters(), lr=0.001, momentum=0.9)\n",
    "# cnn.to(device)\n",
    "# for i in range(len(x)):\n",
    "#     inputs, labels = torch.tensor(x[i], device=device), torch.tensor(y[i], device=device)\n",
    "#     labels = F.softmax(labels)\n",
    "#     optimizer.zero_grad()\n",
    "#     outputs = cnn(inputs)\n",
    "#     loss = criterion(outputs, labels)\n",
    "#     loss.backward()\n",
    "#     optimizer.step()\n",
    "\n",
    "# train_model(cnn, .01, .9)"
   ]
  }
 ],
 "metadata": {
  "kernelspec": {
   "display_name": "Python 3.9.13 ('ml-project')",
   "language": "python",
   "name": "python3"
  },
  "language_info": {
   "codemirror_mode": {
    "name": "ipython",
    "version": 3
   },
   "file_extension": ".py",
   "mimetype": "text/x-python",
   "name": "python",
   "nbconvert_exporter": "python",
   "pygments_lexer": "ipython3",
   "version": "3.9.13"
  },
  "orig_nbformat": 4,
  "vscode": {
   "interpreter": {
    "hash": "554e4e9be84610b8cfdc647d12e0c13356c189fbf7b6128724357bba0c0ac4f1"
   }
  }
 },
 "nbformat": 4,
 "nbformat_minor": 2
}
