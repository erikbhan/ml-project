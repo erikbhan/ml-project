{
 "cells": [
  {
   "cell_type": "code",
   "execution_count": 5,
   "metadata": {},
   "outputs": [],
   "source": [
    "import gym"
   ]
  },
  {
   "cell_type": "code",
   "execution_count": 6,
   "metadata": {},
   "outputs": [],
   "source": [
    "go_env = gym.make('gym_go:go-v0', size=7, komi=0, reward_method='real')"
   ]
  },
  {
   "cell_type": "code",
   "execution_count": 7,
   "metadata": {},
   "outputs": [
    {
     "ename": "AssertionError",
     "evalue": "Cannot call env.step() before calling reset()",
     "output_type": "error",
     "traceback": [
      "\u001b[1;31m---------------------------------------------------------------------------\u001b[0m",
      "\u001b[1;31mAssertionError\u001b[0m                            Traceback (most recent call last)",
      "Cell \u001b[1;32mIn [7], line 3\u001b[0m\n\u001b[0;32m      1\u001b[0m first_action \u001b[39m=\u001b[39m (\u001b[39m2\u001b[39m,\u001b[39m5\u001b[39m)\n\u001b[0;32m      2\u001b[0m second_action \u001b[39m=\u001b[39m (\u001b[39m5\u001b[39m,\u001b[39m2\u001b[39m)\n\u001b[1;32m----> 3\u001b[0m state, reward, done, info \u001b[39m=\u001b[39m go_env\u001b[39m.\u001b[39;49mstep(first_action)\n\u001b[0;32m      4\u001b[0m go_env\u001b[39m.\u001b[39mrender(\u001b[39m'\u001b[39m\u001b[39mterminal\u001b[39m\u001b[39m'\u001b[39m)\n\u001b[0;32m      5\u001b[0m state, reward, done, info \u001b[39m=\u001b[39m go_env\u001b[39m.\u001b[39mstep(second_action)\n",
      "File \u001b[1;32mc:\\Users\\erik\\miniconda3\\envs\\ml-project\\lib\\site-packages\\gym\\wrappers\\order_enforcing.py:10\u001b[0m, in \u001b[0;36mOrderEnforcing.step\u001b[1;34m(self, action)\u001b[0m\n\u001b[0;32m      9\u001b[0m \u001b[39mdef\u001b[39;00m \u001b[39mstep\u001b[39m(\u001b[39mself\u001b[39m, action):\n\u001b[1;32m---> 10\u001b[0m     \u001b[39massert\u001b[39;00m \u001b[39mself\u001b[39m\u001b[39m.\u001b[39m_has_reset, \u001b[39m\"\u001b[39m\u001b[39mCannot call env.step() before calling reset()\u001b[39m\u001b[39m\"\u001b[39m\n\u001b[0;32m     11\u001b[0m     observation, reward, done, info \u001b[39m=\u001b[39m \u001b[39mself\u001b[39m\u001b[39m.\u001b[39menv\u001b[39m.\u001b[39mstep(action)\n\u001b[0;32m     12\u001b[0m     \u001b[39mreturn\u001b[39;00m observation, reward, done, info\n",
      "\u001b[1;31mAssertionError\u001b[0m: Cannot call env.step() before calling reset()"
     ]
    }
   ],
   "source": [
    "first_action = (2,5)\n",
    "second_action = (5,2)\n",
    "go_env.reset()\n",
    "state, reward, done, info = go_env.step(first_action)\n",
    "go_env.render('terminal')\n",
    "state, reward, done, info = go_env.step(second_action)\n",
    "go_env.render('terminal')"
   ]
  }
 ],
 "metadata": {
  "kernelspec": {
   "display_name": "Python 3.11.0 ('ml-project')",
   "language": "python",
   "name": "python3"
  },
  "language_info": {
   "codemirror_mode": {
    "name": "ipython",
    "version": 3
   },
   "file_extension": ".py",
   "mimetype": "text/x-python",
   "name": "python",
   "nbconvert_exporter": "python",
   "pygments_lexer": "ipython3",
   "version": "3.8.13"
  },
  "orig_nbformat": 4,
  "vscode": {
   "interpreter": {
    "hash": "554e4e9be84610b8cfdc647d12e0c13356c189fbf7b6128724357bba0c0ac4f1"
   }
  }
 },
 "nbformat": 4,
 "nbformat_minor": 2
}
