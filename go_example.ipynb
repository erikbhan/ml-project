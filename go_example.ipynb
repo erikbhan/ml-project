{
 "cells": [
  {
   "cell_type": "code",
   "execution_count": 117,
   "metadata": {},
   "outputs": [
    {
     "name": "stdout",
     "output_type": "stream",
     "text": [
      "illegal move: (1, 1)\n",
      "illegal move: (0, 0)\n",
      "illegal move: (1, 1)\n",
      "illegal move: (2, 2)\n",
      "illegal move: (3, 2)\n",
      "illegal move: (0, 0)\n",
      "illegal move: (2, 2)\n",
      "illegal move: (1, 1)\n",
      "illegal move: (2, 2)\n",
      "illegal move: (4, 2)\n",
      "illegal move: (0, 4)\n",
      "illegal move: (0, 0)\n",
      "illegal move: (0, 4)\n",
      "illegal move: (0, 4)\n",
      "illegal move: (1, 1)\n",
      "illegal move: (1, 1)\n",
      "illegal move: (3, 3)\n",
      "illegal move: (2, 0)\n",
      "illegal move: (3, 0)\n",
      "illegal move: (3, 3)\n",
      "illegal move: (1, 0)\n",
      "illegal move: (3, 3)\n",
      "illegal move: (0, 4)\n",
      "illegal move: (3, 3)\n",
      "illegal move: (0, 4)\n",
      "illegal move: (0, 0)\n",
      "illegal move: (2, 0)\n",
      "illegal move: (2, 0)\n",
      "illegal move: (0, 1)\n",
      "illegal move: (2, 0)\n",
      "illegal move: (2, 2)\n",
      "illegal move: (2, 3)\n",
      "illegal move: (0, 1)\n",
      "illegal move: (0, 3)\n",
      "illegal move: (3, 2)\n",
      "illegal move: (2, 0)\n",
      "illegal move: (1, 1)\n",
      "illegal move: (2, 2)\n",
      "illegal move: (1, 0)\n",
      "illegal move: (2, 3)\n",
      "illegal move: (2, 4)\n",
      "illegal move: (4, 2)\n",
      "illegal move: (2, 0)\n",
      "illegal move: (3, 3)\n",
      "illegal move: (3, 3)\n",
      "illegal move: (1, 3)\n",
      "illegal move: (0, 4)\n",
      "illegal move: (0, 4)\n",
      "illegal move: (2, 2)\n"
     ]
    },
    {
     "ename": "IndexError",
     "evalue": "index 5 is out of bounds for axis 1 with size 5",
     "output_type": "error",
     "traceback": [
      "\u001b[1;31m---------------------------------------------------------------------------\u001b[0m",
      "\u001b[1;31mIndexError\u001b[0m                                Traceback (most recent call last)",
      "\u001b[1;32mc:\\Users\\erik\\dev\\ml-project\\go_example.ipynb Cell 1\u001b[0m in \u001b[0;36m<cell line: 28>\u001b[1;34m()\u001b[0m\n\u001b[0;32m     <a href='vscode-notebook-cell:/c%3A/Users/erik/dev/ml-project/go_example.ipynb#W1sZmlsZQ%3D%3D?line=26'>27</a>\u001b[0m state, reward, done, info \u001b[39m=\u001b[39m go_env\u001b[39m.\u001b[39mstep(get_legal_move(go_env))\n\u001b[0;32m     <a href='vscode-notebook-cell:/c%3A/Users/erik/dev/ml-project/go_example.ipynb#W1sZmlsZQ%3D%3D?line=27'>28</a>\u001b[0m \u001b[39mwhile\u001b[39;00m \u001b[39mnot\u001b[39;00m done:\n\u001b[1;32m---> <a href='vscode-notebook-cell:/c%3A/Users/erik/dev/ml-project/go_example.ipynb#W1sZmlsZQ%3D%3D?line=28'>29</a>\u001b[0m     action \u001b[39m=\u001b[39m get_legal_move(go_env)\n\u001b[0;32m     <a href='vscode-notebook-cell:/c%3A/Users/erik/dev/ml-project/go_example.ipynb#W1sZmlsZQ%3D%3D?line=29'>30</a>\u001b[0m     state, reward, done, info \u001b[39m=\u001b[39m go_env\u001b[39m.\u001b[39mstep(action)\n",
      "\u001b[1;32mc:\\Users\\erik\\dev\\ml-project\\go_example.ipynb Cell 1\u001b[0m in \u001b[0;36mget_legal_move\u001b[1;34m(go_env)\u001b[0m\n\u001b[0;32m     <a href='vscode-notebook-cell:/c%3A/Users/erik/dev/ml-project/go_example.ipynb#W1sZmlsZQ%3D%3D?line=11'>12</a>\u001b[0m \u001b[39mif\u001b[39;00m (go_env\u001b[39m.\u001b[39mstate()[\u001b[39m3\u001b[39m]\u001b[39m.\u001b[39mall() \u001b[39m==\u001b[39m \u001b[39m1\u001b[39m):\n\u001b[0;32m     <a href='vscode-notebook-cell:/c%3A/Users/erik/dev/ml-project/go_example.ipynb#W1sZmlsZQ%3D%3D?line=12'>13</a>\u001b[0m     \u001b[39mreturn\u001b[39;00m np\u001b[39m.\u001b[39mprod(board_shape)\n\u001b[1;32m---> <a href='vscode-notebook-cell:/c%3A/Users/erik/dev/ml-project/go_example.ipynb#W1sZmlsZQ%3D%3D?line=14'>15</a>\u001b[0m \u001b[39mwhile\u001b[39;00m go_env\u001b[39m.\u001b[39;49mstate()[\u001b[39m3\u001b[39;49m, action2d[\u001b[39m0\u001b[39;49m], action2d[\u001b[39m1\u001b[39;49m]] \u001b[39m==\u001b[39m \u001b[39m1\u001b[39m:\n\u001b[0;32m     <a href='vscode-notebook-cell:/c%3A/Users/erik/dev/ml-project/go_example.ipynb#W1sZmlsZQ%3D%3D?line=15'>16</a>\u001b[0m     \u001b[39mprint\u001b[39m(\u001b[39m\"\u001b[39m\u001b[39millegal move:\u001b[39m\u001b[39m\"\u001b[39m, action2d)\n\u001b[0;32m     <a href='vscode-notebook-cell:/c%3A/Users/erik/dev/ml-project/go_example.ipynb#W1sZmlsZQ%3D%3D?line=16'>17</a>\u001b[0m     action \u001b[39m=\u001b[39m go_env\u001b[39m.\u001b[39maction_space\u001b[39m.\u001b[39msample()\n",
      "\u001b[1;31mIndexError\u001b[0m: index 5 is out of bounds for axis 1 with size 5"
     ]
    }
   ],
   "source": [
    "import gym, random\n",
    "import numpy as np\n",
    "\n",
    "def get_legal_move(go_env):\n",
    "    action = go_env.action_space.sample() # pick random action\n",
    "    board_shape = go_env.state().shape[1:]\n",
    "\n",
    "    if (action == (np.prod(board_shape))):\n",
    "        return action\n",
    "    \n",
    "    action2d = action % board_shape[0], action % board_shape[1]\n",
    "    if (go_env.state()[3].all() == 1):\n",
    "        return np.prod(board_shape)\n",
    "    \n",
    "    while go_env.state()[3, action2d[0], action2d[1]] == 1:\n",
    "        print(\"illegal move:\", action2d)\n",
    "        action = go_env.action_space.sample()\n",
    "        action2d = action % board_shape[0], action % board_shape[1]\n",
    "    return action\n",
    "\n",
    "\n",
    "go_env = gym.make('gym_go:go-v0', size=5, komi=0, reward_method='real')\n",
    "go_env.reset()\n",
    "# go_env.render('terminal')\n",
    "action = go_env.action_space.sample()\n",
    "\n",
    "state, reward, done, info = go_env.step(get_legal_move(go_env))\n",
    "while not done:\n",
    "    action = get_legal_move(go_env)\n",
    "    state, reward, done, info = go_env.step(action)\n",
    "# go_env.render('terminal')"
   ]
  }
 ],
 "metadata": {
  "kernelspec": {
   "display_name": "Python 3.9.13 ('ml-project')",
   "language": "python",
   "name": "python3"
  },
  "language_info": {
   "codemirror_mode": {
    "name": "ipython",
    "version": 3
   },
   "file_extension": ".py",
   "mimetype": "text/x-python",
   "name": "python",
   "nbconvert_exporter": "python",
   "pygments_lexer": "ipython3",
   "version": "3.9.13"
  },
  "orig_nbformat": 4,
  "vscode": {
   "interpreter": {
    "hash": "554e4e9be84610b8cfdc647d12e0c13356c189fbf7b6128724357bba0c0ac4f1"
   }
  }
 },
 "nbformat": 4,
 "nbformat_minor": 2
}
