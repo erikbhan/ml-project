{
 "cells": [
  {
   "cell_type": "code",
   "execution_count": 9,
   "metadata": {},
   "outputs": [],
   "source": [
    "import gym"
   ]
  },
  {
   "cell_type": "code",
   "execution_count": 10,
   "metadata": {},
   "outputs": [],
   "source": [
    "go_env = gym.make('gym_go:go-v0', size=7, komi=0, reward_method='real')"
   ]
  },
  {
   "cell_type": "code",
   "execution_count": 11,
   "metadata": {},
   "outputs": [
    {
     "name": "stdout",
     "output_type": "stream",
     "text": [
      "\t0 1 2 3 4 5 6 \n",
      "0\t╔═╤═╤═╤═╤═╤═╗\n",
      "1\t╟─┼─┼─┼─┼─┼─╢\n",
      "2\t╟─┼─┼─┼─┼─○─╢\n",
      "3\t╟─┼─┼─┼─┼─┼─╢\n",
      "4\t╟─┼─┼─┼─┼─┼─╢\n",
      "5\t╟─┼─┼─┼─┼─┼─╢\n",
      "6\t╚═╧═╧═╧═╧═╧═╝\n",
      "\tTurn: WHITE, Game State (ONGOING|PASSED|END): ONGOING\n",
      "\tBlack Area: 49, White Area: 0\n",
      "\n"
     ]
    }
   ],
   "source": [
    "go_env.reset()\n",
    "first_action = (2,5)\n",
    "state, reward, done, info = go_env.step(first_action)\n",
    "go_env.render('terminal')"
   ]
  },
  {
   "cell_type": "code",
   "execution_count": 12,
   "metadata": {},
   "outputs": [
    {
     "name": "stdout",
     "output_type": "stream",
     "text": [
      "\t0 1 2 3 4 5 6 \n",
      "0\t╔═╤═╤═╤═╤═╤═╗\n",
      "1\t╟─┼─┼─┼─┼─┼─╢\n",
      "2\t╟─┼─┼─┼─┼─○─╢\n",
      "3\t╟─┼─┼─┼─┼─┼─╢\n",
      "4\t╟─┼─┼─┼─┼─┼─╢\n",
      "5\t╟─┼─●─┼─┼─┼─╢\n",
      "6\t╚═╧═╧═╧═╧═╧═╝\n",
      "\tTurn: BLACK, Game State (ONGOING|PASSED|END): ONGOING\n",
      "\tBlack Area: 1, White Area: 1\n",
      "\n"
     ]
    }
   ],
   "source": [
    "\n",
    "second_action = (5,2)\n",
    "state, reward, done, info = go_env.step(second_action)\n",
    "go_env.render('terminal')"
   ]
  }
 ],
 "metadata": {
  "kernelspec": {
   "display_name": "Python 3.10.7 ('venv': venv)",
   "language": "python",
   "name": "python3"
  },
  "language_info": {
   "codemirror_mode": {
    "name": "ipython",
    "version": 3
   },
   "file_extension": ".py",
   "mimetype": "text/x-python",
   "name": "python",
   "nbconvert_exporter": "python",
   "pygments_lexer": "ipython3",
   "version": "3.10.7"
  },
  "orig_nbformat": 4,
  "vscode": {
   "interpreter": {
    "hash": "9603291928c829f89796b29b3829333c7cae232406f14762083705f04106de1f"
   }
  }
 },
 "nbformat": 4,
 "nbformat_minor": 2
}
